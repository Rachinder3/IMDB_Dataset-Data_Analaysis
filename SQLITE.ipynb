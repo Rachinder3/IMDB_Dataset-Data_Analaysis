{
 "cells": [
  {
   "cell_type": "code",
   "execution_count": 3,
   "id": "deff977f",
   "metadata": {},
   "outputs": [],
   "source": [
    "import sqlite3"
   ]
  },
  {
   "cell_type": "markdown",
   "id": "1c6ecea9",
   "metadata": {},
   "source": [
    "## Connecting with SQlite db"
   ]
  },
  {
   "cell_type": "code",
   "execution_count": 6,
   "id": "6b3afde0",
   "metadata": {},
   "outputs": [],
   "source": [
    "db=sqlite3.connect('IMDB.sqlite')"
   ]
  },
  {
   "cell_type": "code",
   "execution_count": 7,
   "id": "adfa8590",
   "metadata": {},
   "outputs": [
    {
     "data": {
      "text/plain": [
       "<sqlite3.Connection at 0x20cd6c0f990>"
      ]
     },
     "execution_count": 7,
     "metadata": {},
     "output_type": "execute_result"
    }
   ],
   "source": [
    "db"
   ]
  },
  {
   "cell_type": "markdown",
   "id": "b3775105",
   "metadata": {},
   "source": [
    "#### Creating new database"
   ]
  },
  {
   "cell_type": "code",
   "execution_count": 8,
   "id": "6d53d10a",
   "metadata": {},
   "outputs": [],
   "source": [
    "db=sqlite3.connect('school.sqlite')"
   ]
  },
  {
   "cell_type": "markdown",
   "id": "54e2aa98",
   "metadata": {},
   "source": [
    "***This will create a blank sqlite db for us. We can use db browser to visualize this db***"
   ]
  },
  {
   "cell_type": "markdown",
   "id": "c60fcdff",
   "metadata": {},
   "source": [
    "## Cursor Object"
   ]
  },
  {
   "cell_type": "code",
   "execution_count": 11,
   "id": "9d5af666",
   "metadata": {},
   "outputs": [],
   "source": [
    "cur=db.cursor()"
   ]
  },
  {
   "cell_type": "code",
   "execution_count": 13,
   "id": "128caf46",
   "metadata": {},
   "outputs": [
    {
     "data": {
      "text/plain": [
       "<sqlite3.Cursor at 0x20cd6992b90>"
      ]
     },
     "execution_count": 13,
     "metadata": {},
     "output_type": "execute_result"
    }
   ],
   "source": [
    "sql_query='create table student(rollno int primary key, name text, age int)'\n",
    "\n",
    "cur.execute(sql_query)"
   ]
  },
  {
   "cell_type": "code",
   "execution_count": 14,
   "id": "ce8b5887",
   "metadata": {},
   "outputs": [
    {
     "data": {
      "text/plain": [
       "<sqlite3.Cursor at 0x20cd6992b90>"
      ]
     },
     "execution_count": 14,
     "metadata": {},
     "output_type": "execute_result"
    }
   ],
   "source": [
    "cur.execute('insert into student values(101,\"Aman\",20)')"
   ]
  },
  {
   "cell_type": "markdown",
   "id": "32dea604",
   "metadata": {},
   "source": [
    "##### Commiting the transaction"
   ]
  },
  {
   "cell_type": "code",
   "execution_count": 16,
   "id": "8239bfc0",
   "metadata": {},
   "outputs": [],
   "source": [
    "db.commit()"
   ]
  },
  {
   "cell_type": "code",
   "execution_count": 17,
   "id": "98f6afc0",
   "metadata": {},
   "outputs": [
    {
     "data": {
      "text/plain": [
       "<sqlite3.Cursor at 0x20cd6992b90>"
      ]
     },
     "execution_count": 17,
     "metadata": {},
     "output_type": "execute_result"
    }
   ],
   "source": [
    "cur.execute('insert into student values(102,\"Saurav\",21)')"
   ]
  },
  {
   "cell_type": "code",
   "execution_count": 18,
   "id": "46514ba5",
   "metadata": {},
   "outputs": [],
   "source": [
    "db.commit()"
   ]
  },
  {
   "cell_type": "code",
   "execution_count": 19,
   "id": "968ef8b3",
   "metadata": {},
   "outputs": [],
   "source": [
    "db.close()"
   ]
  },
  {
   "cell_type": "code",
   "execution_count": null,
   "id": "abf6bef0",
   "metadata": {},
   "outputs": [],
   "source": []
  },
  {
   "cell_type": "markdown",
   "id": "1afc7a39",
   "metadata": {},
   "source": [
    "###### Ques. Create employee database and Emplyee Table"
   ]
  },
  {
   "cell_type": "code",
   "execution_count": 23,
   "id": "2dec851e",
   "metadata": {},
   "outputs": [],
   "source": [
    "import sqlite3\n",
    "db=sqlite3.connect('Employee.sqlite')"
   ]
  },
  {
   "cell_type": "code",
   "execution_count": 24,
   "id": "9e2ad3b1",
   "metadata": {},
   "outputs": [],
   "source": [
    "cur=db.cursor()"
   ]
  },
  {
   "cell_type": "code",
   "execution_count": 25,
   "id": "94d9ff9b",
   "metadata": {},
   "outputs": [
    {
     "data": {
      "text/plain": [
       "<sqlite3.Cursor at 0x20cd74d0110>"
      ]
     },
     "execution_count": 25,
     "metadata": {},
     "output_type": "execute_result"
    }
   ],
   "source": [
    "cur.execute('create table Employee(employee_id int primary key, name text, age int, department text, salary int)')"
   ]
  },
  {
   "cell_type": "code",
   "execution_count": 26,
   "id": "eb4acf62",
   "metadata": {},
   "outputs": [],
   "source": [
    "cur.execute('insert into Employee values(100,\"Rishav\",25,\"Marketing\",50000)')\n",
    "db.commit()"
   ]
  },
  {
   "cell_type": "code",
   "execution_count": 27,
   "id": "1a4376fc",
   "metadata": {},
   "outputs": [],
   "source": [
    "cur.execute('insert into Employee values(101,\"Abhishek\",26,\"Operations\",60000)')\n",
    "db.commit()"
   ]
  },
  {
   "cell_type": "code",
   "execution_count": 28,
   "id": "17a03b74",
   "metadata": {},
   "outputs": [],
   "source": [
    "cur.execute('insert into Employee values(102,\"Aman\",24,\"Human Resource\",75000)')\n",
    "db.commit()"
   ]
  },
  {
   "cell_type": "markdown",
   "id": "5bf4ca38",
   "metadata": {},
   "source": [
    "### Passing the paramters in query"
   ]
  },
  {
   "cell_type": "code",
   "execution_count": 35,
   "id": "52fd7712",
   "metadata": {},
   "outputs": [],
   "source": [
    "db=sqlite3.connect('school.sqlite')"
   ]
  },
  {
   "cell_type": "code",
   "execution_count": 37,
   "id": "f7c9bfe7",
   "metadata": {},
   "outputs": [],
   "source": [
    "cur=db.cursor()"
   ]
  },
  {
   "cell_type": "code",
   "execution_count": 38,
   "id": "44c3bbde",
   "metadata": {},
   "outputs": [
    {
     "data": {
      "text/plain": [
       "<sqlite3.Cursor at 0x20cd73f53b0>"
      ]
     },
     "execution_count": 38,
     "metadata": {},
     "output_type": "execute_result"
    }
   ],
   "source": [
    "cur.execute('insert into student values(103,\"Mohit\",24)')"
   ]
  },
  {
   "cell_type": "code",
   "execution_count": 39,
   "id": "9c48dce2",
   "metadata": {},
   "outputs": [],
   "source": [
    "db.commit()"
   ]
  },
  {
   "cell_type": "code",
   "execution_count": 40,
   "id": "7f0e21ce",
   "metadata": {},
   "outputs": [],
   "source": [
    "rollNo=104\n",
    "Name=\"Nikhil\"\n",
    "Age=34\n",
    "\n",
    "\n",
    "sql_query=\"insert into student values({},{},{})\".format(rollNo,Name,Age)"
   ]
  },
  {
   "cell_type": "code",
   "execution_count": 42,
   "id": "ef9ed2de",
   "metadata": {},
   "outputs": [],
   "source": [
    "cur.execute?"
   ]
  },
  {
   "cell_type": "code",
   "execution_count": 43,
   "id": "24d737e1",
   "metadata": {},
   "outputs": [
    {
     "data": {
      "text/plain": [
       "('Insert into student values(?,?,?)', (104, 'Nikhil', 34))"
      ]
     },
     "execution_count": 43,
     "metadata": {},
     "output_type": "execute_result"
    }
   ],
   "source": [
    "'Insert into student values(?,?,?)',(rollNo, Name, Age)"
   ]
  },
  {
   "cell_type": "code",
   "execution_count": 44,
   "id": "c4fb2b41",
   "metadata": {},
   "outputs": [
    {
     "data": {
      "text/plain": [
       "<sqlite3.Cursor at 0x20cd73f53b0>"
      ]
     },
     "execution_count": 44,
     "metadata": {},
     "output_type": "execute_result"
    }
   ],
   "source": [
    "cur.execute('Insert into student values(?,?,?)',(rollNo, Name, Age))"
   ]
  },
  {
   "cell_type": "code",
   "execution_count": 45,
   "id": "eee002e1",
   "metadata": {},
   "outputs": [],
   "source": [
    "db.commit()"
   ]
  },
  {
   "cell_type": "code",
   "execution_count": 52,
   "id": "0bb25ad5",
   "metadata": {},
   "outputs": [],
   "source": [
    "rollNo=105\n",
    "Name=\"Nikhila\"\n",
    "Age=35\n",
    "\n",
    "\n",
    "sql_query='''insert into student values({},\"{}\",{})'''.format(rollNo,Name,Age)\n",
    "cur.execute(sql_query)\n",
    "db.commit()"
   ]
  },
  {
   "cell_type": "code",
   "execution_count": 51,
   "id": "acbe9702",
   "metadata": {},
   "outputs": [
    {
     "data": {
      "text/plain": [
       "'insert into student values(105,\"Nikhila\",35)'"
      ]
     },
     "execution_count": 51,
     "metadata": {},
     "output_type": "execute_result"
    }
   ],
   "source": []
  },
  {
   "cell_type": "code",
   "execution_count": 54,
   "id": "19eff932",
   "metadata": {},
   "outputs": [],
   "source": [
    "values=[(106,\"Nidhi\",20),(108,\"Manisha\",21),(107,\"Ankush\",22)]\n",
    "\n",
    "cur.executemany('Insert into student values(?,?,?)',values)\n",
    "db.commit()"
   ]
  },
  {
   "cell_type": "markdown",
   "id": "ba9393ab",
   "metadata": {},
   "source": [
    "#### Update and Delete"
   ]
  },
  {
   "cell_type": "code",
   "execution_count": 56,
   "id": "a5b6cd2a",
   "metadata": {},
   "outputs": [
    {
     "data": {
      "text/plain": [
       "<sqlite3.Cursor at 0x20cd73f53b0>"
      ]
     },
     "execution_count": 56,
     "metadata": {},
     "output_type": "execute_result"
    }
   ],
   "source": [
    "cur.execute('Update student set age=30')"
   ]
  },
  {
   "cell_type": "code",
   "execution_count": 57,
   "id": "57cdb6f6",
   "metadata": {},
   "outputs": [],
   "source": [
    "db.commit()"
   ]
  },
  {
   "cell_type": "markdown",
   "id": "b9684fd6",
   "metadata": {},
   "source": [
    "#### Updating with condition"
   ]
  },
  {
   "cell_type": "code",
   "execution_count": 59,
   "id": "0abb6597",
   "metadata": {},
   "outputs": [
    {
     "data": {
      "text/plain": [
       "<sqlite3.Cursor at 0x20cd73f53b0>"
      ]
     },
     "execution_count": 59,
     "metadata": {},
     "output_type": "execute_result"
    }
   ],
   "source": [
    "cur.execute('Update student set age=20 where rollno=103')"
   ]
  },
  {
   "cell_type": "code",
   "execution_count": 60,
   "id": "cf3e5e99",
   "metadata": {},
   "outputs": [],
   "source": [
    "db.commit()"
   ]
  },
  {
   "cell_type": "markdown",
   "id": "90d9f1df",
   "metadata": {},
   "source": [
    "##### Using arguements to update"
   ]
  },
  {
   "cell_type": "code",
   "execution_count": 65,
   "id": "e55c5b21",
   "metadata": {},
   "outputs": [
    {
     "data": {
      "text/plain": [
       "<sqlite3.Cursor at 0x20cd73f53b0>"
      ]
     },
     "execution_count": 65,
     "metadata": {},
     "output_type": "execute_result"
    }
   ],
   "source": [
    "roll=103\n",
    "\n",
    "cur.execute('Update student set age=43 where rollNo=?',(roll,))"
   ]
  },
  {
   "cell_type": "code",
   "execution_count": 66,
   "id": "9662c90b",
   "metadata": {},
   "outputs": [],
   "source": [
    "db.commit()"
   ]
  },
  {
   "cell_type": "markdown",
   "id": "78d7f636",
   "metadata": {},
   "source": [
    "## Ques Drop index"
   ]
  },
  {
   "cell_type": "code",
   "execution_count": 67,
   "id": "c0043386",
   "metadata": {},
   "outputs": [],
   "source": [
    "db=sqlite3.connect('Employee.sqlite')"
   ]
  },
  {
   "cell_type": "code",
   "execution_count": 68,
   "id": "bfc9942d",
   "metadata": {},
   "outputs": [],
   "source": [
    "cur=db.cursor()"
   ]
  },
  {
   "cell_type": "code",
   "execution_count": 69,
   "id": "04c49e54",
   "metadata": {},
   "outputs": [
    {
     "data": {
      "text/plain": [
       "<sqlite3.Cursor at 0x20cd7396570>"
      ]
     },
     "execution_count": 69,
     "metadata": {},
     "output_type": "execute_result"
    }
   ],
   "source": [
    "cur.execute('delete from  employee where employee_id=101')"
   ]
  },
  {
   "cell_type": "code",
   "execution_count": 70,
   "id": "993a04fc",
   "metadata": {},
   "outputs": [],
   "source": [
    "db.commit()"
   ]
  },
  {
   "cell_type": "markdown",
   "id": "dda7c1ef",
   "metadata": {},
   "source": [
    "##### Ques Dropping with paramter"
   ]
  },
  {
   "cell_type": "code",
   "execution_count": 71,
   "id": "160e004a",
   "metadata": {},
   "outputs": [
    {
     "data": {
      "text/plain": [
       "<sqlite3.Cursor at 0x20cd7396570>"
      ]
     },
     "execution_count": 71,
     "metadata": {},
     "output_type": "execute_result"
    }
   ],
   "source": [
    "rollNo=102\n",
    "\n",
    "cur.execute('delete from employee where employee_id=?',(rollNo,))"
   ]
  },
  {
   "cell_type": "code",
   "execution_count": 72,
   "id": "9c8387fc",
   "metadata": {},
   "outputs": [],
   "source": [
    "db.commit()"
   ]
  },
  {
   "cell_type": "markdown",
   "id": "e5c46977",
   "metadata": {},
   "source": [
    "#### Ques Update SQL Table"
   ]
  },
  {
   "cell_type": "code",
   "execution_count": 73,
   "id": "a9ce1047",
   "metadata": {},
   "outputs": [],
   "source": [
    "employee_id=[101,102,103,104,105,106,107,108,109,110,111,112]\n",
    "name=['Aadarsh','Aarti','Siddharth','Aman','Amit','Shivansh','Vaibhav','Himanshu','Raman','Kunal','Adhira','Tanya']\n",
    "age=[25,27,25,24,30,26,23,26,25,26,29,24]\n",
    "department=['Marketing','Operations','Finance','Human Resource','Marketing','IT','Finance','IT','Operations','Marketing','Human Resource','Marketing']\n",
    "salary=[50000,60000,85000,75000,50000,90000,85000,90000,60000,50000,75000,50000]"
   ]
  },
  {
   "cell_type": "code",
   "execution_count": 74,
   "id": "43ff9ee2",
   "metadata": {},
   "outputs": [],
   "source": [
    "query_list=[]\n",
    "\n",
    "for i in range(len(employee_id)):\n",
    "    temp_tuple=(employee_id[i],name[i], age[i],department[i],salary[i])\n",
    "    query_list.append(temp_tuple)"
   ]
  },
  {
   "cell_type": "code",
   "execution_count": 76,
   "id": "98f6f759",
   "metadata": {},
   "outputs": [
    {
     "data": {
      "text/plain": [
       "<sqlite3.Cursor at 0x20cd7396570>"
      ]
     },
     "execution_count": 76,
     "metadata": {},
     "output_type": "execute_result"
    }
   ],
   "source": [
    "# Adding into employee database\n",
    "\n",
    "cur.executemany('Insert into employee values(?,?,?,?,?)', query_list)"
   ]
  },
  {
   "cell_type": "code",
   "execution_count": 77,
   "id": "fb8795b4",
   "metadata": {},
   "outputs": [],
   "source": [
    "db.commit()"
   ]
  },
  {
   "cell_type": "markdown",
   "id": "91738048",
   "metadata": {},
   "source": [
    "## Fetch Data"
   ]
  },
  {
   "cell_type": "code",
   "execution_count": 78,
   "id": "b0f22909",
   "metadata": {},
   "outputs": [],
   "source": [
    "db=sqlite3.connect('school.sqlite')"
   ]
  },
  {
   "cell_type": "code",
   "execution_count": 79,
   "id": "7006ec41",
   "metadata": {},
   "outputs": [],
   "source": [
    "cur=db.cursor()"
   ]
  },
  {
   "cell_type": "code",
   "execution_count": 87,
   "id": "5d3a6680",
   "metadata": {},
   "outputs": [
    {
     "data": {
      "text/plain": [
       "<sqlite3.Cursor at 0x20cd68c9dc0>"
      ]
     },
     "execution_count": 87,
     "metadata": {},
     "output_type": "execute_result"
    }
   ],
   "source": [
    "cur.execute('Select * from student')\n"
   ]
  },
  {
   "cell_type": "code",
   "execution_count": 82,
   "id": "35b23701",
   "metadata": {},
   "outputs": [
    {
     "name": "stdout",
     "output_type": "stream",
     "text": [
      "(101, 'Aman', 30)\n",
      "(102, 'Saurav', 30)\n",
      "(103, 'Mohit', 43)\n",
      "(104, 'Nikhil', 30)\n",
      "(105, 'Nikhila', 30)\n",
      "(106, 'Nidhi', 30)\n",
      "(108, 'Manisha', 30)\n",
      "(107, 'Ankush', 30)\n"
     ]
    }
   ],
   "source": [
    "for row in cur:\n",
    "    print(row)"
   ]
  },
  {
   "cell_type": "code",
   "execution_count": 89,
   "id": "b88dbadc",
   "metadata": {},
   "outputs": [
    {
     "data": {
      "text/plain": [
       "(101, 'Aman', 30)"
      ]
     },
     "execution_count": 89,
     "metadata": {},
     "output_type": "execute_result"
    }
   ],
   "source": [
    "cur.execute('Select * from student')\n",
    "cur.fetchone()"
   ]
  },
  {
   "cell_type": "code",
   "execution_count": 90,
   "id": "7b7feb06",
   "metadata": {},
   "outputs": [
    {
     "data": {
      "text/plain": [
       "[(102, 'Saurav', 30), (103, 'Mohit', 43), (104, 'Nikhil', 30)]"
      ]
     },
     "execution_count": 90,
     "metadata": {},
     "output_type": "execute_result"
    }
   ],
   "source": [
    "cur.fetchmany(3)"
   ]
  },
  {
   "cell_type": "code",
   "execution_count": 91,
   "id": "6b277998",
   "metadata": {},
   "outputs": [
    {
     "data": {
      "text/plain": [
       "[(105, 'Nikhila', 30)]"
      ]
     },
     "execution_count": 91,
     "metadata": {},
     "output_type": "execute_result"
    }
   ],
   "source": [
    "cur.fetchmany()"
   ]
  },
  {
   "cell_type": "code",
   "execution_count": 92,
   "id": "14d19d58",
   "metadata": {},
   "outputs": [
    {
     "data": {
      "text/plain": [
       "[(106, 'Nidhi', 30), (108, 'Manisha', 30), (107, 'Ankush', 30)]"
      ]
     },
     "execution_count": 92,
     "metadata": {},
     "output_type": "execute_result"
    }
   ],
   "source": [
    "cur.fetchall()"
   ]
  },
  {
   "cell_type": "markdown",
   "id": "d2808a44",
   "metadata": {},
   "source": [
    "#### Ques Finance Employee SQLite"
   ]
  },
  {
   "cell_type": "code",
   "execution_count": 121,
   "id": "10fbbf7c",
   "metadata": {},
   "outputs": [],
   "source": [
    "import sqlite3\n",
    "\n",
    "db=sqlite3.connect('Employee.sqlite')"
   ]
  },
  {
   "cell_type": "code",
   "execution_count": 122,
   "id": "0b7d80b9",
   "metadata": {},
   "outputs": [],
   "source": [
    "cur=db.cursor()"
   ]
  },
  {
   "cell_type": "code",
   "execution_count": 124,
   "id": "777ba66b",
   "metadata": {},
   "outputs": [],
   "source": [
    "cur.execute('delete from employee where employee_id=100')\n",
    "db.commit()"
   ]
  },
  {
   "cell_type": "code",
   "execution_count": 125,
   "id": "80461b7a",
   "metadata": {},
   "outputs": [
    {
     "data": {
      "text/plain": [
       "<sqlite3.Cursor at 0x20cd93bad50>"
      ]
     },
     "execution_count": 125,
     "metadata": {},
     "output_type": "execute_result"
    }
   ],
   "source": [
    "cur.execute('Select employee_id from employee where department=\"Finance\"')"
   ]
  },
  {
   "cell_type": "code",
   "execution_count": 126,
   "id": "3ba1b04d",
   "metadata": {},
   "outputs": [
    {
     "data": {
      "text/plain": [
       "[(103,), (107,)]"
      ]
     },
     "execution_count": 126,
     "metadata": {},
     "output_type": "execute_result"
    }
   ],
   "source": [
    "cur.fetchall()"
   ]
  },
  {
   "cell_type": "markdown",
   "id": "2d1499fc",
   "metadata": {},
   "source": [
    "#### Ques. Find Employee"
   ]
  },
  {
   "cell_type": "code",
   "execution_count": 132,
   "id": "89140373",
   "metadata": {},
   "outputs": [
    {
     "data": {
      "text/plain": [
       "<sqlite3.Cursor at 0x20cd93bad50>"
      ]
     },
     "execution_count": 132,
     "metadata": {},
     "output_type": "execute_result"
    }
   ],
   "source": [
    "cur.execute('Select department, count(department) from employee group by department')"
   ]
  },
  {
   "cell_type": "code",
   "execution_count": 133,
   "id": "12bdf3c7",
   "metadata": {},
   "outputs": [
    {
     "data": {
      "text/plain": [
       "[('Finance', 2),\n",
       " ('Human Resource', 2),\n",
       " ('IT', 2),\n",
       " ('Marketing', 4),\n",
       " ('Operations', 2)]"
      ]
     },
     "execution_count": 133,
     "metadata": {},
     "output_type": "execute_result"
    }
   ],
   "source": [
    "cur.fetchall()"
   ]
  },
  {
   "cell_type": "markdown",
   "id": "1121f6e8",
   "metadata": {},
   "source": [
    "## SQLite with Pandas"
   ]
  },
  {
   "cell_type": "code",
   "execution_count": 137,
   "id": "1c6cdc80",
   "metadata": {},
   "outputs": [],
   "source": [
    "db=sqlite3.connect('school.sqlite')\n",
    "cur=db.cursor()"
   ]
  },
  {
   "cell_type": "code",
   "execution_count": 138,
   "id": "2a5a6fa8",
   "metadata": {},
   "outputs": [],
   "source": [
    "import pandas as pd"
   ]
  },
  {
   "cell_type": "code",
   "execution_count": 141,
   "id": "3f7765a2",
   "metadata": {},
   "outputs": [],
   "source": [
    "#pd.read_sql_query?"
   ]
  },
  {
   "cell_type": "code",
   "execution_count": 142,
   "id": "35ff359a",
   "metadata": {},
   "outputs": [],
   "source": [
    "df=pd.read_sql_query('select * from student', db)"
   ]
  },
  {
   "cell_type": "code",
   "execution_count": 145,
   "id": "7a830968",
   "metadata": {},
   "outputs": [
    {
     "data": {
      "text/html": [
       "<div>\n",
       "<style scoped>\n",
       "    .dataframe tbody tr th:only-of-type {\n",
       "        vertical-align: middle;\n",
       "    }\n",
       "\n",
       "    .dataframe tbody tr th {\n",
       "        vertical-align: top;\n",
       "    }\n",
       "\n",
       "    .dataframe thead th {\n",
       "        text-align: right;\n",
       "    }\n",
       "</style>\n",
       "<table border=\"1\" class=\"dataframe\">\n",
       "  <thead>\n",
       "    <tr style=\"text-align: right;\">\n",
       "      <th></th>\n",
       "      <th>rollno</th>\n",
       "      <th>name</th>\n",
       "      <th>age</th>\n",
       "    </tr>\n",
       "  </thead>\n",
       "  <tbody>\n",
       "    <tr>\n",
       "      <th>0</th>\n",
       "      <td>101</td>\n",
       "      <td>Aman</td>\n",
       "      <td>30</td>\n",
       "    </tr>\n",
       "    <tr>\n",
       "      <th>1</th>\n",
       "      <td>102</td>\n",
       "      <td>Saurav</td>\n",
       "      <td>30</td>\n",
       "    </tr>\n",
       "    <tr>\n",
       "      <th>3</th>\n",
       "      <td>104</td>\n",
       "      <td>Nikhil</td>\n",
       "      <td>30</td>\n",
       "    </tr>\n",
       "    <tr>\n",
       "      <th>4</th>\n",
       "      <td>105</td>\n",
       "      <td>Nikhila</td>\n",
       "      <td>30</td>\n",
       "    </tr>\n",
       "    <tr>\n",
       "      <th>5</th>\n",
       "      <td>106</td>\n",
       "      <td>Nidhi</td>\n",
       "      <td>30</td>\n",
       "    </tr>\n",
       "    <tr>\n",
       "      <th>6</th>\n",
       "      <td>108</td>\n",
       "      <td>Manisha</td>\n",
       "      <td>30</td>\n",
       "    </tr>\n",
       "    <tr>\n",
       "      <th>7</th>\n",
       "      <td>107</td>\n",
       "      <td>Ankush</td>\n",
       "      <td>30</td>\n",
       "    </tr>\n",
       "  </tbody>\n",
       "</table>\n",
       "</div>"
      ],
      "text/plain": [
       "   rollno     name  age\n",
       "0     101     Aman   30\n",
       "1     102   Saurav   30\n",
       "3     104   Nikhil   30\n",
       "4     105  Nikhila   30\n",
       "5     106    Nidhi   30\n",
       "6     108  Manisha   30\n",
       "7     107   Ankush   30"
      ]
     },
     "execution_count": 145,
     "metadata": {},
     "output_type": "execute_result"
    }
   ],
   "source": [
    "df[df['age']<31]"
   ]
  },
  {
   "cell_type": "markdown",
   "id": "b88ce6e0",
   "metadata": {},
   "source": [
    "##### Converting data frame to table"
   ]
  },
  {
   "cell_type": "code",
   "execution_count": 150,
   "id": "08a45609",
   "metadata": {},
   "outputs": [],
   "source": [
    "data=pd.DataFrame([[201,'Aman','English',2000],[202,'Komal','Maths',22000],[203,'Mahesh','Science',20000]], columns=['ID','Name','Course','Salaray'])"
   ]
  },
  {
   "cell_type": "code",
   "execution_count": 151,
   "id": "b18d7978",
   "metadata": {},
   "outputs": [
    {
     "data": {
      "text/html": [
       "<div>\n",
       "<style scoped>\n",
       "    .dataframe tbody tr th:only-of-type {\n",
       "        vertical-align: middle;\n",
       "    }\n",
       "\n",
       "    .dataframe tbody tr th {\n",
       "        vertical-align: top;\n",
       "    }\n",
       "\n",
       "    .dataframe thead th {\n",
       "        text-align: right;\n",
       "    }\n",
       "</style>\n",
       "<table border=\"1\" class=\"dataframe\">\n",
       "  <thead>\n",
       "    <tr style=\"text-align: right;\">\n",
       "      <th></th>\n",
       "      <th>ID</th>\n",
       "      <th>Name</th>\n",
       "      <th>Course</th>\n",
       "      <th>Salaray</th>\n",
       "    </tr>\n",
       "  </thead>\n",
       "  <tbody>\n",
       "    <tr>\n",
       "      <th>0</th>\n",
       "      <td>201</td>\n",
       "      <td>Aman</td>\n",
       "      <td>English</td>\n",
       "      <td>2000</td>\n",
       "    </tr>\n",
       "    <tr>\n",
       "      <th>1</th>\n",
       "      <td>202</td>\n",
       "      <td>Komal</td>\n",
       "      <td>Maths</td>\n",
       "      <td>22000</td>\n",
       "    </tr>\n",
       "    <tr>\n",
       "      <th>2</th>\n",
       "      <td>203</td>\n",
       "      <td>Mahesh</td>\n",
       "      <td>Science</td>\n",
       "      <td>20000</td>\n",
       "    </tr>\n",
       "  </tbody>\n",
       "</table>\n",
       "</div>"
      ],
      "text/plain": [
       "    ID    Name   Course  Salaray\n",
       "0  201    Aman  English     2000\n",
       "1  202   Komal    Maths    22000\n",
       "2  203  Mahesh  Science    20000"
      ]
     },
     "execution_count": 151,
     "metadata": {},
     "output_type": "execute_result"
    }
   ],
   "source": [
    "data"
   ]
  },
  {
   "cell_type": "code",
   "execution_count": 153,
   "id": "4262a3d7",
   "metadata": {},
   "outputs": [],
   "source": [
    "data.to_sql?"
   ]
  },
  {
   "cell_type": "code",
   "execution_count": 149,
   "id": "480b54dc",
   "metadata": {},
   "outputs": [],
   "source": [
    "data.to_sql('Faculty',db)"
   ]
  },
  {
   "cell_type": "markdown",
   "id": "500175dc",
   "metadata": {},
   "source": [
    "#### Adding another column"
   ]
  },
  {
   "cell_type": "code",
   "execution_count": 155,
   "id": "6623e6a3",
   "metadata": {},
   "outputs": [],
   "source": [
    "data=pd.read_sql_query('Select * from Faculty',db)\n",
    "data[\"Address\"]='test'\n",
    "data.to_sql(\"Faculty\",db,if_exists='replace')"
   ]
  },
  {
   "cell_type": "markdown",
   "id": "ef5d49a0",
   "metadata": {},
   "source": [
    "## Ques Count Genre"
   ]
  },
  {
   "cell_type": "code",
   "execution_count": 157,
   "id": "7a9119ec",
   "metadata": {},
   "outputs": [
    {
     "name": "stdout",
     "output_type": "stream",
     "text": [
      " Volume in drive C is Windows\n",
      " Volume Serial Number is 9C86-D6F3\n",
      "\n",
      " Directory of C:\\Users\\rachi\\Desktop\\Coding ninjas cpp\\Python Codes\\SQLlite\n",
      "\n",
      "26-08-2021  23:52    <DIR>          .\n",
      "26-08-2021  23:52    <DIR>          ..\n",
      "26-08-2021  08:55    <DIR>          .ipynb_checkpoints\n",
      "10-03-2019  17:44    <DIR>          __MACOSX\n",
      "26-08-2021  09:04            36,133 0000000000001822.zip\n",
      "28-02-2019  11:25             4,893 Connect With DB.ipynb\n",
      "26-08-2021  20:38            12,288 Employee.sqlite\n",
      "26-02-2019  00:34            86,016 IMDB.sqlite\n",
      "26-08-2021  23:51            20,480 school.sqlite\n",
      "26-08-2021  23:52            26,831 SQLITE.ipynb\n",
      "               6 File(s)        186,641 bytes\n",
      "               4 Dir(s)  44,666,753,024 bytes free\n"
     ]
    }
   ],
   "source": [
    "ls"
   ]
  },
  {
   "cell_type": "code",
   "execution_count": 158,
   "id": "574a95e3",
   "metadata": {},
   "outputs": [],
   "source": [
    "import sqlite3\n",
    "import pandas as pd"
   ]
  },
  {
   "cell_type": "code",
   "execution_count": 159,
   "id": "cf731cd5",
   "metadata": {},
   "outputs": [],
   "source": [
    "db=sqlite3.connect('IMDB.sqlite')"
   ]
  },
  {
   "cell_type": "code",
   "execution_count": 160,
   "id": "f8010c69",
   "metadata": {},
   "outputs": [
    {
     "data": {
      "text/plain": [
       "<sqlite3.Connection at 0x20cd9f0b7b0>"
      ]
     },
     "execution_count": 160,
     "metadata": {},
     "output_type": "execute_result"
    }
   ],
   "source": [
    "db"
   ]
  },
  {
   "cell_type": "code",
   "execution_count": 161,
   "id": "73d3e8bb",
   "metadata": {},
   "outputs": [],
   "source": [
    "df=pd.read_sql_query('Select * from genre',db)"
   ]
  },
  {
   "cell_type": "code",
   "execution_count": 168,
   "id": "1af72c05",
   "metadata": {},
   "outputs": [
    {
     "data": {
      "text/plain": [
       "genre\n",
       "             41\n",
       "Action       33\n",
       "Adventure    43\n",
       "Animation    13\n",
       "Biography    21\n",
       "Comedy       31\n",
       "Crime        11\n",
       "Drama        77\n",
       "Family        3\n",
       "Fantasy       7\n",
       "History       6\n",
       "Horror        2\n",
       "Music         3\n",
       "Musical       1\n",
       "Mystery       7\n",
       "Romance      13\n",
       "Sci-Fi       18\n",
       "Sport         3\n",
       "Thriller     14\n",
       "War           2\n",
       "Western       2\n",
       "Name: genre, dtype: int64"
      ]
     },
     "execution_count": 168,
     "metadata": {},
     "output_type": "execute_result"
    }
   ],
   "source": [
    "df.groupby('genre')['genre'].count()"
   ]
  },
  {
   "cell_type": "markdown",
   "id": "325092dd",
   "metadata": {},
   "source": [
    "### Ques. IMDB Movie"
   ]
  },
  {
   "cell_type": "code",
   "execution_count": 169,
   "id": "ff94509d",
   "metadata": {},
   "outputs": [],
   "source": [
    "import sqlite3\n",
    "import pandas as pd"
   ]
  },
  {
   "cell_type": "code",
   "execution_count": 170,
   "id": "23e48aab",
   "metadata": {},
   "outputs": [],
   "source": [
    "db=sqlite3.connect('IMDB.sqlite')"
   ]
  },
  {
   "cell_type": "code",
   "execution_count": 171,
   "id": "a63b9253",
   "metadata": {},
   "outputs": [],
   "source": [
    "df=pd.read_sql_query('select * from IMDB inner join earning on IMDB.Movie_id=earning.Movie_ID', db)"
   ]
  },
  {
   "cell_type": "code",
   "execution_count": 172,
   "id": "789a9f52",
   "metadata": {},
   "outputs": [
    {
     "data": {
      "text/html": [
       "<div>\n",
       "<style scoped>\n",
       "    .dataframe tbody tr th:only-of-type {\n",
       "        vertical-align: middle;\n",
       "    }\n",
       "\n",
       "    .dataframe tbody tr th {\n",
       "        vertical-align: top;\n",
       "    }\n",
       "\n",
       "    .dataframe thead th {\n",
       "        text-align: right;\n",
       "    }\n",
       "</style>\n",
       "<table border=\"1\" class=\"dataframe\">\n",
       "  <thead>\n",
       "    <tr style=\"text-align: right;\">\n",
       "      <th></th>\n",
       "      <th>Movie_id</th>\n",
       "      <th>Title</th>\n",
       "      <th>Rating</th>\n",
       "      <th>TotalVotes</th>\n",
       "      <th>MetaCritic</th>\n",
       "      <th>Budget</th>\n",
       "      <th>Runtime</th>\n",
       "      <th>CVotes10</th>\n",
       "      <th>CVotes09</th>\n",
       "      <th>CVotes08</th>\n",
       "      <th>...</th>\n",
       "      <th>Votes45A</th>\n",
       "      <th>Votes45AM</th>\n",
       "      <th>Votes45AF</th>\n",
       "      <th>VotesIMDB</th>\n",
       "      <th>Votes1000</th>\n",
       "      <th>VotesUS</th>\n",
       "      <th>VotesnUS</th>\n",
       "      <th>Movie_id</th>\n",
       "      <th>Domestic</th>\n",
       "      <th>Worldwide</th>\n",
       "    </tr>\n",
       "  </thead>\n",
       "  <tbody>\n",
       "    <tr>\n",
       "      <th>0</th>\n",
       "      <td>36809</td>\n",
       "      <td>12 Years a Slave (2013)</td>\n",
       "      <td>8.1</td>\n",
       "      <td>496092</td>\n",
       "      <td>96</td>\n",
       "      <td>20000000.0</td>\n",
       "      <td>134 min</td>\n",
       "      <td>75556</td>\n",
       "      <td>126223</td>\n",
       "      <td>161460</td>\n",
       "      <td>...</td>\n",
       "      <td>7.8</td>\n",
       "      <td>7.8</td>\n",
       "      <td>8.1</td>\n",
       "      <td>8.0</td>\n",
       "      <td>7.7</td>\n",
       "      <td>8.3</td>\n",
       "      <td>8.0</td>\n",
       "      <td>36809</td>\n",
       "      <td>56671993</td>\n",
       "      <td>1.877332e+08</td>\n",
       "    </tr>\n",
       "    <tr>\n",
       "      <th>1</th>\n",
       "      <td>30114</td>\n",
       "      <td>127 Hours (2010)</td>\n",
       "      <td>7.6</td>\n",
       "      <td>297075</td>\n",
       "      <td>82</td>\n",
       "      <td>18000000.0</td>\n",
       "      <td>94 min</td>\n",
       "      <td>28939</td>\n",
       "      <td>44110</td>\n",
       "      <td>98845</td>\n",
       "      <td>...</td>\n",
       "      <td>7.3</td>\n",
       "      <td>7.3</td>\n",
       "      <td>7.5</td>\n",
       "      <td>7.6</td>\n",
       "      <td>7.0</td>\n",
       "      <td>7.7</td>\n",
       "      <td>7.6</td>\n",
       "      <td>30114</td>\n",
       "      <td>18335230</td>\n",
       "      <td>6.073880e+07</td>\n",
       "    </tr>\n",
       "    <tr>\n",
       "      <th>2</th>\n",
       "      <td>37367</td>\n",
       "      <td>50/50 (2011)</td>\n",
       "      <td>7.7</td>\n",
       "      <td>283935</td>\n",
       "      <td>72</td>\n",
       "      <td>8000000.0</td>\n",
       "      <td>100 min</td>\n",
       "      <td>28304</td>\n",
       "      <td>47501</td>\n",
       "      <td>99524</td>\n",
       "      <td>...</td>\n",
       "      <td>7.4</td>\n",
       "      <td>7.4</td>\n",
       "      <td>7.5</td>\n",
       "      <td>7.4</td>\n",
       "      <td>7.0</td>\n",
       "      <td>7.9</td>\n",
       "      <td>7.6</td>\n",
       "      <td>37367</td>\n",
       "      <td>35014192</td>\n",
       "      <td>3.918778e+07</td>\n",
       "    </tr>\n",
       "    <tr>\n",
       "      <th>3</th>\n",
       "      <td>49473</td>\n",
       "      <td>About Time (2013)</td>\n",
       "      <td>7.8</td>\n",
       "      <td>225412</td>\n",
       "      <td></td>\n",
       "      <td>12000000.0</td>\n",
       "      <td>123 min</td>\n",
       "      <td>38556</td>\n",
       "      <td>43170</td>\n",
       "      <td>70850</td>\n",
       "      <td>...</td>\n",
       "      <td>7.6</td>\n",
       "      <td>7.5</td>\n",
       "      <td>7.8</td>\n",
       "      <td>7.7</td>\n",
       "      <td>6.9</td>\n",
       "      <td>7.8</td>\n",
       "      <td>7.7</td>\n",
       "      <td>49473</td>\n",
       "      <td>15322921</td>\n",
       "      <td>8.710045e+07</td>\n",
       "    </tr>\n",
       "    <tr>\n",
       "      <th>4</th>\n",
       "      <td>14867</td>\n",
       "      <td>Amour (2012)</td>\n",
       "      <td>7.9</td>\n",
       "      <td>76121</td>\n",
       "      <td>94</td>\n",
       "      <td>8900000.0</td>\n",
       "      <td>127 min</td>\n",
       "      <td>11093</td>\n",
       "      <td>15944</td>\n",
       "      <td>22942</td>\n",
       "      <td>...</td>\n",
       "      <td>7.9</td>\n",
       "      <td>7.8</td>\n",
       "      <td>8.1</td>\n",
       "      <td>6.6</td>\n",
       "      <td>7.2</td>\n",
       "      <td>7.9</td>\n",
       "      <td>7.8</td>\n",
       "      <td>14867</td>\n",
       "      <td>6739492</td>\n",
       "      <td>1.983949e+07</td>\n",
       "    </tr>\n",
       "    <tr>\n",
       "      <th>...</th>\n",
       "      <td>...</td>\n",
       "      <td>...</td>\n",
       "      <td>...</td>\n",
       "      <td>...</td>\n",
       "      <td>...</td>\n",
       "      <td>...</td>\n",
       "      <td>...</td>\n",
       "      <td>...</td>\n",
       "      <td>...</td>\n",
       "      <td>...</td>\n",
       "      <td>...</td>\n",
       "      <td>...</td>\n",
       "      <td>...</td>\n",
       "      <td>...</td>\n",
       "      <td>...</td>\n",
       "      <td>...</td>\n",
       "      <td>...</td>\n",
       "      <td>...</td>\n",
       "      <td>...</td>\n",
       "      <td>...</td>\n",
       "      <td>...</td>\n",
       "    </tr>\n",
       "    <tr>\n",
       "      <th>112</th>\n",
       "      <td>38262</td>\n",
       "      <td>Whiplash (2014)</td>\n",
       "      <td>8.5</td>\n",
       "      <td>492285</td>\n",
       "      <td>88</td>\n",
       "      <td>3300000.0</td>\n",
       "      <td>107 min</td>\n",
       "      <td>110404</td>\n",
       "      <td>161864</td>\n",
       "      <td>132656</td>\n",
       "      <td>...</td>\n",
       "      <td>8.1</td>\n",
       "      <td>8.1</td>\n",
       "      <td>8.2</td>\n",
       "      <td>8.7</td>\n",
       "      <td>8.0</td>\n",
       "      <td>8.6</td>\n",
       "      <td>8.4</td>\n",
       "      <td>38262</td>\n",
       "      <td>13092000</td>\n",
       "      <td>4.898204e+07</td>\n",
       "    </tr>\n",
       "    <tr>\n",
       "      <th>113</th>\n",
       "      <td>10023</td>\n",
       "      <td>Wreck-It Ralph (2012)</td>\n",
       "      <td>7.7</td>\n",
       "      <td>295125</td>\n",
       "      <td>72</td>\n",
       "      <td>165000000.0</td>\n",
       "      <td></td>\n",
       "      <td>41980</td>\n",
       "      <td>50262</td>\n",
       "      <td>96477</td>\n",
       "      <td>...</td>\n",
       "      <td>7.4</td>\n",
       "      <td>7.4</td>\n",
       "      <td>7.5</td>\n",
       "      <td>7.4</td>\n",
       "      <td>7.2</td>\n",
       "      <td>7.9</td>\n",
       "      <td>7.6</td>\n",
       "      <td>10023</td>\n",
       "      <td>189422889</td>\n",
       "      <td>4.712229e+08</td>\n",
       "    </tr>\n",
       "    <tr>\n",
       "      <th>114</th>\n",
       "      <td>27783</td>\n",
       "      <td>X-Men: Days of Future Past (2014)</td>\n",
       "      <td>8.0</td>\n",
       "      <td>560736</td>\n",
       "      <td>74</td>\n",
       "      <td>200000000.0</td>\n",
       "      <td>132 min</td>\n",
       "      <td>91765</td>\n",
       "      <td>127521</td>\n",
       "      <td>183578</td>\n",
       "      <td>...</td>\n",
       "      <td>7.7</td>\n",
       "      <td>7.7</td>\n",
       "      <td>7.9</td>\n",
       "      <td>7.5</td>\n",
       "      <td>7.4</td>\n",
       "      <td>8.1</td>\n",
       "      <td>7.9</td>\n",
       "      <td>27783</td>\n",
       "      <td>233921534</td>\n",
       "      <td>7.478628e+08</td>\n",
       "    </tr>\n",
       "    <tr>\n",
       "      <th>115</th>\n",
       "      <td>42294</td>\n",
       "      <td>X-Men: First Class (2011)</td>\n",
       "      <td>7.8</td>\n",
       "      <td>556713</td>\n",
       "      <td>65</td>\n",
       "      <td>160000000.0</td>\n",
       "      <td>132 min</td>\n",
       "      <td>64428</td>\n",
       "      <td>96219</td>\n",
       "      <td>200144</td>\n",
       "      <td>...</td>\n",
       "      <td>7.6</td>\n",
       "      <td>7.5</td>\n",
       "      <td>7.7</td>\n",
       "      <td>7.6</td>\n",
       "      <td>7.3</td>\n",
       "      <td>7.8</td>\n",
       "      <td>7.7</td>\n",
       "      <td>42294</td>\n",
       "      <td>146408305</td>\n",
       "      <td>3.536241e+08</td>\n",
       "    </tr>\n",
       "    <tr>\n",
       "      <th>116</th>\n",
       "      <td>32217</td>\n",
       "      <td>Zootopia (2016)</td>\n",
       "      <td>8.1</td>\n",
       "      <td>309474</td>\n",
       "      <td>78</td>\n",
       "      <td>150000000.0</td>\n",
       "      <td>108 min</td>\n",
       "      <td>53626</td>\n",
       "      <td>70912</td>\n",
       "      <td>102352</td>\n",
       "      <td>...</td>\n",
       "      <td>7.8</td>\n",
       "      <td>7.8</td>\n",
       "      <td>8.1</td>\n",
       "      <td>7.7</td>\n",
       "      <td>7.6</td>\n",
       "      <td>8.0</td>\n",
       "      <td>8.0</td>\n",
       "      <td>32217</td>\n",
       "      <td>341268248</td>\n",
       "      <td>1.023784e+09</td>\n",
       "    </tr>\n",
       "  </tbody>\n",
       "</table>\n",
       "<p>117 rows × 55 columns</p>\n",
       "</div>"
      ],
      "text/plain": [
       "    Movie_id                              Title  Rating  TotalVotes  \\\n",
       "0      36809            12 Years a Slave (2013)     8.1      496092   \n",
       "1      30114                   127 Hours (2010)     7.6      297075   \n",
       "2      37367                       50/50 (2011)     7.7      283935   \n",
       "3      49473                  About Time (2013)     7.8      225412   \n",
       "4      14867                       Amour (2012)     7.9       76121   \n",
       "..       ...                                ...     ...         ...   \n",
       "112    38262                    Whiplash (2014)     8.5      492285   \n",
       "113    10023              Wreck-It Ralph (2012)     7.7      295125   \n",
       "114    27783  X-Men: Days of Future Past (2014)     8.0      560736   \n",
       "115    42294          X-Men: First Class (2011)     7.8      556713   \n",
       "116    32217                    Zootopia (2016)     8.1      309474   \n",
       "\n",
       "    MetaCritic       Budget  Runtime CVotes10 CVotes09 CVotes08  ... Votes45A  \\\n",
       "0           96   20000000.0  134 min    75556   126223   161460  ...      7.8   \n",
       "1           82   18000000.0   94 min    28939    44110    98845  ...      7.3   \n",
       "2           72    8000000.0  100 min    28304    47501    99524  ...      7.4   \n",
       "3                12000000.0  123 min    38556    43170    70850  ...      7.6   \n",
       "4           94    8900000.0  127 min    11093    15944    22942  ...      7.9   \n",
       "..         ...          ...      ...      ...      ...      ...  ...      ...   \n",
       "112         88    3300000.0  107 min   110404   161864   132656  ...      8.1   \n",
       "113         72  165000000.0             41980    50262    96477  ...      7.4   \n",
       "114         74  200000000.0  132 min    91765   127521   183578  ...      7.7   \n",
       "115         65  160000000.0  132 min    64428    96219   200144  ...      7.6   \n",
       "116         78  150000000.0  108 min    53626    70912   102352  ...      7.8   \n",
       "\n",
       "    Votes45AM Votes45AF VotesIMDB Votes1000 VotesUS VotesnUS Movie_id  \\\n",
       "0         7.8       8.1       8.0       7.7     8.3      8.0    36809   \n",
       "1         7.3       7.5       7.6       7.0     7.7      7.6    30114   \n",
       "2         7.4       7.5       7.4       7.0     7.9      7.6    37367   \n",
       "3         7.5       7.8       7.7       6.9     7.8      7.7    49473   \n",
       "4         7.8       8.1       6.6       7.2     7.9      7.8    14867   \n",
       "..        ...       ...       ...       ...     ...      ...      ...   \n",
       "112       8.1       8.2       8.7       8.0     8.6      8.4    38262   \n",
       "113       7.4       7.5       7.4       7.2     7.9      7.6    10023   \n",
       "114       7.7       7.9       7.5       7.4     8.1      7.9    27783   \n",
       "115       7.5       7.7       7.6       7.3     7.8      7.7    42294   \n",
       "116       7.8       8.1       7.7       7.6     8.0      8.0    32217   \n",
       "\n",
       "      Domestic     Worldwide  \n",
       "0     56671993  1.877332e+08  \n",
       "1     18335230  6.073880e+07  \n",
       "2     35014192  3.918778e+07  \n",
       "3     15322921  8.710045e+07  \n",
       "4      6739492  1.983949e+07  \n",
       "..         ...           ...  \n",
       "112   13092000  4.898204e+07  \n",
       "113  189422889  4.712229e+08  \n",
       "114  233921534  7.478628e+08  \n",
       "115  146408305  3.536241e+08  \n",
       "116  341268248  1.023784e+09  \n",
       "\n",
       "[117 rows x 55 columns]"
      ]
     },
     "execution_count": 172,
     "metadata": {},
     "output_type": "execute_result"
    }
   ],
   "source": [
    "df"
   ]
  },
  {
   "cell_type": "code",
   "execution_count": 173,
   "id": "869714ea",
   "metadata": {},
   "outputs": [],
   "source": [
    "df['sum']=df.Domestic+df.Worldwide"
   ]
  },
  {
   "cell_type": "code",
   "execution_count": 174,
   "id": "8b89eba2",
   "metadata": {},
   "outputs": [
    {
     "data": {
      "text/html": [
       "<div>\n",
       "<style scoped>\n",
       "    .dataframe tbody tr th:only-of-type {\n",
       "        vertical-align: middle;\n",
       "    }\n",
       "\n",
       "    .dataframe tbody tr th {\n",
       "        vertical-align: top;\n",
       "    }\n",
       "\n",
       "    .dataframe thead th {\n",
       "        text-align: right;\n",
       "    }\n",
       "</style>\n",
       "<table border=\"1\" class=\"dataframe\">\n",
       "  <thead>\n",
       "    <tr style=\"text-align: right;\">\n",
       "      <th></th>\n",
       "      <th>Movie_id</th>\n",
       "      <th>Title</th>\n",
       "      <th>Rating</th>\n",
       "      <th>TotalVotes</th>\n",
       "      <th>MetaCritic</th>\n",
       "      <th>Budget</th>\n",
       "      <th>Runtime</th>\n",
       "      <th>CVotes10</th>\n",
       "      <th>CVotes09</th>\n",
       "      <th>CVotes08</th>\n",
       "      <th>...</th>\n",
       "      <th>Votes45AM</th>\n",
       "      <th>Votes45AF</th>\n",
       "      <th>VotesIMDB</th>\n",
       "      <th>Votes1000</th>\n",
       "      <th>VotesUS</th>\n",
       "      <th>VotesnUS</th>\n",
       "      <th>Movie_id</th>\n",
       "      <th>Domestic</th>\n",
       "      <th>Worldwide</th>\n",
       "      <th>sum</th>\n",
       "    </tr>\n",
       "  </thead>\n",
       "  <tbody>\n",
       "    <tr>\n",
       "      <th>0</th>\n",
       "      <td>36809</td>\n",
       "      <td>12 Years a Slave (2013)</td>\n",
       "      <td>8.1</td>\n",
       "      <td>496092</td>\n",
       "      <td>96</td>\n",
       "      <td>20000000.0</td>\n",
       "      <td>134 min</td>\n",
       "      <td>75556</td>\n",
       "      <td>126223</td>\n",
       "      <td>161460</td>\n",
       "      <td>...</td>\n",
       "      <td>7.8</td>\n",
       "      <td>8.1</td>\n",
       "      <td>8.0</td>\n",
       "      <td>7.7</td>\n",
       "      <td>8.3</td>\n",
       "      <td>8.0</td>\n",
       "      <td>36809</td>\n",
       "      <td>56671993</td>\n",
       "      <td>187733202.0</td>\n",
       "      <td>244405195.0</td>\n",
       "    </tr>\n",
       "    <tr>\n",
       "      <th>1</th>\n",
       "      <td>30114</td>\n",
       "      <td>127 Hours (2010)</td>\n",
       "      <td>7.6</td>\n",
       "      <td>297075</td>\n",
       "      <td>82</td>\n",
       "      <td>18000000.0</td>\n",
       "      <td>94 min</td>\n",
       "      <td>28939</td>\n",
       "      <td>44110</td>\n",
       "      <td>98845</td>\n",
       "      <td>...</td>\n",
       "      <td>7.3</td>\n",
       "      <td>7.5</td>\n",
       "      <td>7.6</td>\n",
       "      <td>7.0</td>\n",
       "      <td>7.7</td>\n",
       "      <td>7.6</td>\n",
       "      <td>30114</td>\n",
       "      <td>18335230</td>\n",
       "      <td>60738797.0</td>\n",
       "      <td>79074027.0</td>\n",
       "    </tr>\n",
       "    <tr>\n",
       "      <th>2</th>\n",
       "      <td>37367</td>\n",
       "      <td>50/50 (2011)</td>\n",
       "      <td>7.7</td>\n",
       "      <td>283935</td>\n",
       "      <td>72</td>\n",
       "      <td>8000000.0</td>\n",
       "      <td>100 min</td>\n",
       "      <td>28304</td>\n",
       "      <td>47501</td>\n",
       "      <td>99524</td>\n",
       "      <td>...</td>\n",
       "      <td>7.4</td>\n",
       "      <td>7.5</td>\n",
       "      <td>7.4</td>\n",
       "      <td>7.0</td>\n",
       "      <td>7.9</td>\n",
       "      <td>7.6</td>\n",
       "      <td>37367</td>\n",
       "      <td>35014192</td>\n",
       "      <td>39187783.0</td>\n",
       "      <td>74201975.0</td>\n",
       "    </tr>\n",
       "    <tr>\n",
       "      <th>3</th>\n",
       "      <td>49473</td>\n",
       "      <td>About Time (2013)</td>\n",
       "      <td>7.8</td>\n",
       "      <td>225412</td>\n",
       "      <td></td>\n",
       "      <td>12000000.0</td>\n",
       "      <td>123 min</td>\n",
       "      <td>38556</td>\n",
       "      <td>43170</td>\n",
       "      <td>70850</td>\n",
       "      <td>...</td>\n",
       "      <td>7.5</td>\n",
       "      <td>7.8</td>\n",
       "      <td>7.7</td>\n",
       "      <td>6.9</td>\n",
       "      <td>7.8</td>\n",
       "      <td>7.7</td>\n",
       "      <td>49473</td>\n",
       "      <td>15322921</td>\n",
       "      <td>87100449.0</td>\n",
       "      <td>102423370.0</td>\n",
       "    </tr>\n",
       "    <tr>\n",
       "      <th>4</th>\n",
       "      <td>14867</td>\n",
       "      <td>Amour (2012)</td>\n",
       "      <td>7.9</td>\n",
       "      <td>76121</td>\n",
       "      <td>94</td>\n",
       "      <td>8900000.0</td>\n",
       "      <td>127 min</td>\n",
       "      <td>11093</td>\n",
       "      <td>15944</td>\n",
       "      <td>22942</td>\n",
       "      <td>...</td>\n",
       "      <td>7.8</td>\n",
       "      <td>8.1</td>\n",
       "      <td>6.6</td>\n",
       "      <td>7.2</td>\n",
       "      <td>7.9</td>\n",
       "      <td>7.8</td>\n",
       "      <td>14867</td>\n",
       "      <td>6739492</td>\n",
       "      <td>19839492.0</td>\n",
       "      <td>26578984.0</td>\n",
       "    </tr>\n",
       "  </tbody>\n",
       "</table>\n",
       "<p>5 rows × 56 columns</p>\n",
       "</div>"
      ],
      "text/plain": [
       "  Movie_id                    Title  Rating  TotalVotes MetaCritic  \\\n",
       "0    36809  12 Years a Slave (2013)     8.1      496092         96   \n",
       "1    30114         127 Hours (2010)     7.6      297075         82   \n",
       "2    37367             50/50 (2011)     7.7      283935         72   \n",
       "3    49473        About Time (2013)     7.8      225412              \n",
       "4    14867             Amour (2012)     7.9       76121         94   \n",
       "\n",
       "       Budget  Runtime CVotes10 CVotes09 CVotes08  ... Votes45AM Votes45AF  \\\n",
       "0  20000000.0  134 min    75556   126223   161460  ...       7.8       8.1   \n",
       "1  18000000.0   94 min    28939    44110    98845  ...       7.3       7.5   \n",
       "2   8000000.0  100 min    28304    47501    99524  ...       7.4       7.5   \n",
       "3  12000000.0  123 min    38556    43170    70850  ...       7.5       7.8   \n",
       "4   8900000.0  127 min    11093    15944    22942  ...       7.8       8.1   \n",
       "\n",
       "  VotesIMDB Votes1000 VotesUS VotesnUS Movie_id  Domestic    Worldwide  \\\n",
       "0       8.0       7.7     8.3      8.0    36809  56671993  187733202.0   \n",
       "1       7.6       7.0     7.7      7.6    30114  18335230   60738797.0   \n",
       "2       7.4       7.0     7.9      7.6    37367  35014192   39187783.0   \n",
       "3       7.7       6.9     7.8      7.7    49473  15322921   87100449.0   \n",
       "4       6.6       7.2     7.9      7.8    14867   6739492   19839492.0   \n",
       "\n",
       "           sum  \n",
       "0  244405195.0  \n",
       "1   79074027.0  \n",
       "2   74201975.0  \n",
       "3  102423370.0  \n",
       "4   26578984.0  \n",
       "\n",
       "[5 rows x 56 columns]"
      ]
     },
     "execution_count": 174,
     "metadata": {},
     "output_type": "execute_result"
    }
   ],
   "source": [
    "df.head()"
   ]
  },
  {
   "cell_type": "code",
   "execution_count": 175,
   "id": "d703072a",
   "metadata": {},
   "outputs": [],
   "source": [
    "df.sort_values?"
   ]
  },
  {
   "cell_type": "code",
   "execution_count": 180,
   "id": "8b04dc74",
   "metadata": {},
   "outputs": [
    {
     "data": {
      "text/plain": [
       "8.1"
      ]
     },
     "execution_count": 180,
     "metadata": {},
     "output_type": "execute_result"
    }
   ],
   "source": [
    "df.sort_values(by='sum', ascending=False).iloc[0].Rating"
   ]
  },
  {
   "cell_type": "code",
   "execution_count": 181,
   "id": "35fb09a4",
   "metadata": {},
   "outputs": [],
   "source": [
    "pd.merge?"
   ]
  },
  {
   "cell_type": "markdown",
   "id": "b1e24330",
   "metadata": {},
   "source": [
    "## Ques Most Voted movie"
   ]
  },
  {
   "cell_type": "code",
   "execution_count": 182,
   "id": "60a957c3",
   "metadata": {},
   "outputs": [],
   "source": [
    "import sqlite3\n",
    "import pandas as pd"
   ]
  },
  {
   "cell_type": "code",
   "execution_count": 184,
   "id": "c6e28c7c",
   "metadata": {},
   "outputs": [],
   "source": [
    "db=sqlite3.connect('IMDB.sqlite')"
   ]
  },
  {
   "cell_type": "code",
   "execution_count": 188,
   "id": "916c9b6c",
   "metadata": {},
   "outputs": [],
   "source": [
    "df=pd.read_sql_query('Select * from IMDB',db)"
   ]
  },
  {
   "cell_type": "code",
   "execution_count": 194,
   "id": "13413bdb",
   "metadata": {},
   "outputs": [],
   "source": [
    "result=df.sort_values(by='TotalVotes',ascending=False).iloc[0]"
   ]
  },
  {
   "cell_type": "code",
   "execution_count": 195,
   "id": "29f66a16",
   "metadata": {},
   "outputs": [
    {
     "name": "stdout",
     "output_type": "stream",
     "text": [
      "Inception (2010) 8.8\n"
     ]
    }
   ],
   "source": [
    "print(result.Title, result.Rating)"
   ]
  },
  {
   "cell_type": "markdown",
   "id": "cfa5e974",
   "metadata": {},
   "source": [
    "### Longest Running Time"
   ]
  },
  {
   "cell_type": "code",
   "execution_count": 196,
   "id": "260ed0a3",
   "metadata": {},
   "outputs": [],
   "source": [
    "import sqlite3\n",
    "import pandas as pd"
   ]
  },
  {
   "cell_type": "code",
   "execution_count": 197,
   "id": "b7022917",
   "metadata": {},
   "outputs": [],
   "source": [
    "db=sqlite3.connect('IMDB.sqlite')"
   ]
  },
  {
   "cell_type": "code",
   "execution_count": 198,
   "id": "b74ac720",
   "metadata": {},
   "outputs": [],
   "source": [
    "df=pd.read_sql_query('Select * from IMDB',db)"
   ]
  },
  {
   "cell_type": "code",
   "execution_count": 203,
   "id": "a090e2f4",
   "metadata": {},
   "outputs": [
    {
     "data": {
      "text/plain": [
       "array([False])"
      ]
     },
     "execution_count": 203,
     "metadata": {},
     "output_type": "execute_result"
    }
   ],
   "source": [
    "pd.unique(df.Runtime.isna())"
   ]
  },
  {
   "cell_type": "markdown",
   "id": "f618a052",
   "metadata": {},
   "source": [
    "##### Dropping '' runtime values"
   ]
  },
  {
   "cell_type": "code",
   "execution_count": 212,
   "id": "36226895",
   "metadata": {},
   "outputs": [],
   "source": [
    "df.drop(df[df.Runtime==''].index,inplace=True)"
   ]
  },
  {
   "cell_type": "code",
   "execution_count": 214,
   "id": "7c1b5354",
   "metadata": {},
   "outputs": [],
   "source": [
    "df.reset_index(inplace=True)"
   ]
  },
  {
   "cell_type": "markdown",
   "id": "926e418e",
   "metadata": {},
   "source": [
    "##### Converting Runtime to numerics"
   ]
  },
  {
   "cell_type": "code",
   "execution_count": 215,
   "id": "c5dbec90",
   "metadata": {},
   "outputs": [
    {
     "data": {
      "text/plain": [
       "0     134 min\n",
       "1      94 min\n",
       "2     100 min\n",
       "3     123 min\n",
       "4     127 min\n",
       "       ...   \n",
       "91    140 min\n",
       "92    107 min\n",
       "93    132 min\n",
       "94    132 min\n",
       "95    108 min\n",
       "Name: Runtime, Length: 96, dtype: object"
      ]
     },
     "execution_count": 215,
     "metadata": {},
     "output_type": "execute_result"
    }
   ],
   "source": [
    "df.Runtime"
   ]
  },
  {
   "cell_type": "code",
   "execution_count": 223,
   "id": "11cb3442",
   "metadata": {},
   "outputs": [],
   "source": [
    "def correct_Time(time):\n",
    "    time_array=time.split(' ')\n",
    "    time=float(time_array[0])\n",
    "    return(time)\n",
    "df['correct_time']=df.Runtime.apply(correct_Time)"
   ]
  },
  {
   "cell_type": "code",
   "execution_count": 227,
   "id": "743035a4",
   "metadata": {},
   "outputs": [
    {
     "data": {
      "text/plain": [
       "index                                      105\n",
       "Movie_id                                 35004\n",
       "Title           The Wolf of Wall Street (2013)\n",
       "Rating                                     8.2\n",
       "TotalVotes                              881984\n",
       "MetaCritic                                  75\n",
       "Budget                             100000000.0\n",
       "Runtime                                180 min\n",
       "CVotes10                                171660\n",
       "CVotes09                                236650\n",
       "CVotes08                                250667\n",
       "CVotes07                                129164\n",
       "CVotes06                                 46715\n",
       "CVotes05                                 18682\n",
       "CVotes04                                  8674\n",
       "CVotes03                                  5854\n",
       "CVotes02                                  4258\n",
       "CVotes01                                  9689\n",
       "CVotesMale                              559564\n",
       "CVotesFemale                            123698\n",
       "CVotesU18                                 3622\n",
       "CVotesU18M                                2842\n",
       "CVotesU18F                                 757\n",
       "CVotes1829                              360841\n",
       "CVotes1829M                             286627\n",
       "CVotes1829F                              70874\n",
       "CVotes3044                              227096\n",
       "CVotes3044M                             189110\n",
       "CVotes3044F                              34712\n",
       "CVotes45A                                39996\n",
       "CVotes45AM                               32676\n",
       "CVotes45AF                                6629\n",
       "CVotes1000                                 730\n",
       "CVotesUS                                 89006\n",
       "CVotesnUS                             366829.0\n",
       "VotesM                                     8.2\n",
       "VotesF                                     7.8\n",
       "VotesU18                                   8.6\n",
       "VotesU18M                                  8.7\n",
       "VotesU18F                                  8.0\n",
       "Votes1829                                  8.4\n",
       "Votes1829M                                 8.5\n",
       "Votes1829F                                 7.9\n",
       "Votes3044                                  8.0\n",
       "Votes3044M                                 8.1\n",
       "Votes3044F                                 7.7\n",
       "Votes45A                                   7.6\n",
       "Votes45AM                                  7.6\n",
       "Votes45AF                                  7.5\n",
       "VotesIMDB                                  7.8\n",
       "Votes1000                                  7.8\n",
       "VotesUS                                    8.1\n",
       "VotesnUS                                   8.1\n",
       "correct_time                             180.0\n",
       "Name: 88, dtype: object"
      ]
     },
     "execution_count": 227,
     "metadata": {},
     "output_type": "execute_result"
    }
   ],
   "source": [
    "df.sort_values(by='correct_time',ascending=False).iloc[0]"
   ]
  },
  {
   "cell_type": "code",
   "execution_count": 228,
   "id": "fbbc311c",
   "metadata": {},
   "outputs": [],
   "source": [
    "result=df.sort_values(by='correct_time',ascending=False).iloc[0]"
   ]
  },
  {
   "cell_type": "code",
   "execution_count": 229,
   "id": "c72d4b8a",
   "metadata": {},
   "outputs": [
    {
     "name": "stdout",
     "output_type": "stream",
     "text": [
      "The Wolf of Wall Street (2013) 180 min\n"
     ]
    }
   ],
   "source": [
    "print(result.Title, result.Runtime)"
   ]
  },
  {
   "cell_type": "markdown",
   "id": "ee428c56",
   "metadata": {},
   "source": [
    "## Ques. Maximum Profit"
   ]
  },
  {
   "cell_type": "code",
   "execution_count": 290,
   "id": "9b980bae",
   "metadata": {},
   "outputs": [],
   "source": [
    "import sqlite3\n",
    "import pandas as pd\n",
    "db=sqlite3.connect('IMDB.sqlite')"
   ]
  },
  {
   "cell_type": "code",
   "execution_count": 291,
   "id": "9d2f945c",
   "metadata": {},
   "outputs": [],
   "source": [
    "imdb=pd.read_sql_query('Select * from IMDB',db)"
   ]
  },
  {
   "cell_type": "code",
   "execution_count": 292,
   "id": "c67a53ea",
   "metadata": {},
   "outputs": [],
   "source": [
    "earning=pd.read_sql_query('Select * from earning',db)"
   ]
  },
  {
   "cell_type": "code",
   "execution_count": null,
   "id": "77719022",
   "metadata": {},
   "outputs": [],
   "source": []
  },
  {
   "cell_type": "code",
   "execution_count": 293,
   "id": "ce56366a",
   "metadata": {},
   "outputs": [],
   "source": [
    "FullDF=pd.merge(imdb,earning, how='inner', left_on='Movie_id', right_on='Movie_id')"
   ]
  },
  {
   "cell_type": "code",
   "execution_count": 294,
   "id": "dbf669f6",
   "metadata": {},
   "outputs": [],
   "source": [
    "# Dropping empty values in Budget column\n",
    "FullDF.drop(FullDF[FullDF.Budget==''].index, inplace=True)\n",
    "FullDF.reset_index(inplace=True)"
   ]
  },
  {
   "cell_type": "code",
   "execution_count": 295,
   "id": "85590c67",
   "metadata": {},
   "outputs": [
    {
     "data": {
      "text/html": [
       "<div>\n",
       "<style scoped>\n",
       "    .dataframe tbody tr th:only-of-type {\n",
       "        vertical-align: middle;\n",
       "    }\n",
       "\n",
       "    .dataframe tbody tr th {\n",
       "        vertical-align: top;\n",
       "    }\n",
       "\n",
       "    .dataframe thead th {\n",
       "        text-align: right;\n",
       "    }\n",
       "</style>\n",
       "<table border=\"1\" class=\"dataframe\">\n",
       "  <thead>\n",
       "    <tr style=\"text-align: right;\">\n",
       "      <th></th>\n",
       "      <th>index</th>\n",
       "      <th>Movie_id</th>\n",
       "      <th>Title</th>\n",
       "      <th>Rating</th>\n",
       "      <th>TotalVotes</th>\n",
       "      <th>MetaCritic</th>\n",
       "      <th>Budget</th>\n",
       "      <th>Runtime</th>\n",
       "      <th>CVotes10</th>\n",
       "      <th>CVotes09</th>\n",
       "      <th>...</th>\n",
       "      <th>Votes3044F</th>\n",
       "      <th>Votes45A</th>\n",
       "      <th>Votes45AM</th>\n",
       "      <th>Votes45AF</th>\n",
       "      <th>VotesIMDB</th>\n",
       "      <th>Votes1000</th>\n",
       "      <th>VotesUS</th>\n",
       "      <th>VotesnUS</th>\n",
       "      <th>Domestic</th>\n",
       "      <th>Worldwide</th>\n",
       "    </tr>\n",
       "  </thead>\n",
       "  <tbody>\n",
       "    <tr>\n",
       "      <th>0</th>\n",
       "      <td>0</td>\n",
       "      <td>36809</td>\n",
       "      <td>12 Years a Slave (2013)</td>\n",
       "      <td>8.1</td>\n",
       "      <td>496092</td>\n",
       "      <td>96</td>\n",
       "      <td>20000000.0</td>\n",
       "      <td>134 min</td>\n",
       "      <td>75556</td>\n",
       "      <td>126223</td>\n",
       "      <td>...</td>\n",
       "      <td>8.0</td>\n",
       "      <td>7.8</td>\n",
       "      <td>7.8</td>\n",
       "      <td>8.1</td>\n",
       "      <td>8.0</td>\n",
       "      <td>7.7</td>\n",
       "      <td>8.3</td>\n",
       "      <td>8.0</td>\n",
       "      <td>56671993</td>\n",
       "      <td>1.877332e+08</td>\n",
       "    </tr>\n",
       "    <tr>\n",
       "      <th>1</th>\n",
       "      <td>1</td>\n",
       "      <td>30114</td>\n",
       "      <td>127 Hours (2010)</td>\n",
       "      <td>7.6</td>\n",
       "      <td>297075</td>\n",
       "      <td>82</td>\n",
       "      <td>18000000.0</td>\n",
       "      <td>94 min</td>\n",
       "      <td>28939</td>\n",
       "      <td>44110</td>\n",
       "      <td>...</td>\n",
       "      <td>7.5</td>\n",
       "      <td>7.3</td>\n",
       "      <td>7.3</td>\n",
       "      <td>7.5</td>\n",
       "      <td>7.6</td>\n",
       "      <td>7.0</td>\n",
       "      <td>7.7</td>\n",
       "      <td>7.6</td>\n",
       "      <td>18335230</td>\n",
       "      <td>6.073880e+07</td>\n",
       "    </tr>\n",
       "    <tr>\n",
       "      <th>2</th>\n",
       "      <td>2</td>\n",
       "      <td>37367</td>\n",
       "      <td>50/50 (2011)</td>\n",
       "      <td>7.7</td>\n",
       "      <td>283935</td>\n",
       "      <td>72</td>\n",
       "      <td>8000000.0</td>\n",
       "      <td>100 min</td>\n",
       "      <td>28304</td>\n",
       "      <td>47501</td>\n",
       "      <td>...</td>\n",
       "      <td>7.6</td>\n",
       "      <td>7.4</td>\n",
       "      <td>7.4</td>\n",
       "      <td>7.5</td>\n",
       "      <td>7.4</td>\n",
       "      <td>7.0</td>\n",
       "      <td>7.9</td>\n",
       "      <td>7.6</td>\n",
       "      <td>35014192</td>\n",
       "      <td>3.918778e+07</td>\n",
       "    </tr>\n",
       "    <tr>\n",
       "      <th>3</th>\n",
       "      <td>3</td>\n",
       "      <td>49473</td>\n",
       "      <td>About Time (2013)</td>\n",
       "      <td>7.8</td>\n",
       "      <td>225412</td>\n",
       "      <td></td>\n",
       "      <td>12000000.0</td>\n",
       "      <td>123 min</td>\n",
       "      <td>38556</td>\n",
       "      <td>43170</td>\n",
       "      <td>...</td>\n",
       "      <td>7.7</td>\n",
       "      <td>7.6</td>\n",
       "      <td>7.5</td>\n",
       "      <td>7.8</td>\n",
       "      <td>7.7</td>\n",
       "      <td>6.9</td>\n",
       "      <td>7.8</td>\n",
       "      <td>7.7</td>\n",
       "      <td>15322921</td>\n",
       "      <td>8.710045e+07</td>\n",
       "    </tr>\n",
       "    <tr>\n",
       "      <th>4</th>\n",
       "      <td>4</td>\n",
       "      <td>14867</td>\n",
       "      <td>Amour (2012)</td>\n",
       "      <td>7.9</td>\n",
       "      <td>76121</td>\n",
       "      <td>94</td>\n",
       "      <td>8900000.0</td>\n",
       "      <td>127 min</td>\n",
       "      <td>11093</td>\n",
       "      <td>15944</td>\n",
       "      <td>...</td>\n",
       "      <td>7.9</td>\n",
       "      <td>7.9</td>\n",
       "      <td>7.8</td>\n",
       "      <td>8.1</td>\n",
       "      <td>6.6</td>\n",
       "      <td>7.2</td>\n",
       "      <td>7.9</td>\n",
       "      <td>7.8</td>\n",
       "      <td>6739492</td>\n",
       "      <td>1.983949e+07</td>\n",
       "    </tr>\n",
       "    <tr>\n",
       "      <th>...</th>\n",
       "      <td>...</td>\n",
       "      <td>...</td>\n",
       "      <td>...</td>\n",
       "      <td>...</td>\n",
       "      <td>...</td>\n",
       "      <td>...</td>\n",
       "      <td>...</td>\n",
       "      <td>...</td>\n",
       "      <td>...</td>\n",
       "      <td>...</td>\n",
       "      <td>...</td>\n",
       "      <td>...</td>\n",
       "      <td>...</td>\n",
       "      <td>...</td>\n",
       "      <td>...</td>\n",
       "      <td>...</td>\n",
       "      <td>...</td>\n",
       "      <td>...</td>\n",
       "      <td>...</td>\n",
       "      <td>...</td>\n",
       "      <td>...</td>\n",
       "    </tr>\n",
       "    <tr>\n",
       "      <th>109</th>\n",
       "      <td>112</td>\n",
       "      <td>38262</td>\n",
       "      <td>Whiplash (2014)</td>\n",
       "      <td>8.5</td>\n",
       "      <td>492285</td>\n",
       "      <td>88</td>\n",
       "      <td>3300000.0</td>\n",
       "      <td>107 min</td>\n",
       "      <td>110404</td>\n",
       "      <td>161864</td>\n",
       "      <td>...</td>\n",
       "      <td>8.2</td>\n",
       "      <td>8.1</td>\n",
       "      <td>8.1</td>\n",
       "      <td>8.2</td>\n",
       "      <td>8.7</td>\n",
       "      <td>8.0</td>\n",
       "      <td>8.6</td>\n",
       "      <td>8.4</td>\n",
       "      <td>13092000</td>\n",
       "      <td>4.898204e+07</td>\n",
       "    </tr>\n",
       "    <tr>\n",
       "      <th>110</th>\n",
       "      <td>113</td>\n",
       "      <td>10023</td>\n",
       "      <td>Wreck-It Ralph (2012)</td>\n",
       "      <td>7.7</td>\n",
       "      <td>295125</td>\n",
       "      <td>72</td>\n",
       "      <td>165000000.0</td>\n",
       "      <td></td>\n",
       "      <td>41980</td>\n",
       "      <td>50262</td>\n",
       "      <td>...</td>\n",
       "      <td>7.7</td>\n",
       "      <td>7.4</td>\n",
       "      <td>7.4</td>\n",
       "      <td>7.5</td>\n",
       "      <td>7.4</td>\n",
       "      <td>7.2</td>\n",
       "      <td>7.9</td>\n",
       "      <td>7.6</td>\n",
       "      <td>189422889</td>\n",
       "      <td>4.712229e+08</td>\n",
       "    </tr>\n",
       "    <tr>\n",
       "      <th>111</th>\n",
       "      <td>114</td>\n",
       "      <td>27783</td>\n",
       "      <td>X-Men: Days of Future Past (2014)</td>\n",
       "      <td>8.0</td>\n",
       "      <td>560736</td>\n",
       "      <td>74</td>\n",
       "      <td>200000000.0</td>\n",
       "      <td>132 min</td>\n",
       "      <td>91765</td>\n",
       "      <td>127521</td>\n",
       "      <td>...</td>\n",
       "      <td>8.0</td>\n",
       "      <td>7.7</td>\n",
       "      <td>7.7</td>\n",
       "      <td>7.9</td>\n",
       "      <td>7.5</td>\n",
       "      <td>7.4</td>\n",
       "      <td>8.1</td>\n",
       "      <td>7.9</td>\n",
       "      <td>233921534</td>\n",
       "      <td>7.478628e+08</td>\n",
       "    </tr>\n",
       "    <tr>\n",
       "      <th>112</th>\n",
       "      <td>115</td>\n",
       "      <td>42294</td>\n",
       "      <td>X-Men: First Class (2011)</td>\n",
       "      <td>7.8</td>\n",
       "      <td>556713</td>\n",
       "      <td>65</td>\n",
       "      <td>160000000.0</td>\n",
       "      <td>132 min</td>\n",
       "      <td>64428</td>\n",
       "      <td>96219</td>\n",
       "      <td>...</td>\n",
       "      <td>7.8</td>\n",
       "      <td>7.6</td>\n",
       "      <td>7.5</td>\n",
       "      <td>7.7</td>\n",
       "      <td>7.6</td>\n",
       "      <td>7.3</td>\n",
       "      <td>7.8</td>\n",
       "      <td>7.7</td>\n",
       "      <td>146408305</td>\n",
       "      <td>3.536241e+08</td>\n",
       "    </tr>\n",
       "    <tr>\n",
       "      <th>113</th>\n",
       "      <td>116</td>\n",
       "      <td>32217</td>\n",
       "      <td>Zootopia (2016)</td>\n",
       "      <td>8.1</td>\n",
       "      <td>309474</td>\n",
       "      <td>78</td>\n",
       "      <td>150000000.0</td>\n",
       "      <td>108 min</td>\n",
       "      <td>53626</td>\n",
       "      <td>70912</td>\n",
       "      <td>...</td>\n",
       "      <td>8.1</td>\n",
       "      <td>7.8</td>\n",
       "      <td>7.8</td>\n",
       "      <td>8.1</td>\n",
       "      <td>7.7</td>\n",
       "      <td>7.6</td>\n",
       "      <td>8.0</td>\n",
       "      <td>8.0</td>\n",
       "      <td>341268248</td>\n",
       "      <td>1.023784e+09</td>\n",
       "    </tr>\n",
       "  </tbody>\n",
       "</table>\n",
       "<p>114 rows × 55 columns</p>\n",
       "</div>"
      ],
      "text/plain": [
       "     index Movie_id                              Title  Rating  TotalVotes  \\\n",
       "0        0    36809            12 Years a Slave (2013)     8.1      496092   \n",
       "1        1    30114                   127 Hours (2010)     7.6      297075   \n",
       "2        2    37367                       50/50 (2011)     7.7      283935   \n",
       "3        3    49473                  About Time (2013)     7.8      225412   \n",
       "4        4    14867                       Amour (2012)     7.9       76121   \n",
       "..     ...      ...                                ...     ...         ...   \n",
       "109    112    38262                    Whiplash (2014)     8.5      492285   \n",
       "110    113    10023              Wreck-It Ralph (2012)     7.7      295125   \n",
       "111    114    27783  X-Men: Days of Future Past (2014)     8.0      560736   \n",
       "112    115    42294          X-Men: First Class (2011)     7.8      556713   \n",
       "113    116    32217                    Zootopia (2016)     8.1      309474   \n",
       "\n",
       "    MetaCritic       Budget  Runtime CVotes10 CVotes09  ... Votes3044F  \\\n",
       "0           96   20000000.0  134 min    75556   126223  ...        8.0   \n",
       "1           82   18000000.0   94 min    28939    44110  ...        7.5   \n",
       "2           72    8000000.0  100 min    28304    47501  ...        7.6   \n",
       "3                12000000.0  123 min    38556    43170  ...        7.7   \n",
       "4           94    8900000.0  127 min    11093    15944  ...        7.9   \n",
       "..         ...          ...      ...      ...      ...  ...        ...   \n",
       "109         88    3300000.0  107 min   110404   161864  ...        8.2   \n",
       "110         72  165000000.0             41980    50262  ...        7.7   \n",
       "111         74  200000000.0  132 min    91765   127521  ...        8.0   \n",
       "112         65  160000000.0  132 min    64428    96219  ...        7.8   \n",
       "113         78  150000000.0  108 min    53626    70912  ...        8.1   \n",
       "\n",
       "    Votes45A Votes45AM Votes45AF VotesIMDB Votes1000 VotesUS VotesnUS  \\\n",
       "0        7.8       7.8       8.1       8.0       7.7     8.3      8.0   \n",
       "1        7.3       7.3       7.5       7.6       7.0     7.7      7.6   \n",
       "2        7.4       7.4       7.5       7.4       7.0     7.9      7.6   \n",
       "3        7.6       7.5       7.8       7.7       6.9     7.8      7.7   \n",
       "4        7.9       7.8       8.1       6.6       7.2     7.9      7.8   \n",
       "..       ...       ...       ...       ...       ...     ...      ...   \n",
       "109      8.1       8.1       8.2       8.7       8.0     8.6      8.4   \n",
       "110      7.4       7.4       7.5       7.4       7.2     7.9      7.6   \n",
       "111      7.7       7.7       7.9       7.5       7.4     8.1      7.9   \n",
       "112      7.6       7.5       7.7       7.6       7.3     7.8      7.7   \n",
       "113      7.8       7.8       8.1       7.7       7.6     8.0      8.0   \n",
       "\n",
       "      Domestic     Worldwide  \n",
       "0     56671993  1.877332e+08  \n",
       "1     18335230  6.073880e+07  \n",
       "2     35014192  3.918778e+07  \n",
       "3     15322921  8.710045e+07  \n",
       "4      6739492  1.983949e+07  \n",
       "..         ...           ...  \n",
       "109   13092000  4.898204e+07  \n",
       "110  189422889  4.712229e+08  \n",
       "111  233921534  7.478628e+08  \n",
       "112  146408305  3.536241e+08  \n",
       "113  341268248  1.023784e+09  \n",
       "\n",
       "[114 rows x 55 columns]"
      ]
     },
     "execution_count": 295,
     "metadata": {},
     "output_type": "execute_result"
    }
   ],
   "source": [
    "FullDF"
   ]
  },
  {
   "cell_type": "code",
   "execution_count": null,
   "id": "b2099e76",
   "metadata": {},
   "outputs": [],
   "source": []
  },
  {
   "cell_type": "code",
   "execution_count": 296,
   "id": "cb9faa60",
   "metadata": {},
   "outputs": [],
   "source": [
    "#Converting Budget Column to numeric\n",
    "FullDF.Budget=pd.to_numeric(FullDF.Budget)"
   ]
  },
  {
   "cell_type": "code",
   "execution_count": 297,
   "id": "fa09dd72",
   "metadata": {},
   "outputs": [],
   "source": [
    "FullDF['Net Profit']=FullDF.Domestic+FullDF.Worldwide-FullDF.Budget"
   ]
  },
  {
   "cell_type": "code",
   "execution_count": 298,
   "id": "feb12973",
   "metadata": {},
   "outputs": [
    {
     "data": {
      "text/plain": [
       "'Star Wars: The Force Awakens\\xa0(2015)'"
      ]
     },
     "execution_count": 298,
     "metadata": {},
     "output_type": "execute_result"
    }
   ],
   "source": [
    "FullDF.sort_values(by='Net Profit',ascending=False).iloc[0].Title"
   ]
  },
  {
   "cell_type": "markdown",
   "id": "1dd7a63f",
   "metadata": {},
   "source": [
    "#### Least Budget"
   ]
  },
  {
   "cell_type": "markdown",
   "id": "f34ff5a6",
   "metadata": {},
   "source": [
    "### Lets use the previous Dataframe itself"
   ]
  },
  {
   "cell_type": "code",
   "execution_count": 303,
   "id": "87b2550a",
   "metadata": {},
   "outputs": [
    {
     "data": {
      "text/html": [
       "<div>\n",
       "<style scoped>\n",
       "    .dataframe tbody tr th:only-of-type {\n",
       "        vertical-align: middle;\n",
       "    }\n",
       "\n",
       "    .dataframe tbody tr th {\n",
       "        vertical-align: top;\n",
       "    }\n",
       "\n",
       "    .dataframe thead th {\n",
       "        text-align: right;\n",
       "    }\n",
       "</style>\n",
       "<table border=\"1\" class=\"dataframe\">\n",
       "  <thead>\n",
       "    <tr style=\"text-align: right;\">\n",
       "      <th></th>\n",
       "      <th>index</th>\n",
       "      <th>Movie_id</th>\n",
       "      <th>Title</th>\n",
       "      <th>Rating</th>\n",
       "      <th>TotalVotes</th>\n",
       "      <th>MetaCritic</th>\n",
       "      <th>Budget</th>\n",
       "      <th>Runtime</th>\n",
       "      <th>CVotes10</th>\n",
       "      <th>CVotes09</th>\n",
       "      <th>...</th>\n",
       "      <th>Votes45A</th>\n",
       "      <th>Votes45AM</th>\n",
       "      <th>Votes45AF</th>\n",
       "      <th>VotesIMDB</th>\n",
       "      <th>Votes1000</th>\n",
       "      <th>VotesUS</th>\n",
       "      <th>VotesnUS</th>\n",
       "      <th>Domestic</th>\n",
       "      <th>Worldwide</th>\n",
       "      <th>Net Profit</th>\n",
       "    </tr>\n",
       "  </thead>\n",
       "  <tbody>\n",
       "    <tr>\n",
       "      <th>106</th>\n",
       "      <td>109</td>\n",
       "      <td>20709</td>\n",
       "      <td>Tyrannosaur (2011)</td>\n",
       "      <td>7.6</td>\n",
       "      <td>26016</td>\n",
       "      <td>65</td>\n",
       "      <td>1000000.0</td>\n",
       "      <td></td>\n",
       "      <td>2060</td>\n",
       "      <td>4083</td>\n",
       "      <td>...</td>\n",
       "      <td>7.5</td>\n",
       "      <td>7.4</td>\n",
       "      <td>5.8</td>\n",
       "      <td>6.5</td>\n",
       "      <td>7.4</td>\n",
       "      <td>7.6</td>\n",
       "      <td></td>\n",
       "      <td>22321</td>\n",
       "      <td>2.232100e+04</td>\n",
       "      <td>-9.553580e+05</td>\n",
       "    </tr>\n",
       "    <tr>\n",
       "      <th>68</th>\n",
       "      <td>71</td>\n",
       "      <td>30154</td>\n",
       "      <td>Short Term 12 (2013)</td>\n",
       "      <td>8.0</td>\n",
       "      <td>63459</td>\n",
       "      <td>82</td>\n",
       "      <td>1000000.0</td>\n",
       "      <td></td>\n",
       "      <td>9518</td>\n",
       "      <td>14786</td>\n",
       "      <td>...</td>\n",
       "      <td>7.7</td>\n",
       "      <td>7.7</td>\n",
       "      <td>8.0</td>\n",
       "      <td>8.5</td>\n",
       "      <td>7.0</td>\n",
       "      <td>8.3</td>\n",
       "      <td>7.9</td>\n",
       "      <td>1013100</td>\n",
       "      <td>1.013100e+06</td>\n",
       "      <td>1.026200e+06</td>\n",
       "    </tr>\n",
       "    <tr>\n",
       "      <th>108</th>\n",
       "      <td>111</td>\n",
       "      <td>35939</td>\n",
       "      <td>What We Do in the Shadows (2014)</td>\n",
       "      <td>7.6</td>\n",
       "      <td>87975</td>\n",
       "      <td>76</td>\n",
       "      <td>1600000.0</td>\n",
       "      <td></td>\n",
       "      <td>10485</td>\n",
       "      <td>14507</td>\n",
       "      <td>...</td>\n",
       "      <td>7.3</td>\n",
       "      <td>7.3</td>\n",
       "      <td>7.7</td>\n",
       "      <td>7.7</td>\n",
       "      <td>6.8</td>\n",
       "      <td>7.7</td>\n",
       "      <td>7.5</td>\n",
       "      <td>3469224</td>\n",
       "      <td>6.263224e+06</td>\n",
       "      <td>8.132448e+06</td>\n",
       "    </tr>\n",
       "    <tr>\n",
       "      <th>42</th>\n",
       "      <td>43</td>\n",
       "      <td>23963</td>\n",
       "      <td>Hunt for the Wilderpeople (2016)</td>\n",
       "      <td>7.9</td>\n",
       "      <td>56964</td>\n",
       "      <td>81</td>\n",
       "      <td>2500000.0</td>\n",
       "      <td></td>\n",
       "      <td>7503</td>\n",
       "      <td>12086</td>\n",
       "      <td>...</td>\n",
       "      <td>7.7</td>\n",
       "      <td>7.6</td>\n",
       "      <td>8.2</td>\n",
       "      <td>8.0</td>\n",
       "      <td>7.1</td>\n",
       "      <td>8.0</td>\n",
       "      <td>7.8</td>\n",
       "      <td>5205468</td>\n",
       "      <td>5.205468e+06</td>\n",
       "      <td>7.910936e+06</td>\n",
       "    </tr>\n",
       "    <tr>\n",
       "      <th>7</th>\n",
       "      <td>7</td>\n",
       "      <td>25398</td>\n",
       "      <td>Before Midnight (2013)</td>\n",
       "      <td>7.9</td>\n",
       "      <td>106553</td>\n",
       "      <td>94</td>\n",
       "      <td>3000000.0</td>\n",
       "      <td>109 min</td>\n",
       "      <td>16953</td>\n",
       "      <td>22109</td>\n",
       "      <td>...</td>\n",
       "      <td>7.3</td>\n",
       "      <td>7.4</td>\n",
       "      <td>7.2</td>\n",
       "      <td>8.5</td>\n",
       "      <td>7.0</td>\n",
       "      <td>8.0</td>\n",
       "      <td>7.9</td>\n",
       "      <td>8114627</td>\n",
       "      <td>1.117647e+07</td>\n",
       "      <td>1.629110e+07</td>\n",
       "    </tr>\n",
       "    <tr>\n",
       "      <th>...</th>\n",
       "      <td>...</td>\n",
       "      <td>...</td>\n",
       "      <td>...</td>\n",
       "      <td>...</td>\n",
       "      <td>...</td>\n",
       "      <td>...</td>\n",
       "      <td>...</td>\n",
       "      <td>...</td>\n",
       "      <td>...</td>\n",
       "      <td>...</td>\n",
       "      <td>...</td>\n",
       "      <td>...</td>\n",
       "      <td>...</td>\n",
       "      <td>...</td>\n",
       "      <td>...</td>\n",
       "      <td>...</td>\n",
       "      <td>...</td>\n",
       "      <td>...</td>\n",
       "      <td>...</td>\n",
       "      <td>...</td>\n",
       "      <td>...</td>\n",
       "    </tr>\n",
       "    <tr>\n",
       "      <th>76</th>\n",
       "      <td>79</td>\n",
       "      <td>38626</td>\n",
       "      <td>Star Wars: The Force Awakens (2015)</td>\n",
       "      <td>8.1</td>\n",
       "      <td>676732</td>\n",
       "      <td>81</td>\n",
       "      <td>245000000.0</td>\n",
       "      <td>136 min</td>\n",
       "      <td>155391</td>\n",
       "      <td>161810</td>\n",
       "      <td>...</td>\n",
       "      <td>7.9</td>\n",
       "      <td>7.8</td>\n",
       "      <td>8.2</td>\n",
       "      <td>8.3</td>\n",
       "      <td>7.7</td>\n",
       "      <td>8.2</td>\n",
       "      <td>7.9</td>\n",
       "      <td>936662225</td>\n",
       "      <td>2.068224e+09</td>\n",
       "      <td>2.759886e+09</td>\n",
       "    </tr>\n",
       "    <tr>\n",
       "      <th>13</th>\n",
       "      <td>13</td>\n",
       "      <td>49590</td>\n",
       "      <td>Captain America: Civil War (2016)</td>\n",
       "      <td>7.9</td>\n",
       "      <td>431555</td>\n",
       "      <td>75</td>\n",
       "      <td>250000000.0</td>\n",
       "      <td>147 min</td>\n",
       "      <td>81893</td>\n",
       "      <td>90156</td>\n",
       "      <td>...</td>\n",
       "      <td>7.6</td>\n",
       "      <td>7.6</td>\n",
       "      <td>7.9</td>\n",
       "      <td>7.7</td>\n",
       "      <td>7.5</td>\n",
       "      <td>8.1</td>\n",
       "      <td>7.7</td>\n",
       "      <td>408084349</td>\n",
       "      <td>1.153304e+09</td>\n",
       "      <td>1.311389e+09</td>\n",
       "    </tr>\n",
       "    <tr>\n",
       "      <th>35</th>\n",
       "      <td>36</td>\n",
       "      <td>21411</td>\n",
       "      <td>Harry Potter and the Deathly Hallows: Part 1 (...</td>\n",
       "      <td>7.7</td>\n",
       "      <td>363226</td>\n",
       "      <td>65</td>\n",
       "      <td>250000000.0</td>\n",
       "      <td>146 min</td>\n",
       "      <td>68937</td>\n",
       "      <td>54947</td>\n",
       "      <td>...</td>\n",
       "      <td>7.4</td>\n",
       "      <td>7.3</td>\n",
       "      <td>8.0</td>\n",
       "      <td>8.0</td>\n",
       "      <td>6.7</td>\n",
       "      <td>7.9</td>\n",
       "      <td>7.5</td>\n",
       "      <td>295983305</td>\n",
       "      <td>9.602833e+08</td>\n",
       "      <td>1.006267e+09</td>\n",
       "    </tr>\n",
       "    <tr>\n",
       "      <th>83</th>\n",
       "      <td>86</td>\n",
       "      <td>29419</td>\n",
       "      <td>The Dark Knight Rises (2012)</td>\n",
       "      <td>8.4</td>\n",
       "      <td>1240780</td>\n",
       "      <td>78</td>\n",
       "      <td>250000000.0</td>\n",
       "      <td>164 min</td>\n",
       "      <td>380589</td>\n",
       "      <td>341965</td>\n",
       "      <td>...</td>\n",
       "      <td>7.9</td>\n",
       "      <td>7.9</td>\n",
       "      <td>7.9</td>\n",
       "      <td>7.8</td>\n",
       "      <td>7.8</td>\n",
       "      <td>8.4</td>\n",
       "      <td>8.4</td>\n",
       "      <td>448139099</td>\n",
       "      <td>1.084939e+09</td>\n",
       "      <td>1.283078e+09</td>\n",
       "    </tr>\n",
       "    <tr>\n",
       "      <th>78</th>\n",
       "      <td>81</td>\n",
       "      <td>42419</td>\n",
       "      <td>Tangled (2010)</td>\n",
       "      <td>7.8</td>\n",
       "      <td>321593</td>\n",
       "      <td>71</td>\n",
       "      <td>260000000.0</td>\n",
       "      <td></td>\n",
       "      <td>56575</td>\n",
       "      <td>54688</td>\n",
       "      <td>...</td>\n",
       "      <td>7.7</td>\n",
       "      <td>7.6</td>\n",
       "      <td>7.9</td>\n",
       "      <td>7.5</td>\n",
       "      <td>6.9</td>\n",
       "      <td>7.9</td>\n",
       "      <td>7.7</td>\n",
       "      <td>200821936</td>\n",
       "      <td>5.917949e+08</td>\n",
       "      <td>5.326169e+08</td>\n",
       "    </tr>\n",
       "  </tbody>\n",
       "</table>\n",
       "<p>114 rows × 56 columns</p>\n",
       "</div>"
      ],
      "text/plain": [
       "     index Movie_id                                              Title  \\\n",
       "106    109    20709                                 Tyrannosaur (2011)   \n",
       "68      71    30154                               Short Term 12 (2013)   \n",
       "108    111    35939                   What We Do in the Shadows (2014)   \n",
       "42      43    23963                   Hunt for the Wilderpeople (2016)   \n",
       "7        7    25398                             Before Midnight (2013)   \n",
       "..     ...      ...                                                ...   \n",
       "76      79    38626                Star Wars: The Force Awakens (2015)   \n",
       "13      13    49590                  Captain America: Civil War (2016)   \n",
       "35      36    21411  Harry Potter and the Deathly Hallows: Part 1 (...   \n",
       "83      86    29419                       The Dark Knight Rises (2012)   \n",
       "78      81    42419                                     Tangled (2010)   \n",
       "\n",
       "     Rating  TotalVotes MetaCritic       Budget  Runtime CVotes10 CVotes09  \\\n",
       "106     7.6       26016         65    1000000.0              2060     4083   \n",
       "68      8.0       63459         82    1000000.0              9518    14786   \n",
       "108     7.6       87975         76    1600000.0             10485    14507   \n",
       "42      7.9       56964         81    2500000.0              7503    12086   \n",
       "7       7.9      106553         94    3000000.0  109 min    16953    22109   \n",
       "..      ...         ...        ...          ...      ...      ...      ...   \n",
       "76      8.1      676732         81  245000000.0  136 min   155391   161810   \n",
       "13      7.9      431555         75  250000000.0  147 min    81893    90156   \n",
       "35      7.7      363226         65  250000000.0  146 min    68937    54947   \n",
       "83      8.4     1240780         78  250000000.0  164 min   380589   341965   \n",
       "78      7.8      321593         71  260000000.0             56575    54688   \n",
       "\n",
       "     ... Votes45A Votes45AM Votes45AF VotesIMDB Votes1000 VotesUS VotesnUS  \\\n",
       "106  ...      7.5       7.4       5.8       6.5       7.4     7.6            \n",
       "68   ...      7.7       7.7       8.0       8.5       7.0     8.3      7.9   \n",
       "108  ...      7.3       7.3       7.7       7.7       6.8     7.7      7.5   \n",
       "42   ...      7.7       7.6       8.2       8.0       7.1     8.0      7.8   \n",
       "7    ...      7.3       7.4       7.2       8.5       7.0     8.0      7.9   \n",
       "..   ...      ...       ...       ...       ...       ...     ...      ...   \n",
       "76   ...      7.9       7.8       8.2       8.3       7.7     8.2      7.9   \n",
       "13   ...      7.6       7.6       7.9       7.7       7.5     8.1      7.7   \n",
       "35   ...      7.4       7.3       8.0       8.0       6.7     7.9      7.5   \n",
       "83   ...      7.9       7.9       7.9       7.8       7.8     8.4      8.4   \n",
       "78   ...      7.7       7.6       7.9       7.5       6.9     7.9      7.7   \n",
       "\n",
       "      Domestic     Worldwide    Net Profit  \n",
       "106      22321  2.232100e+04 -9.553580e+05  \n",
       "68     1013100  1.013100e+06  1.026200e+06  \n",
       "108    3469224  6.263224e+06  8.132448e+06  \n",
       "42     5205468  5.205468e+06  7.910936e+06  \n",
       "7      8114627  1.117647e+07  1.629110e+07  \n",
       "..         ...           ...           ...  \n",
       "76   936662225  2.068224e+09  2.759886e+09  \n",
       "13   408084349  1.153304e+09  1.311389e+09  \n",
       "35   295983305  9.602833e+08  1.006267e+09  \n",
       "83   448139099  1.084939e+09  1.283078e+09  \n",
       "78   200821936  5.917949e+08  5.326169e+08  \n",
       "\n",
       "[114 rows x 56 columns]"
      ]
     },
     "execution_count": 303,
     "metadata": {},
     "output_type": "execute_result"
    }
   ],
   "source": [
    "FullDF.sort_values(by='Budget')"
   ]
  },
  {
   "cell_type": "markdown",
   "id": "66cbcf3f",
   "metadata": {},
   "source": [
    "### Highest Grossing Movie Each Year"
   ]
  },
  {
   "cell_type": "code",
   "execution_count": 304,
   "id": "3448ad2f",
   "metadata": {},
   "outputs": [],
   "source": [
    "import sqlite3\n",
    "import pandas as pd"
   ]
  },
  {
   "cell_type": "code",
   "execution_count": 305,
   "id": "3a244a50",
   "metadata": {},
   "outputs": [],
   "source": [
    "df=sqlite3.connect('IMDB.sqlite')"
   ]
  },
  {
   "cell_type": "code",
   "execution_count": 306,
   "id": "739793a5",
   "metadata": {},
   "outputs": [],
   "source": [
    "imdb=pd.read_sql_query('Select * from IMDB',db)"
   ]
  },
  {
   "cell_type": "code",
   "execution_count": 308,
   "id": "2b1b60f4",
   "metadata": {},
   "outputs": [],
   "source": [
    "earning=pd.read_sql_query('Select * from earning',db)"
   ]
  },
  {
   "cell_type": "code",
   "execution_count": 310,
   "id": "26f8e106",
   "metadata": {},
   "outputs": [
    {
     "data": {
      "text/html": [
       "<div>\n",
       "<style scoped>\n",
       "    .dataframe tbody tr th:only-of-type {\n",
       "        vertical-align: middle;\n",
       "    }\n",
       "\n",
       "    .dataframe tbody tr th {\n",
       "        vertical-align: top;\n",
       "    }\n",
       "\n",
       "    .dataframe thead th {\n",
       "        text-align: right;\n",
       "    }\n",
       "</style>\n",
       "<table border=\"1\" class=\"dataframe\">\n",
       "  <thead>\n",
       "    <tr style=\"text-align: right;\">\n",
       "      <th></th>\n",
       "      <th>Movie_id</th>\n",
       "      <th>Domestic</th>\n",
       "      <th>Worldwide</th>\n",
       "    </tr>\n",
       "  </thead>\n",
       "  <tbody>\n",
       "    <tr>\n",
       "      <th>0</th>\n",
       "      <td>36809</td>\n",
       "      <td>56671993</td>\n",
       "      <td>187733202.0</td>\n",
       "    </tr>\n",
       "  </tbody>\n",
       "</table>\n",
       "</div>"
      ],
      "text/plain": [
       "  Movie_id  Domestic    Worldwide\n",
       "0    36809  56671993  187733202.0"
      ]
     },
     "execution_count": 310,
     "metadata": {},
     "output_type": "execute_result"
    }
   ],
   "source": [
    "earning.head(1)"
   ]
  },
  {
   "cell_type": "code",
   "execution_count": 311,
   "id": "3b9ebd03",
   "metadata": {},
   "outputs": [
    {
     "data": {
      "text/html": [
       "<div>\n",
       "<style scoped>\n",
       "    .dataframe tbody tr th:only-of-type {\n",
       "        vertical-align: middle;\n",
       "    }\n",
       "\n",
       "    .dataframe tbody tr th {\n",
       "        vertical-align: top;\n",
       "    }\n",
       "\n",
       "    .dataframe thead th {\n",
       "        text-align: right;\n",
       "    }\n",
       "</style>\n",
       "<table border=\"1\" class=\"dataframe\">\n",
       "  <thead>\n",
       "    <tr style=\"text-align: right;\">\n",
       "      <th></th>\n",
       "      <th>Movie_id</th>\n",
       "      <th>Title</th>\n",
       "      <th>Rating</th>\n",
       "      <th>TotalVotes</th>\n",
       "      <th>MetaCritic</th>\n",
       "      <th>Budget</th>\n",
       "      <th>Runtime</th>\n",
       "      <th>CVotes10</th>\n",
       "      <th>CVotes09</th>\n",
       "      <th>CVotes08</th>\n",
       "      <th>...</th>\n",
       "      <th>Votes3044</th>\n",
       "      <th>Votes3044M</th>\n",
       "      <th>Votes3044F</th>\n",
       "      <th>Votes45A</th>\n",
       "      <th>Votes45AM</th>\n",
       "      <th>Votes45AF</th>\n",
       "      <th>VotesIMDB</th>\n",
       "      <th>Votes1000</th>\n",
       "      <th>VotesUS</th>\n",
       "      <th>VotesnUS</th>\n",
       "    </tr>\n",
       "  </thead>\n",
       "  <tbody>\n",
       "    <tr>\n",
       "      <th>0</th>\n",
       "      <td>36809</td>\n",
       "      <td>12 Years a Slave (2013)</td>\n",
       "      <td>8.1</td>\n",
       "      <td>496092</td>\n",
       "      <td>96</td>\n",
       "      <td>20000000.0</td>\n",
       "      <td>134 min</td>\n",
       "      <td>75556</td>\n",
       "      <td>126223</td>\n",
       "      <td>161460</td>\n",
       "      <td>...</td>\n",
       "      <td>8.0</td>\n",
       "      <td>7.9</td>\n",
       "      <td>8.0</td>\n",
       "      <td>7.8</td>\n",
       "      <td>7.8</td>\n",
       "      <td>8.1</td>\n",
       "      <td>8.0</td>\n",
       "      <td>7.7</td>\n",
       "      <td>8.3</td>\n",
       "      <td>8.0</td>\n",
       "    </tr>\n",
       "  </tbody>\n",
       "</table>\n",
       "<p>1 rows × 52 columns</p>\n",
       "</div>"
      ],
      "text/plain": [
       "  Movie_id                    Title  Rating  TotalVotes MetaCritic  \\\n",
       "0    36809  12 Years a Slave (2013)     8.1      496092         96   \n",
       "\n",
       "       Budget  Runtime CVotes10 CVotes09 CVotes08  ... Votes3044 Votes3044M  \\\n",
       "0  20000000.0  134 min    75556   126223   161460  ...       8.0        7.9   \n",
       "\n",
       "  Votes3044F Votes45A Votes45AM Votes45AF VotesIMDB Votes1000 VotesUS VotesnUS  \n",
       "0        8.0      7.8       7.8       8.1       8.0       7.7     8.3      8.0  \n",
       "\n",
       "[1 rows x 52 columns]"
      ]
     },
     "execution_count": 311,
     "metadata": {},
     "output_type": "execute_result"
    }
   ],
   "source": [
    "imdb.head(1)"
   ]
  },
  {
   "cell_type": "code",
   "execution_count": 312,
   "id": "ec5325c3",
   "metadata": {},
   "outputs": [],
   "source": [
    "#pd.merge?"
   ]
  },
  {
   "cell_type": "code",
   "execution_count": 313,
   "id": "4788db0c",
   "metadata": {},
   "outputs": [],
   "source": [
    "mergedDF=pd.merge(imdb,earning,left_on='Movie_id', right_on='Movie_id')"
   ]
  },
  {
   "cell_type": "code",
   "execution_count": 315,
   "id": "12183f29",
   "metadata": {},
   "outputs": [
    {
     "data": {
      "text/html": [
       "<div>\n",
       "<style scoped>\n",
       "    .dataframe tbody tr th:only-of-type {\n",
       "        vertical-align: middle;\n",
       "    }\n",
       "\n",
       "    .dataframe tbody tr th {\n",
       "        vertical-align: top;\n",
       "    }\n",
       "\n",
       "    .dataframe thead th {\n",
       "        text-align: right;\n",
       "    }\n",
       "</style>\n",
       "<table border=\"1\" class=\"dataframe\">\n",
       "  <thead>\n",
       "    <tr style=\"text-align: right;\">\n",
       "      <th></th>\n",
       "      <th>Movie_id</th>\n",
       "      <th>Title</th>\n",
       "      <th>Rating</th>\n",
       "      <th>TotalVotes</th>\n",
       "      <th>MetaCritic</th>\n",
       "      <th>Budget</th>\n",
       "      <th>Runtime</th>\n",
       "      <th>CVotes10</th>\n",
       "      <th>CVotes09</th>\n",
       "      <th>CVotes08</th>\n",
       "      <th>...</th>\n",
       "      <th>Votes3044F</th>\n",
       "      <th>Votes45A</th>\n",
       "      <th>Votes45AM</th>\n",
       "      <th>Votes45AF</th>\n",
       "      <th>VotesIMDB</th>\n",
       "      <th>Votes1000</th>\n",
       "      <th>VotesUS</th>\n",
       "      <th>VotesnUS</th>\n",
       "      <th>Domestic</th>\n",
       "      <th>Worldwide</th>\n",
       "    </tr>\n",
       "  </thead>\n",
       "  <tbody>\n",
       "    <tr>\n",
       "      <th>0</th>\n",
       "      <td>36809</td>\n",
       "      <td>12 Years a Slave (2013)</td>\n",
       "      <td>8.1</td>\n",
       "      <td>496092</td>\n",
       "      <td>96</td>\n",
       "      <td>20000000.0</td>\n",
       "      <td>134 min</td>\n",
       "      <td>75556</td>\n",
       "      <td>126223</td>\n",
       "      <td>161460</td>\n",
       "      <td>...</td>\n",
       "      <td>8.0</td>\n",
       "      <td>7.8</td>\n",
       "      <td>7.8</td>\n",
       "      <td>8.1</td>\n",
       "      <td>8.0</td>\n",
       "      <td>7.7</td>\n",
       "      <td>8.3</td>\n",
       "      <td>8.0</td>\n",
       "      <td>56671993</td>\n",
       "      <td>187733202.0</td>\n",
       "    </tr>\n",
       "  </tbody>\n",
       "</table>\n",
       "<p>1 rows × 54 columns</p>\n",
       "</div>"
      ],
      "text/plain": [
       "  Movie_id                    Title  Rating  TotalVotes MetaCritic  \\\n",
       "0    36809  12 Years a Slave (2013)     8.1      496092         96   \n",
       "\n",
       "       Budget  Runtime CVotes10 CVotes09 CVotes08  ... Votes3044F Votes45A  \\\n",
       "0  20000000.0  134 min    75556   126223   161460  ...        8.0      7.8   \n",
       "\n",
       "  Votes45AM Votes45AF VotesIMDB Votes1000 VotesUS VotesnUS  Domestic  \\\n",
       "0       7.8       8.1       8.0       7.7     8.3      8.0  56671993   \n",
       "\n",
       "     Worldwide  \n",
       "0  187733202.0  \n",
       "\n",
       "[1 rows x 54 columns]"
      ]
     },
     "execution_count": 315,
     "metadata": {},
     "output_type": "execute_result"
    }
   ],
   "source": [
    "mergedDF.head(1)"
   ]
  },
  {
   "cell_type": "code",
   "execution_count": 316,
   "id": "aae12809",
   "metadata": {},
   "outputs": [],
   "source": [
    "mergedDF['Total Earning']=mergedDF.Worldwide+mergedDF.Domestic"
   ]
  },
  {
   "cell_type": "code",
   "execution_count": null,
   "id": "5bed6b8c",
   "metadata": {},
   "outputs": [],
   "source": []
  },
  {
   "cell_type": "code",
   "execution_count": 318,
   "id": "e6be592e",
   "metadata": {},
   "outputs": [
    {
     "data": {
      "text/html": [
       "<div>\n",
       "<style scoped>\n",
       "    .dataframe tbody tr th:only-of-type {\n",
       "        vertical-align: middle;\n",
       "    }\n",
       "\n",
       "    .dataframe tbody tr th {\n",
       "        vertical-align: top;\n",
       "    }\n",
       "\n",
       "    .dataframe thead th {\n",
       "        text-align: right;\n",
       "    }\n",
       "</style>\n",
       "<table border=\"1\" class=\"dataframe\">\n",
       "  <thead>\n",
       "    <tr style=\"text-align: right;\">\n",
       "      <th></th>\n",
       "      <th>Movie_id</th>\n",
       "      <th>Title</th>\n",
       "      <th>Rating</th>\n",
       "      <th>TotalVotes</th>\n",
       "      <th>MetaCritic</th>\n",
       "      <th>Budget</th>\n",
       "      <th>Runtime</th>\n",
       "      <th>CVotes10</th>\n",
       "      <th>CVotes09</th>\n",
       "      <th>CVotes08</th>\n",
       "      <th>...</th>\n",
       "      <th>Votes45A</th>\n",
       "      <th>Votes45AM</th>\n",
       "      <th>Votes45AF</th>\n",
       "      <th>VotesIMDB</th>\n",
       "      <th>Votes1000</th>\n",
       "      <th>VotesUS</th>\n",
       "      <th>VotesnUS</th>\n",
       "      <th>Domestic</th>\n",
       "      <th>Worldwide</th>\n",
       "      <th>Total Earning</th>\n",
       "    </tr>\n",
       "  </thead>\n",
       "  <tbody>\n",
       "    <tr>\n",
       "      <th>0</th>\n",
       "      <td>36809</td>\n",
       "      <td>12 Years a Slave (2013)</td>\n",
       "      <td>8.1</td>\n",
       "      <td>496092</td>\n",
       "      <td>96</td>\n",
       "      <td>20000000.0</td>\n",
       "      <td>134 min</td>\n",
       "      <td>75556</td>\n",
       "      <td>126223</td>\n",
       "      <td>161460</td>\n",
       "      <td>...</td>\n",
       "      <td>7.8</td>\n",
       "      <td>7.8</td>\n",
       "      <td>8.1</td>\n",
       "      <td>8.0</td>\n",
       "      <td>7.7</td>\n",
       "      <td>8.3</td>\n",
       "      <td>8.0</td>\n",
       "      <td>56671993</td>\n",
       "      <td>187733202.0</td>\n",
       "      <td>244405195.0</td>\n",
       "    </tr>\n",
       "  </tbody>\n",
       "</table>\n",
       "<p>1 rows × 55 columns</p>\n",
       "</div>"
      ],
      "text/plain": [
       "  Movie_id                    Title  Rating  TotalVotes MetaCritic  \\\n",
       "0    36809  12 Years a Slave (2013)     8.1      496092         96   \n",
       "\n",
       "       Budget  Runtime CVotes10 CVotes09 CVotes08  ... Votes45A Votes45AM  \\\n",
       "0  20000000.0  134 min    75556   126223   161460  ...      7.8       7.8   \n",
       "\n",
       "  Votes45AF VotesIMDB Votes1000 VotesUS VotesnUS  Domestic    Worldwide  \\\n",
       "0       8.1       8.0       7.7     8.3      8.0  56671993  187733202.0   \n",
       "\n",
       "  Total Earning  \n",
       "0   244405195.0  \n",
       "\n",
       "[1 rows x 55 columns]"
      ]
     },
     "execution_count": 318,
     "metadata": {},
     "output_type": "execute_result"
    }
   ],
   "source": [
    "mergedDF.head(1)"
   ]
  },
  {
   "cell_type": "code",
   "execution_count": 326,
   "id": "06b19dd4",
   "metadata": {},
   "outputs": [
    {
     "data": {
      "text/plain": [
       "'2010'"
      ]
     },
     "execution_count": 326,
     "metadata": {},
     "output_type": "execute_result"
    }
   ],
   "source": [
    "# Constructing year from title\n",
    "mergedDF.iloc[1].Title.split(' ')[1].split('(')[1].split(')')[0]"
   ]
  },
  {
   "cell_type": "code",
   "execution_count": 335,
   "id": "13bee7b8",
   "metadata": {},
   "outputs": [],
   "source": [
    "def getYear(Title):\n",
    "    #print(Title)\n",
    "    return(Title.split(' ')[-1].split('(')[1].split(')')[0])\n",
    "\n",
    "mergedDF['Year']=mergedDF.Title.apply(getYear)"
   ]
  },
  {
   "cell_type": "code",
   "execution_count": 337,
   "id": "09b7f1be",
   "metadata": {},
   "outputs": [
    {
     "data": {
      "text/html": [
       "<div>\n",
       "<style scoped>\n",
       "    .dataframe tbody tr th:only-of-type {\n",
       "        vertical-align: middle;\n",
       "    }\n",
       "\n",
       "    .dataframe tbody tr th {\n",
       "        vertical-align: top;\n",
       "    }\n",
       "\n",
       "    .dataframe thead th {\n",
       "        text-align: right;\n",
       "    }\n",
       "</style>\n",
       "<table border=\"1\" class=\"dataframe\">\n",
       "  <thead>\n",
       "    <tr style=\"text-align: right;\">\n",
       "      <th></th>\n",
       "      <th>Movie_id</th>\n",
       "      <th>Title</th>\n",
       "      <th>Rating</th>\n",
       "      <th>TotalVotes</th>\n",
       "      <th>MetaCritic</th>\n",
       "      <th>Budget</th>\n",
       "      <th>Runtime</th>\n",
       "      <th>CVotes10</th>\n",
       "      <th>CVotes09</th>\n",
       "      <th>CVotes08</th>\n",
       "      <th>...</th>\n",
       "      <th>Votes45AM</th>\n",
       "      <th>Votes45AF</th>\n",
       "      <th>VotesIMDB</th>\n",
       "      <th>Votes1000</th>\n",
       "      <th>VotesUS</th>\n",
       "      <th>VotesnUS</th>\n",
       "      <th>Domestic</th>\n",
       "      <th>Worldwide</th>\n",
       "      <th>Total Earning</th>\n",
       "      <th>Year</th>\n",
       "    </tr>\n",
       "  </thead>\n",
       "  <tbody>\n",
       "    <tr>\n",
       "      <th>0</th>\n",
       "      <td>36809</td>\n",
       "      <td>12 Years a Slave (2013)</td>\n",
       "      <td>8.1</td>\n",
       "      <td>496092</td>\n",
       "      <td>96</td>\n",
       "      <td>20000000.0</td>\n",
       "      <td>134 min</td>\n",
       "      <td>75556</td>\n",
       "      <td>126223</td>\n",
       "      <td>161460</td>\n",
       "      <td>...</td>\n",
       "      <td>7.8</td>\n",
       "      <td>8.1</td>\n",
       "      <td>8.0</td>\n",
       "      <td>7.7</td>\n",
       "      <td>8.3</td>\n",
       "      <td>8.0</td>\n",
       "      <td>56671993</td>\n",
       "      <td>187733202.0</td>\n",
       "      <td>244405195.0</td>\n",
       "      <td>2013</td>\n",
       "    </tr>\n",
       "  </tbody>\n",
       "</table>\n",
       "<p>1 rows × 56 columns</p>\n",
       "</div>"
      ],
      "text/plain": [
       "  Movie_id                    Title  Rating  TotalVotes MetaCritic  \\\n",
       "0    36809  12 Years a Slave (2013)     8.1      496092         96   \n",
       "\n",
       "       Budget  Runtime CVotes10 CVotes09 CVotes08  ... Votes45AM Votes45AF  \\\n",
       "0  20000000.0  134 min    75556   126223   161460  ...       7.8       8.1   \n",
       "\n",
       "  VotesIMDB Votes1000 VotesUS VotesnUS  Domestic    Worldwide Total Earning  \\\n",
       "0       8.0       7.7     8.3      8.0  56671993  187733202.0   244405195.0   \n",
       "\n",
       "   Year  \n",
       "0  2013  \n",
       "\n",
       "[1 rows x 56 columns]"
      ]
     },
     "execution_count": 337,
     "metadata": {},
     "output_type": "execute_result"
    }
   ],
   "source": [
    "mergedDF.head(1)"
   ]
  },
  {
   "cell_type": "code",
   "execution_count": 343,
   "id": "28688946",
   "metadata": {},
   "outputs": [],
   "source": [
    "max_Gross_Money=mergedDF.groupby('Year')['Total Earning'].max()"
   ]
  },
  {
   "cell_type": "code",
   "execution_count": null,
   "id": "26a52e98",
   "metadata": {},
   "outputs": [],
   "source": [
    "result=[]"
   ]
  },
  {
   "cell_type": "code",
   "execution_count": 369,
   "id": "77a59b1a",
   "metadata": {},
   "outputs": [
    {
     "name": "stdout",
     "output_type": "stream",
     "text": [
      "2010 106    Toy Story 3 (2010)\n",
      "Name: Title, dtype: object\n",
      "2011 67    Rise of the Planet of the Apes (2011)\n",
      "Name: Title, dtype: object\n",
      "2012 83    The Avengers (2012)\n",
      "Name: Title, dtype: object\n",
      "2013 94    The Hunger Games: Catching Fire (2013)\n",
      "Name: Title, dtype: object\n",
      "2014 34    Guardians of the Galaxy (2014)\n",
      "Name: Title, dtype: object\n",
      "2015 79    Star Wars: The Force Awakens (2015)\n",
      "Name: Title, dtype: object\n",
      "2016 68    Rogue One (2016)\n",
      "Name: Title, dtype: object\n"
     ]
    }
   ],
   "source": [
    "for index in max_Gross_Money.index:\n",
    "    title=mergedDF[(mergedDF.Year==index) & (mergedDF['Total Earning']==max_Gross_Money[index])].Title\n",
    "    print(index,title)\n",
    "    "
   ]
  },
  {
   "cell_type": "code",
   "execution_count": 355,
   "id": "30cf7c5d",
   "metadata": {},
   "outputs": [
    {
     "data": {
      "text/plain": [
       "0      2.444052e+08\n",
       "1      7.907403e+07\n",
       "2      7.420198e+07\n",
       "3      1.024234e+08\n",
       "4      2.657898e+07\n",
       "           ...     \n",
       "112    6.207404e+07\n",
       "113    6.606458e+08\n",
       "114    9.817843e+08\n",
       "115    5.000324e+08\n",
       "116    1.365052e+09\n",
       "Name: Total Earning, Length: 117, dtype: float64"
      ]
     },
     "execution_count": 355,
     "metadata": {},
     "output_type": "execute_result"
    }
   ],
   "source": [
    "mergedDF['Total Earning']"
   ]
  },
  {
   "cell_type": "markdown",
   "id": "972fa939",
   "metadata": {},
   "source": [
    "### IMDB genre budget"
   ]
  },
  {
   "cell_type": "code",
   "execution_count": 370,
   "id": "1e75f55d",
   "metadata": {},
   "outputs": [],
   "source": [
    "import sqlite3\n",
    "import pandas as pd"
   ]
  },
  {
   "cell_type": "code",
   "execution_count": 372,
   "id": "8c9d5816",
   "metadata": {},
   "outputs": [],
   "source": [
    "db=sqlite3.connect('IMDB.sqlite')"
   ]
  },
  {
   "cell_type": "code",
   "execution_count": 373,
   "id": "c2aefd17",
   "metadata": {},
   "outputs": [],
   "source": [
    "imdb=pd.read_sql_query('Select * from imdb',db)"
   ]
  },
  {
   "cell_type": "code",
   "execution_count": 374,
   "id": "68451ad6",
   "metadata": {},
   "outputs": [],
   "source": [
    "genre=pd.read_sql_query('Select * from genre',db)"
   ]
  },
  {
   "cell_type": "code",
   "execution_count": 376,
   "id": "76107fd2",
   "metadata": {},
   "outputs": [
    {
     "data": {
      "text/html": [
       "<div>\n",
       "<style scoped>\n",
       "    .dataframe tbody tr th:only-of-type {\n",
       "        vertical-align: middle;\n",
       "    }\n",
       "\n",
       "    .dataframe tbody tr th {\n",
       "        vertical-align: top;\n",
       "    }\n",
       "\n",
       "    .dataframe thead th {\n",
       "        text-align: right;\n",
       "    }\n",
       "</style>\n",
       "<table border=\"1\" class=\"dataframe\">\n",
       "  <thead>\n",
       "    <tr style=\"text-align: right;\">\n",
       "      <th></th>\n",
       "      <th>Movie_id</th>\n",
       "      <th>genre</th>\n",
       "    </tr>\n",
       "  </thead>\n",
       "  <tbody>\n",
       "    <tr>\n",
       "      <th>0</th>\n",
       "      <td>36809</td>\n",
       "      <td>Biography</td>\n",
       "    </tr>\n",
       "  </tbody>\n",
       "</table>\n",
       "</div>"
      ],
      "text/plain": [
       "  Movie_id      genre\n",
       "0    36809  Biography"
      ]
     },
     "execution_count": 376,
     "metadata": {},
     "output_type": "execute_result"
    }
   ],
   "source": [
    "genre.head(1)"
   ]
  },
  {
   "cell_type": "code",
   "execution_count": 377,
   "id": "0ed672d7",
   "metadata": {},
   "outputs": [
    {
     "data": {
      "text/html": [
       "<div>\n",
       "<style scoped>\n",
       "    .dataframe tbody tr th:only-of-type {\n",
       "        vertical-align: middle;\n",
       "    }\n",
       "\n",
       "    .dataframe tbody tr th {\n",
       "        vertical-align: top;\n",
       "    }\n",
       "\n",
       "    .dataframe thead th {\n",
       "        text-align: right;\n",
       "    }\n",
       "</style>\n",
       "<table border=\"1\" class=\"dataframe\">\n",
       "  <thead>\n",
       "    <tr style=\"text-align: right;\">\n",
       "      <th></th>\n",
       "      <th>Movie_id</th>\n",
       "      <th>Title</th>\n",
       "      <th>Rating</th>\n",
       "      <th>TotalVotes</th>\n",
       "      <th>MetaCritic</th>\n",
       "      <th>Budget</th>\n",
       "      <th>Runtime</th>\n",
       "      <th>CVotes10</th>\n",
       "      <th>CVotes09</th>\n",
       "      <th>CVotes08</th>\n",
       "      <th>...</th>\n",
       "      <th>Votes3044</th>\n",
       "      <th>Votes3044M</th>\n",
       "      <th>Votes3044F</th>\n",
       "      <th>Votes45A</th>\n",
       "      <th>Votes45AM</th>\n",
       "      <th>Votes45AF</th>\n",
       "      <th>VotesIMDB</th>\n",
       "      <th>Votes1000</th>\n",
       "      <th>VotesUS</th>\n",
       "      <th>VotesnUS</th>\n",
       "    </tr>\n",
       "  </thead>\n",
       "  <tbody>\n",
       "    <tr>\n",
       "      <th>0</th>\n",
       "      <td>36809</td>\n",
       "      <td>12 Years a Slave (2013)</td>\n",
       "      <td>8.1</td>\n",
       "      <td>496092</td>\n",
       "      <td>96</td>\n",
       "      <td>20000000.0</td>\n",
       "      <td>134 min</td>\n",
       "      <td>75556</td>\n",
       "      <td>126223</td>\n",
       "      <td>161460</td>\n",
       "      <td>...</td>\n",
       "      <td>8.0</td>\n",
       "      <td>7.9</td>\n",
       "      <td>8.0</td>\n",
       "      <td>7.8</td>\n",
       "      <td>7.8</td>\n",
       "      <td>8.1</td>\n",
       "      <td>8.0</td>\n",
       "      <td>7.7</td>\n",
       "      <td>8.3</td>\n",
       "      <td>8.0</td>\n",
       "    </tr>\n",
       "  </tbody>\n",
       "</table>\n",
       "<p>1 rows × 52 columns</p>\n",
       "</div>"
      ],
      "text/plain": [
       "  Movie_id                    Title  Rating  TotalVotes MetaCritic  \\\n",
       "0    36809  12 Years a Slave (2013)     8.1      496092         96   \n",
       "\n",
       "       Budget  Runtime CVotes10 CVotes09 CVotes08  ... Votes3044 Votes3044M  \\\n",
       "0  20000000.0  134 min    75556   126223   161460  ...       8.0        7.9   \n",
       "\n",
       "  Votes3044F Votes45A Votes45AM Votes45AF VotesIMDB Votes1000 VotesUS VotesnUS  \n",
       "0        8.0      7.8       7.8       8.1       8.0       7.7     8.3      8.0  \n",
       "\n",
       "[1 rows x 52 columns]"
      ]
     },
     "execution_count": 377,
     "metadata": {},
     "output_type": "execute_result"
    }
   ],
   "source": [
    "imdb.head(1)"
   ]
  },
  {
   "cell_type": "code",
   "execution_count": 379,
   "id": "b3d7ac84",
   "metadata": {},
   "outputs": [],
   "source": [
    "mergedDF=pd.merge(imdb,genre,left_on='Movie_id',right_on='Movie_id')"
   ]
  },
  {
   "cell_type": "code",
   "execution_count": 380,
   "id": "ccd0e3ce",
   "metadata": {},
   "outputs": [
    {
     "data": {
      "text/html": [
       "<div>\n",
       "<style scoped>\n",
       "    .dataframe tbody tr th:only-of-type {\n",
       "        vertical-align: middle;\n",
       "    }\n",
       "\n",
       "    .dataframe tbody tr th {\n",
       "        vertical-align: top;\n",
       "    }\n",
       "\n",
       "    .dataframe thead th {\n",
       "        text-align: right;\n",
       "    }\n",
       "</style>\n",
       "<table border=\"1\" class=\"dataframe\">\n",
       "  <thead>\n",
       "    <tr style=\"text-align: right;\">\n",
       "      <th></th>\n",
       "      <th>Movie_id</th>\n",
       "      <th>Title</th>\n",
       "      <th>Rating</th>\n",
       "      <th>TotalVotes</th>\n",
       "      <th>MetaCritic</th>\n",
       "      <th>Budget</th>\n",
       "      <th>Runtime</th>\n",
       "      <th>CVotes10</th>\n",
       "      <th>CVotes09</th>\n",
       "      <th>CVotes08</th>\n",
       "      <th>...</th>\n",
       "      <th>Votes3044M</th>\n",
       "      <th>Votes3044F</th>\n",
       "      <th>Votes45A</th>\n",
       "      <th>Votes45AM</th>\n",
       "      <th>Votes45AF</th>\n",
       "      <th>VotesIMDB</th>\n",
       "      <th>Votes1000</th>\n",
       "      <th>VotesUS</th>\n",
       "      <th>VotesnUS</th>\n",
       "      <th>genre</th>\n",
       "    </tr>\n",
       "  </thead>\n",
       "  <tbody>\n",
       "    <tr>\n",
       "      <th>0</th>\n",
       "      <td>36809</td>\n",
       "      <td>12 Years a Slave (2013)</td>\n",
       "      <td>8.1</td>\n",
       "      <td>496092</td>\n",
       "      <td>96</td>\n",
       "      <td>20000000.0</td>\n",
       "      <td>134 min</td>\n",
       "      <td>75556</td>\n",
       "      <td>126223</td>\n",
       "      <td>161460</td>\n",
       "      <td>...</td>\n",
       "      <td>7.9</td>\n",
       "      <td>8.0</td>\n",
       "      <td>7.8</td>\n",
       "      <td>7.8</td>\n",
       "      <td>8.1</td>\n",
       "      <td>8.0</td>\n",
       "      <td>7.7</td>\n",
       "      <td>8.3</td>\n",
       "      <td>8.0</td>\n",
       "      <td>Biography</td>\n",
       "    </tr>\n",
       "    <tr>\n",
       "      <th>1</th>\n",
       "      <td>36809</td>\n",
       "      <td>12 Years a Slave (2013)</td>\n",
       "      <td>8.1</td>\n",
       "      <td>496092</td>\n",
       "      <td>96</td>\n",
       "      <td>20000000.0</td>\n",
       "      <td>134 min</td>\n",
       "      <td>75556</td>\n",
       "      <td>126223</td>\n",
       "      <td>161460</td>\n",
       "      <td>...</td>\n",
       "      <td>7.9</td>\n",
       "      <td>8.0</td>\n",
       "      <td>7.8</td>\n",
       "      <td>7.8</td>\n",
       "      <td>8.1</td>\n",
       "      <td>8.0</td>\n",
       "      <td>7.7</td>\n",
       "      <td>8.3</td>\n",
       "      <td>8.0</td>\n",
       "      <td>Drama</td>\n",
       "    </tr>\n",
       "    <tr>\n",
       "      <th>2</th>\n",
       "      <td>36809</td>\n",
       "      <td>12 Years a Slave (2013)</td>\n",
       "      <td>8.1</td>\n",
       "      <td>496092</td>\n",
       "      <td>96</td>\n",
       "      <td>20000000.0</td>\n",
       "      <td>134 min</td>\n",
       "      <td>75556</td>\n",
       "      <td>126223</td>\n",
       "      <td>161460</td>\n",
       "      <td>...</td>\n",
       "      <td>7.9</td>\n",
       "      <td>8.0</td>\n",
       "      <td>7.8</td>\n",
       "      <td>7.8</td>\n",
       "      <td>8.1</td>\n",
       "      <td>8.0</td>\n",
       "      <td>7.7</td>\n",
       "      <td>8.3</td>\n",
       "      <td>8.0</td>\n",
       "      <td>History</td>\n",
       "    </tr>\n",
       "    <tr>\n",
       "      <th>3</th>\n",
       "      <td>30114</td>\n",
       "      <td>127 Hours (2010)</td>\n",
       "      <td>7.6</td>\n",
       "      <td>297075</td>\n",
       "      <td>82</td>\n",
       "      <td>18000000.0</td>\n",
       "      <td>94 min</td>\n",
       "      <td>28939</td>\n",
       "      <td>44110</td>\n",
       "      <td>98845</td>\n",
       "      <td>...</td>\n",
       "      <td>7.5</td>\n",
       "      <td>7.5</td>\n",
       "      <td>7.3</td>\n",
       "      <td>7.3</td>\n",
       "      <td>7.5</td>\n",
       "      <td>7.6</td>\n",
       "      <td>7.0</td>\n",
       "      <td>7.7</td>\n",
       "      <td>7.6</td>\n",
       "      <td>Adventure</td>\n",
       "    </tr>\n",
       "    <tr>\n",
       "      <th>4</th>\n",
       "      <td>30114</td>\n",
       "      <td>127 Hours (2010)</td>\n",
       "      <td>7.6</td>\n",
       "      <td>297075</td>\n",
       "      <td>82</td>\n",
       "      <td>18000000.0</td>\n",
       "      <td>94 min</td>\n",
       "      <td>28939</td>\n",
       "      <td>44110</td>\n",
       "      <td>98845</td>\n",
       "      <td>...</td>\n",
       "      <td>7.5</td>\n",
       "      <td>7.5</td>\n",
       "      <td>7.3</td>\n",
       "      <td>7.3</td>\n",
       "      <td>7.5</td>\n",
       "      <td>7.6</td>\n",
       "      <td>7.0</td>\n",
       "      <td>7.7</td>\n",
       "      <td>7.6</td>\n",
       "      <td>Biography</td>\n",
       "    </tr>\n",
       "  </tbody>\n",
       "</table>\n",
       "<p>5 rows × 53 columns</p>\n",
       "</div>"
      ],
      "text/plain": [
       "  Movie_id                    Title  Rating  TotalVotes MetaCritic  \\\n",
       "0    36809  12 Years a Slave (2013)     8.1      496092         96   \n",
       "1    36809  12 Years a Slave (2013)     8.1      496092         96   \n",
       "2    36809  12 Years a Slave (2013)     8.1      496092         96   \n",
       "3    30114         127 Hours (2010)     7.6      297075         82   \n",
       "4    30114         127 Hours (2010)     7.6      297075         82   \n",
       "\n",
       "       Budget  Runtime CVotes10 CVotes09 CVotes08  ... Votes3044M Votes3044F  \\\n",
       "0  20000000.0  134 min    75556   126223   161460  ...        7.9        8.0   \n",
       "1  20000000.0  134 min    75556   126223   161460  ...        7.9        8.0   \n",
       "2  20000000.0  134 min    75556   126223   161460  ...        7.9        8.0   \n",
       "3  18000000.0   94 min    28939    44110    98845  ...        7.5        7.5   \n",
       "4  18000000.0   94 min    28939    44110    98845  ...        7.5        7.5   \n",
       "\n",
       "  Votes45A Votes45AM Votes45AF VotesIMDB Votes1000 VotesUS VotesnUS      genre  \n",
       "0      7.8       7.8       8.1       8.0       7.7     8.3      8.0  Biography  \n",
       "1      7.8       7.8       8.1       8.0       7.7     8.3      8.0      Drama  \n",
       "2      7.8       7.8       8.1       8.0       7.7     8.3      8.0    History  \n",
       "3      7.3       7.3       7.5       7.6       7.0     7.7      7.6  Adventure  \n",
       "4      7.3       7.3       7.5       7.6       7.0     7.7      7.6  Biography  \n",
       "\n",
       "[5 rows x 53 columns]"
      ]
     },
     "execution_count": 380,
     "metadata": {},
     "output_type": "execute_result"
    }
   ],
   "source": [
    "mergedDF.head()"
   ]
  },
  {
   "cell_type": "code",
   "execution_count": 387,
   "id": "7a9fc0c8",
   "metadata": {},
   "outputs": [],
   "source": [
    "mergedDF.drop(mergedDF[mergedDF.Budget==''].index,inplace=True)"
   ]
  },
  {
   "cell_type": "code",
   "execution_count": 388,
   "id": "d5b8c8a7",
   "metadata": {},
   "outputs": [],
   "source": [
    "mergedDF.reset_index(inplace=True)"
   ]
  },
  {
   "cell_type": "code",
   "execution_count": 393,
   "id": "073dcbd0",
   "metadata": {},
   "outputs": [],
   "source": [
    "mergedDF.Budget=pd.to_numeric(mergedDF.Budget)"
   ]
  },
  {
   "cell_type": "code",
   "execution_count": 396,
   "id": "507c3649",
   "metadata": {},
   "outputs": [
    {
     "data": {
      "text/plain": [
       "numpy.float64"
      ]
     },
     "execution_count": 396,
     "metadata": {},
     "output_type": "execute_result"
    }
   ],
   "source": [
    "type(mergedDF.iloc[1].Budget)"
   ]
  },
  {
   "cell_type": "code",
   "execution_count": 397,
   "id": "6c5fdbc7",
   "metadata": {},
   "outputs": [
    {
     "data": {
      "text/html": [
       "<div>\n",
       "<style scoped>\n",
       "    .dataframe tbody tr th:only-of-type {\n",
       "        vertical-align: middle;\n",
       "    }\n",
       "\n",
       "    .dataframe tbody tr th {\n",
       "        vertical-align: top;\n",
       "    }\n",
       "\n",
       "    .dataframe thead th {\n",
       "        text-align: right;\n",
       "    }\n",
       "</style>\n",
       "<table border=\"1\" class=\"dataframe\">\n",
       "  <thead>\n",
       "    <tr style=\"text-align: right;\">\n",
       "      <th></th>\n",
       "      <th>index</th>\n",
       "      <th>Movie_id</th>\n",
       "      <th>Title</th>\n",
       "      <th>Rating</th>\n",
       "      <th>TotalVotes</th>\n",
       "      <th>MetaCritic</th>\n",
       "      <th>Budget</th>\n",
       "      <th>Runtime</th>\n",
       "      <th>CVotes10</th>\n",
       "      <th>CVotes09</th>\n",
       "      <th>...</th>\n",
       "      <th>Votes3044M</th>\n",
       "      <th>Votes3044F</th>\n",
       "      <th>Votes45A</th>\n",
       "      <th>Votes45AM</th>\n",
       "      <th>Votes45AF</th>\n",
       "      <th>VotesIMDB</th>\n",
       "      <th>Votes1000</th>\n",
       "      <th>VotesUS</th>\n",
       "      <th>VotesnUS</th>\n",
       "      <th>genre</th>\n",
       "    </tr>\n",
       "  </thead>\n",
       "  <tbody>\n",
       "    <tr>\n",
       "      <th>0</th>\n",
       "      <td>0</td>\n",
       "      <td>36809</td>\n",
       "      <td>12 Years a Slave (2013)</td>\n",
       "      <td>8.1</td>\n",
       "      <td>496092</td>\n",
       "      <td>96</td>\n",
       "      <td>20000000.0</td>\n",
       "      <td>134 min</td>\n",
       "      <td>75556</td>\n",
       "      <td>126223</td>\n",
       "      <td>...</td>\n",
       "      <td>7.9</td>\n",
       "      <td>8.0</td>\n",
       "      <td>7.8</td>\n",
       "      <td>7.8</td>\n",
       "      <td>8.1</td>\n",
       "      <td>8.0</td>\n",
       "      <td>7.7</td>\n",
       "      <td>8.3</td>\n",
       "      <td>8.0</td>\n",
       "      <td>Biography</td>\n",
       "    </tr>\n",
       "    <tr>\n",
       "      <th>1</th>\n",
       "      <td>1</td>\n",
       "      <td>36809</td>\n",
       "      <td>12 Years a Slave (2013)</td>\n",
       "      <td>8.1</td>\n",
       "      <td>496092</td>\n",
       "      <td>96</td>\n",
       "      <td>20000000.0</td>\n",
       "      <td>134 min</td>\n",
       "      <td>75556</td>\n",
       "      <td>126223</td>\n",
       "      <td>...</td>\n",
       "      <td>7.9</td>\n",
       "      <td>8.0</td>\n",
       "      <td>7.8</td>\n",
       "      <td>7.8</td>\n",
       "      <td>8.1</td>\n",
       "      <td>8.0</td>\n",
       "      <td>7.7</td>\n",
       "      <td>8.3</td>\n",
       "      <td>8.0</td>\n",
       "      <td>Drama</td>\n",
       "    </tr>\n",
       "    <tr>\n",
       "      <th>2</th>\n",
       "      <td>2</td>\n",
       "      <td>36809</td>\n",
       "      <td>12 Years a Slave (2013)</td>\n",
       "      <td>8.1</td>\n",
       "      <td>496092</td>\n",
       "      <td>96</td>\n",
       "      <td>20000000.0</td>\n",
       "      <td>134 min</td>\n",
       "      <td>75556</td>\n",
       "      <td>126223</td>\n",
       "      <td>...</td>\n",
       "      <td>7.9</td>\n",
       "      <td>8.0</td>\n",
       "      <td>7.8</td>\n",
       "      <td>7.8</td>\n",
       "      <td>8.1</td>\n",
       "      <td>8.0</td>\n",
       "      <td>7.7</td>\n",
       "      <td>8.3</td>\n",
       "      <td>8.0</td>\n",
       "      <td>History</td>\n",
       "    </tr>\n",
       "    <tr>\n",
       "      <th>3</th>\n",
       "      <td>3</td>\n",
       "      <td>30114</td>\n",
       "      <td>127 Hours (2010)</td>\n",
       "      <td>7.6</td>\n",
       "      <td>297075</td>\n",
       "      <td>82</td>\n",
       "      <td>18000000.0</td>\n",
       "      <td>94 min</td>\n",
       "      <td>28939</td>\n",
       "      <td>44110</td>\n",
       "      <td>...</td>\n",
       "      <td>7.5</td>\n",
       "      <td>7.5</td>\n",
       "      <td>7.3</td>\n",
       "      <td>7.3</td>\n",
       "      <td>7.5</td>\n",
       "      <td>7.6</td>\n",
       "      <td>7.0</td>\n",
       "      <td>7.7</td>\n",
       "      <td>7.6</td>\n",
       "      <td>Adventure</td>\n",
       "    </tr>\n",
       "    <tr>\n",
       "      <th>4</th>\n",
       "      <td>4</td>\n",
       "      <td>30114</td>\n",
       "      <td>127 Hours (2010)</td>\n",
       "      <td>7.6</td>\n",
       "      <td>297075</td>\n",
       "      <td>82</td>\n",
       "      <td>18000000.0</td>\n",
       "      <td>94 min</td>\n",
       "      <td>28939</td>\n",
       "      <td>44110</td>\n",
       "      <td>...</td>\n",
       "      <td>7.5</td>\n",
       "      <td>7.5</td>\n",
       "      <td>7.3</td>\n",
       "      <td>7.3</td>\n",
       "      <td>7.5</td>\n",
       "      <td>7.6</td>\n",
       "      <td>7.0</td>\n",
       "      <td>7.7</td>\n",
       "      <td>7.6</td>\n",
       "      <td>Biography</td>\n",
       "    </tr>\n",
       "  </tbody>\n",
       "</table>\n",
       "<p>5 rows × 54 columns</p>\n",
       "</div>"
      ],
      "text/plain": [
       "   index Movie_id                    Title  Rating  TotalVotes MetaCritic  \\\n",
       "0      0    36809  12 Years a Slave (2013)     8.1      496092         96   \n",
       "1      1    36809  12 Years a Slave (2013)     8.1      496092         96   \n",
       "2      2    36809  12 Years a Slave (2013)     8.1      496092         96   \n",
       "3      3    30114         127 Hours (2010)     7.6      297075         82   \n",
       "4      4    30114         127 Hours (2010)     7.6      297075         82   \n",
       "\n",
       "       Budget  Runtime CVotes10 CVotes09  ... Votes3044M Votes3044F Votes45A  \\\n",
       "0  20000000.0  134 min    75556   126223  ...        7.9        8.0      7.8   \n",
       "1  20000000.0  134 min    75556   126223  ...        7.9        8.0      7.8   \n",
       "2  20000000.0  134 min    75556   126223  ...        7.9        8.0      7.8   \n",
       "3  18000000.0   94 min    28939    44110  ...        7.5        7.5      7.3   \n",
       "4  18000000.0   94 min    28939    44110  ...        7.5        7.5      7.3   \n",
       "\n",
       "  Votes45AM Votes45AF VotesIMDB Votes1000 VotesUS VotesnUS      genre  \n",
       "0       7.8       8.1       8.0       7.7     8.3      8.0  Biography  \n",
       "1       7.8       8.1       8.0       7.7     8.3      8.0      Drama  \n",
       "2       7.8       8.1       8.0       7.7     8.3      8.0    History  \n",
       "3       7.3       7.5       7.6       7.0     7.7      7.6  Adventure  \n",
       "4       7.3       7.5       7.6       7.0     7.7      7.6  Biography  \n",
       "\n",
       "[5 rows x 54 columns]"
      ]
     },
     "execution_count": 397,
     "metadata": {},
     "output_type": "execute_result"
    }
   ],
   "source": [
    "mergedDF.head()"
   ]
  },
  {
   "cell_type": "code",
   "execution_count": 418,
   "id": "64542559",
   "metadata": {},
   "outputs": [],
   "source": [
    "df=mergedDF.groupby('genre')['Budget'].sum()"
   ]
  },
  {
   "cell_type": "code",
   "execution_count": 419,
   "id": "16949b2d",
   "metadata": {},
   "outputs": [],
   "source": [
    "df.drop('', inplace=True)"
   ]
  },
  {
   "cell_type": "code",
   "execution_count": 420,
   "id": "e9697504",
   "metadata": {},
   "outputs": [],
   "source": [
    "totalSum=sum(df)"
   ]
  },
  {
   "cell_type": "code",
   "execution_count": 421,
   "id": "a5bdcca8",
   "metadata": {},
   "outputs": [],
   "source": [
    "df=round((df*100/totalSum),2)"
   ]
  },
  {
   "cell_type": "code",
   "execution_count": 422,
   "id": "87653743",
   "metadata": {},
   "outputs": [
    {
     "data": {
      "text/plain": [
       "genre\n",
       "Action       17.98\n",
       "Adventure    25.10\n",
       "Animation     7.66\n",
       "Biography     2.59\n",
       "Comedy        7.22\n",
       "Crime         1.77\n",
       "Drama        10.85\n",
       "Family        1.91\n",
       "Fantasy       4.54\n",
       "History       0.72\n",
       "Horror        0.03\n",
       "Music         0.15\n",
       "Musical       0.25\n",
       "Mystery       1.95\n",
       "Romance       1.12\n",
       "Sci-Fi       10.77\n",
       "Sport         0.46\n",
       "Thriller      3.99\n",
       "War           0.36\n",
       "Western       0.57\n",
       "Name: Budget, dtype: float64"
      ]
     },
     "execution_count": 422,
     "metadata": {},
     "output_type": "execute_result"
    }
   ],
   "source": [
    "df"
   ]
  },
  {
   "cell_type": "code",
   "execution_count": 423,
   "id": "54468978",
   "metadata": {},
   "outputs": [],
   "source": [
    "import matplotlib.pyplot as plt"
   ]
  },
  {
   "cell_type": "code",
   "execution_count": 434,
   "id": "e42f0c47",
   "metadata": {},
   "outputs": [],
   "source": [
    "plt.pie?"
   ]
  },
  {
   "cell_type": "code",
   "execution_count": 435,
   "id": "06540960",
   "metadata": {},
   "outputs": [
    {
     "data": {
      "image/png": "[encoded data removed]",
      "text/plain": [
       "<Figure size 432x288 with 1 Axes>"
      ]
     },
     "metadata": {},
     "output_type": "display_data"
    }
   ],
   "source": [
    "plt.pie(df.values, labels=df.index, rotatelabels='45')\n",
    "\n",
    "plt.show()"
   ]
  },
  {
   "cell_type": "markdown",
   "id": "95c1e414",
   "metadata": {},
   "source": [
    "### Ques IMDB Genre Earning"
   ]
  },
  {
   "cell_type": "code",
   "execution_count": 467,
   "id": "ee466724",
   "metadata": {},
   "outputs": [],
   "source": [
    "import sqlite3\n",
    "import pandas"
   ]
  },
  {
   "cell_type": "code",
   "execution_count": 468,
   "id": "51922af8",
   "metadata": {},
   "outputs": [],
   "source": [
    "db=sqlite3.connect('IMDB.sqlite')"
   ]
  },
  {
   "cell_type": "code",
   "execution_count": 473,
   "id": "13cedb45",
   "metadata": {},
   "outputs": [],
   "source": [
    "df=pd.read_sql_query('Select * from IMDB inner join earning on IMDB.Movie_id=earning.Movie_id inner join genre on earning.Movie_id=genre.Movie_id',db)"
   ]
  },
  {
   "cell_type": "code",
   "execution_count": 474,
   "id": "771aa884",
   "metadata": {},
   "outputs": [
    {
     "data": {
      "text/html": [
       "<div>\n",
       "<style scoped>\n",
       "    .dataframe tbody tr th:only-of-type {\n",
       "        vertical-align: middle;\n",
       "    }\n",
       "\n",
       "    .dataframe tbody tr th {\n",
       "        vertical-align: top;\n",
       "    }\n",
       "\n",
       "    .dataframe thead th {\n",
       "        text-align: right;\n",
       "    }\n",
       "</style>\n",
       "<table border=\"1\" class=\"dataframe\">\n",
       "  <thead>\n",
       "    <tr style=\"text-align: right;\">\n",
       "      <th></th>\n",
       "      <th>Movie_id</th>\n",
       "      <th>Title</th>\n",
       "      <th>Rating</th>\n",
       "      <th>TotalVotes</th>\n",
       "      <th>MetaCritic</th>\n",
       "      <th>Budget</th>\n",
       "      <th>Runtime</th>\n",
       "      <th>CVotes10</th>\n",
       "      <th>CVotes09</th>\n",
       "      <th>CVotes08</th>\n",
       "      <th>...</th>\n",
       "      <th>Votes45AF</th>\n",
       "      <th>VotesIMDB</th>\n",
       "      <th>Votes1000</th>\n",
       "      <th>VotesUS</th>\n",
       "      <th>VotesnUS</th>\n",
       "      <th>Movie_id</th>\n",
       "      <th>Domestic</th>\n",
       "      <th>Worldwide</th>\n",
       "      <th>Movie_id</th>\n",
       "      <th>genre</th>\n",
       "    </tr>\n",
       "  </thead>\n",
       "  <tbody>\n",
       "    <tr>\n",
       "      <th>0</th>\n",
       "      <td>36809</td>\n",
       "      <td>12 Years a Slave (2013)</td>\n",
       "      <td>8.1</td>\n",
       "      <td>496092</td>\n",
       "      <td>96</td>\n",
       "      <td>20000000.0</td>\n",
       "      <td>134 min</td>\n",
       "      <td>75556</td>\n",
       "      <td>126223</td>\n",
       "      <td>161460</td>\n",
       "      <td>...</td>\n",
       "      <td>8.1</td>\n",
       "      <td>8.0</td>\n",
       "      <td>7.7</td>\n",
       "      <td>8.3</td>\n",
       "      <td>8.0</td>\n",
       "      <td>36809</td>\n",
       "      <td>56671993</td>\n",
       "      <td>1.877332e+08</td>\n",
       "      <td>36809</td>\n",
       "      <td>Biography</td>\n",
       "    </tr>\n",
       "    <tr>\n",
       "      <th>1</th>\n",
       "      <td>36809</td>\n",
       "      <td>12 Years a Slave (2013)</td>\n",
       "      <td>8.1</td>\n",
       "      <td>496092</td>\n",
       "      <td>96</td>\n",
       "      <td>20000000.0</td>\n",
       "      <td>134 min</td>\n",
       "      <td>75556</td>\n",
       "      <td>126223</td>\n",
       "      <td>161460</td>\n",
       "      <td>...</td>\n",
       "      <td>8.1</td>\n",
       "      <td>8.0</td>\n",
       "      <td>7.7</td>\n",
       "      <td>8.3</td>\n",
       "      <td>8.0</td>\n",
       "      <td>36809</td>\n",
       "      <td>56671993</td>\n",
       "      <td>1.877332e+08</td>\n",
       "      <td>36809</td>\n",
       "      <td>Drama</td>\n",
       "    </tr>\n",
       "    <tr>\n",
       "      <th>2</th>\n",
       "      <td>36809</td>\n",
       "      <td>12 Years a Slave (2013)</td>\n",
       "      <td>8.1</td>\n",
       "      <td>496092</td>\n",
       "      <td>96</td>\n",
       "      <td>20000000.0</td>\n",
       "      <td>134 min</td>\n",
       "      <td>75556</td>\n",
       "      <td>126223</td>\n",
       "      <td>161460</td>\n",
       "      <td>...</td>\n",
       "      <td>8.1</td>\n",
       "      <td>8.0</td>\n",
       "      <td>7.7</td>\n",
       "      <td>8.3</td>\n",
       "      <td>8.0</td>\n",
       "      <td>36809</td>\n",
       "      <td>56671993</td>\n",
       "      <td>1.877332e+08</td>\n",
       "      <td>36809</td>\n",
       "      <td>History</td>\n",
       "    </tr>\n",
       "    <tr>\n",
       "      <th>3</th>\n",
       "      <td>30114</td>\n",
       "      <td>127 Hours (2010)</td>\n",
       "      <td>7.6</td>\n",
       "      <td>297075</td>\n",
       "      <td>82</td>\n",
       "      <td>18000000.0</td>\n",
       "      <td>94 min</td>\n",
       "      <td>28939</td>\n",
       "      <td>44110</td>\n",
       "      <td>98845</td>\n",
       "      <td>...</td>\n",
       "      <td>7.5</td>\n",
       "      <td>7.6</td>\n",
       "      <td>7.0</td>\n",
       "      <td>7.7</td>\n",
       "      <td>7.6</td>\n",
       "      <td>30114</td>\n",
       "      <td>18335230</td>\n",
       "      <td>6.073880e+07</td>\n",
       "      <td>30114</td>\n",
       "      <td>Adventure</td>\n",
       "    </tr>\n",
       "    <tr>\n",
       "      <th>4</th>\n",
       "      <td>30114</td>\n",
       "      <td>127 Hours (2010)</td>\n",
       "      <td>7.6</td>\n",
       "      <td>297075</td>\n",
       "      <td>82</td>\n",
       "      <td>18000000.0</td>\n",
       "      <td>94 min</td>\n",
       "      <td>28939</td>\n",
       "      <td>44110</td>\n",
       "      <td>98845</td>\n",
       "      <td>...</td>\n",
       "      <td>7.5</td>\n",
       "      <td>7.6</td>\n",
       "      <td>7.0</td>\n",
       "      <td>7.7</td>\n",
       "      <td>7.6</td>\n",
       "      <td>30114</td>\n",
       "      <td>18335230</td>\n",
       "      <td>6.073880e+07</td>\n",
       "      <td>30114</td>\n",
       "      <td>Biography</td>\n",
       "    </tr>\n",
       "    <tr>\n",
       "      <th>...</th>\n",
       "      <td>...</td>\n",
       "      <td>...</td>\n",
       "      <td>...</td>\n",
       "      <td>...</td>\n",
       "      <td>...</td>\n",
       "      <td>...</td>\n",
       "      <td>...</td>\n",
       "      <td>...</td>\n",
       "      <td>...</td>\n",
       "      <td>...</td>\n",
       "      <td>...</td>\n",
       "      <td>...</td>\n",
       "      <td>...</td>\n",
       "      <td>...</td>\n",
       "      <td>...</td>\n",
       "      <td>...</td>\n",
       "      <td>...</td>\n",
       "      <td>...</td>\n",
       "      <td>...</td>\n",
       "      <td>...</td>\n",
       "      <td>...</td>\n",
       "    </tr>\n",
       "    <tr>\n",
       "      <th>346</th>\n",
       "      <td>42294</td>\n",
       "      <td>X-Men: First Class (2011)</td>\n",
       "      <td>7.8</td>\n",
       "      <td>556713</td>\n",
       "      <td>65</td>\n",
       "      <td>160000000.0</td>\n",
       "      <td>132 min</td>\n",
       "      <td>64428</td>\n",
       "      <td>96219</td>\n",
       "      <td>200144</td>\n",
       "      <td>...</td>\n",
       "      <td>7.7</td>\n",
       "      <td>7.6</td>\n",
       "      <td>7.3</td>\n",
       "      <td>7.8</td>\n",
       "      <td>7.7</td>\n",
       "      <td>42294</td>\n",
       "      <td>146408305</td>\n",
       "      <td>3.536241e+08</td>\n",
       "      <td>42294</td>\n",
       "      <td>Adventure</td>\n",
       "    </tr>\n",
       "    <tr>\n",
       "      <th>347</th>\n",
       "      <td>42294</td>\n",
       "      <td>X-Men: First Class (2011)</td>\n",
       "      <td>7.8</td>\n",
       "      <td>556713</td>\n",
       "      <td>65</td>\n",
       "      <td>160000000.0</td>\n",
       "      <td>132 min</td>\n",
       "      <td>64428</td>\n",
       "      <td>96219</td>\n",
       "      <td>200144</td>\n",
       "      <td>...</td>\n",
       "      <td>7.7</td>\n",
       "      <td>7.6</td>\n",
       "      <td>7.3</td>\n",
       "      <td>7.8</td>\n",
       "      <td>7.7</td>\n",
       "      <td>42294</td>\n",
       "      <td>146408305</td>\n",
       "      <td>3.536241e+08</td>\n",
       "      <td>42294</td>\n",
       "      <td>Sci-Fi</td>\n",
       "    </tr>\n",
       "    <tr>\n",
       "      <th>348</th>\n",
       "      <td>32217</td>\n",
       "      <td>Zootopia (2016)</td>\n",
       "      <td>8.1</td>\n",
       "      <td>309474</td>\n",
       "      <td>78</td>\n",
       "      <td>150000000.0</td>\n",
       "      <td>108 min</td>\n",
       "      <td>53626</td>\n",
       "      <td>70912</td>\n",
       "      <td>102352</td>\n",
       "      <td>...</td>\n",
       "      <td>8.1</td>\n",
       "      <td>7.7</td>\n",
       "      <td>7.6</td>\n",
       "      <td>8.0</td>\n",
       "      <td>8.0</td>\n",
       "      <td>32217</td>\n",
       "      <td>341268248</td>\n",
       "      <td>1.023784e+09</td>\n",
       "      <td>32217</td>\n",
       "      <td>Adventure</td>\n",
       "    </tr>\n",
       "    <tr>\n",
       "      <th>349</th>\n",
       "      <td>32217</td>\n",
       "      <td>Zootopia (2016)</td>\n",
       "      <td>8.1</td>\n",
       "      <td>309474</td>\n",
       "      <td>78</td>\n",
       "      <td>150000000.0</td>\n",
       "      <td>108 min</td>\n",
       "      <td>53626</td>\n",
       "      <td>70912</td>\n",
       "      <td>102352</td>\n",
       "      <td>...</td>\n",
       "      <td>8.1</td>\n",
       "      <td>7.7</td>\n",
       "      <td>7.6</td>\n",
       "      <td>8.0</td>\n",
       "      <td>8.0</td>\n",
       "      <td>32217</td>\n",
       "      <td>341268248</td>\n",
       "      <td>1.023784e+09</td>\n",
       "      <td>32217</td>\n",
       "      <td>Animation</td>\n",
       "    </tr>\n",
       "    <tr>\n",
       "      <th>350</th>\n",
       "      <td>32217</td>\n",
       "      <td>Zootopia (2016)</td>\n",
       "      <td>8.1</td>\n",
       "      <td>309474</td>\n",
       "      <td>78</td>\n",
       "      <td>150000000.0</td>\n",
       "      <td>108 min</td>\n",
       "      <td>53626</td>\n",
       "      <td>70912</td>\n",
       "      <td>102352</td>\n",
       "      <td>...</td>\n",
       "      <td>8.1</td>\n",
       "      <td>7.7</td>\n",
       "      <td>7.6</td>\n",
       "      <td>8.0</td>\n",
       "      <td>8.0</td>\n",
       "      <td>32217</td>\n",
       "      <td>341268248</td>\n",
       "      <td>1.023784e+09</td>\n",
       "      <td>32217</td>\n",
       "      <td>Comedy</td>\n",
       "    </tr>\n",
       "  </tbody>\n",
       "</table>\n",
       "<p>351 rows × 57 columns</p>\n",
       "</div>"
      ],
      "text/plain": [
       "    Movie_id                      Title  Rating  TotalVotes MetaCritic  \\\n",
       "0      36809    12 Years a Slave (2013)     8.1      496092         96   \n",
       "1      36809    12 Years a Slave (2013)     8.1      496092         96   \n",
       "2      36809    12 Years a Slave (2013)     8.1      496092         96   \n",
       "3      30114           127 Hours (2010)     7.6      297075         82   \n",
       "4      30114           127 Hours (2010)     7.6      297075         82   \n",
       "..       ...                        ...     ...         ...        ...   \n",
       "346    42294  X-Men: First Class (2011)     7.8      556713         65   \n",
       "347    42294  X-Men: First Class (2011)     7.8      556713         65   \n",
       "348    32217            Zootopia (2016)     8.1      309474         78   \n",
       "349    32217            Zootopia (2016)     8.1      309474         78   \n",
       "350    32217            Zootopia (2016)     8.1      309474         78   \n",
       "\n",
       "          Budget  Runtime CVotes10 CVotes09 CVotes08  ... Votes45AF VotesIMDB  \\\n",
       "0     20000000.0  134 min    75556   126223   161460  ...       8.1       8.0   \n",
       "1     20000000.0  134 min    75556   126223   161460  ...       8.1       8.0   \n",
       "2     20000000.0  134 min    75556   126223   161460  ...       8.1       8.0   \n",
       "3     18000000.0   94 min    28939    44110    98845  ...       7.5       7.6   \n",
       "4     18000000.0   94 min    28939    44110    98845  ...       7.5       7.6   \n",
       "..           ...      ...      ...      ...      ...  ...       ...       ...   \n",
       "346  160000000.0  132 min    64428    96219   200144  ...       7.7       7.6   \n",
       "347  160000000.0  132 min    64428    96219   200144  ...       7.7       7.6   \n",
       "348  150000000.0  108 min    53626    70912   102352  ...       8.1       7.7   \n",
       "349  150000000.0  108 min    53626    70912   102352  ...       8.1       7.7   \n",
       "350  150000000.0  108 min    53626    70912   102352  ...       8.1       7.7   \n",
       "\n",
       "    Votes1000 VotesUS VotesnUS Movie_id   Domestic     Worldwide Movie_id  \\\n",
       "0         7.7     8.3      8.0    36809   56671993  1.877332e+08    36809   \n",
       "1         7.7     8.3      8.0    36809   56671993  1.877332e+08    36809   \n",
       "2         7.7     8.3      8.0    36809   56671993  1.877332e+08    36809   \n",
       "3         7.0     7.7      7.6    30114   18335230  6.073880e+07    30114   \n",
       "4         7.0     7.7      7.6    30114   18335230  6.073880e+07    30114   \n",
       "..        ...     ...      ...      ...        ...           ...      ...   \n",
       "346       7.3     7.8      7.7    42294  146408305  3.536241e+08    42294   \n",
       "347       7.3     7.8      7.7    42294  146408305  3.536241e+08    42294   \n",
       "348       7.6     8.0      8.0    32217  341268248  1.023784e+09    32217   \n",
       "349       7.6     8.0      8.0    32217  341268248  1.023784e+09    32217   \n",
       "350       7.6     8.0      8.0    32217  341268248  1.023784e+09    32217   \n",
       "\n",
       "         genre  \n",
       "0    Biography  \n",
       "1        Drama  \n",
       "2      History  \n",
       "3    Adventure  \n",
       "4    Biography  \n",
       "..         ...  \n",
       "346  Adventure  \n",
       "347     Sci-Fi  \n",
       "348  Adventure  \n",
       "349  Animation  \n",
       "350     Comedy  \n",
       "\n",
       "[351 rows x 57 columns]"
      ]
     },
     "execution_count": 474,
     "metadata": {},
     "output_type": "execute_result"
    }
   ],
   "source": [
    "df"
   ]
  },
  {
   "cell_type": "code",
   "execution_count": 479,
   "id": "628e93a0",
   "metadata": {},
   "outputs": [],
   "source": [
    "df['Total Earning']=df.Worldwide+df.Domestic"
   ]
  },
  {
   "cell_type": "code",
   "execution_count": 484,
   "id": "23f00139",
   "metadata": {},
   "outputs": [],
   "source": [
    "resultDf=df.groupby('genre')['Total Earning'].sum()"
   ]
  },
  {
   "cell_type": "code",
   "execution_count": 486,
   "id": "a39e04ab",
   "metadata": {},
   "outputs": [],
   "source": [
    "resultDf.drop('', inplace=True)"
   ]
  },
  {
   "cell_type": "code",
   "execution_count": 494,
   "id": "d2b3c339",
   "metadata": {},
   "outputs": [],
   "source": [
    "totalSum=sum(resultDf)"
   ]
  },
  {
   "cell_type": "code",
   "execution_count": 499,
   "id": "fc67cab8",
   "metadata": {},
   "outputs": [],
   "source": [
    "resultDf=round((resultDf/totalSum)*100,2)"
   ]
  },
  {
   "cell_type": "code",
   "execution_count": 500,
   "id": "7de3c462",
   "metadata": {},
   "outputs": [],
   "source": [
    "plt.pie?"
   ]
  },
  {
   "cell_type": "code",
   "execution_count": 502,
   "id": "a93d62d5",
   "metadata": {},
   "outputs": [
    {
     "data": {
      "image/png": "[encoded data removed]",
      "text/plain": [
       "<Figure size 432x288 with 1 Axes>"
      ]
     },
     "metadata": {},
     "output_type": "display_data"
    }
   ],
   "source": [
    "import matplotlib.pyplot as plt\n",
    "\n",
    "plt.pie(resultDf.values, labels=resultDf.index, rotatelabels='45')\n",
    "\n",
    "plt.show()"
   ]
  },
  {
   "cell_type": "markdown",
   "id": "9132b8c3",
   "metadata": {},
   "source": [
    "### Ques. Specific Genre"
   ]
  },
  {
   "cell_type": "code",
   "execution_count": 570,
   "id": "6e3d7b4e",
   "metadata": {},
   "outputs": [],
   "source": [
    "import sqlite3\n",
    "import pandas"
   ]
  },
  {
   "cell_type": "code",
   "execution_count": 571,
   "id": "d9397955",
   "metadata": {},
   "outputs": [],
   "source": [
    "db=sqlite3.connect('IMDB.sqlite')"
   ]
  },
  {
   "cell_type": "code",
   "execution_count": 572,
   "id": "0ed11c9f",
   "metadata": {},
   "outputs": [],
   "source": [
    "df=pd.read_sql_query('Select * from IMDB inner join earning on IMDB.Movie_id=earning.Movie_id inner join genre on earning.Movie_id=genre.Movie_id',db)"
   ]
  },
  {
   "cell_type": "code",
   "execution_count": 573,
   "id": "e4a61b5f",
   "metadata": {},
   "outputs": [],
   "source": [
    "resultDF=df[(df['genre']=='Sci-Fi') | (df['genre']=='Mystery') ]"
   ]
  },
  {
   "cell_type": "code",
   "execution_count": 574,
   "id": "8084c968",
   "metadata": {},
   "outputs": [],
   "source": [
    "groupDF=resultDF.groupby('Title')['genre'].sum()"
   ]
  },
  {
   "cell_type": "code",
   "execution_count": 575,
   "id": "d823fd0c",
   "metadata": {},
   "outputs": [
    {
     "data": {
      "text/plain": [
       "Title\n",
       "Arrival (2016)       MysterySci-Fi\n",
       "Ex Machina (2014)    MysterySci-Fi\n",
       "Name: genre, dtype: object"
      ]
     },
     "execution_count": 575,
     "metadata": {},
     "output_type": "execute_result"
    }
   ],
   "source": [
    "groupDF[groupDF=='MysterySci-Fi']"
   ]
  },
  {
   "cell_type": "code",
   "execution_count": 576,
   "id": "01deb659",
   "metadata": {},
   "outputs": [
    {
     "data": {
      "text/html": [
       "<div>\n",
       "<style scoped>\n",
       "    .dataframe tbody tr th:only-of-type {\n",
       "        vertical-align: middle;\n",
       "    }\n",
       "\n",
       "    .dataframe tbody tr th {\n",
       "        vertical-align: top;\n",
       "    }\n",
       "\n",
       "    .dataframe thead th {\n",
       "        text-align: right;\n",
       "    }\n",
       "</style>\n",
       "<table border=\"1\" class=\"dataframe\">\n",
       "  <thead>\n",
       "    <tr style=\"text-align: right;\">\n",
       "      <th></th>\n",
       "      <th>Movie_id</th>\n",
       "      <th>Title</th>\n",
       "      <th>Rating</th>\n",
       "      <th>TotalVotes</th>\n",
       "      <th>MetaCritic</th>\n",
       "      <th>Budget</th>\n",
       "      <th>Runtime</th>\n",
       "      <th>CVotes10</th>\n",
       "      <th>CVotes09</th>\n",
       "      <th>CVotes08</th>\n",
       "      <th>...</th>\n",
       "      <th>Votes45AF</th>\n",
       "      <th>VotesIMDB</th>\n",
       "      <th>Votes1000</th>\n",
       "      <th>VotesUS</th>\n",
       "      <th>VotesnUS</th>\n",
       "      <th>Movie_id</th>\n",
       "      <th>Domestic</th>\n",
       "      <th>Worldwide</th>\n",
       "      <th>Movie_id</th>\n",
       "      <th>genre</th>\n",
       "    </tr>\n",
       "  </thead>\n",
       "  <tbody>\n",
       "    <tr>\n",
       "      <th>19</th>\n",
       "      <td>31722</td>\n",
       "      <td>Arrival (2016)</td>\n",
       "      <td>8.0</td>\n",
       "      <td>370842</td>\n",
       "      <td>81</td>\n",
       "      <td>47000000.0</td>\n",
       "      <td>116 min</td>\n",
       "      <td>55533</td>\n",
       "      <td>87850</td>\n",
       "      <td>109536</td>\n",
       "      <td>...</td>\n",
       "      <td>7.7</td>\n",
       "      <td>8.3</td>\n",
       "      <td>7.3</td>\n",
       "      <td>8.0</td>\n",
       "      <td>7.9</td>\n",
       "      <td>31722</td>\n",
       "      <td>100546139</td>\n",
       "      <td>2.033882e+08</td>\n",
       "      <td>31722</td>\n",
       "      <td>Mystery</td>\n",
       "    </tr>\n",
       "    <tr>\n",
       "      <th>20</th>\n",
       "      <td>31722</td>\n",
       "      <td>Arrival (2016)</td>\n",
       "      <td>8.0</td>\n",
       "      <td>370842</td>\n",
       "      <td>81</td>\n",
       "      <td>47000000.0</td>\n",
       "      <td>116 min</td>\n",
       "      <td>55533</td>\n",
       "      <td>87850</td>\n",
       "      <td>109536</td>\n",
       "      <td>...</td>\n",
       "      <td>7.7</td>\n",
       "      <td>8.3</td>\n",
       "      <td>7.3</td>\n",
       "      <td>8.0</td>\n",
       "      <td>7.9</td>\n",
       "      <td>31722</td>\n",
       "      <td>100546139</td>\n",
       "      <td>2.033882e+08</td>\n",
       "      <td>31722</td>\n",
       "      <td>Sci-Fi</td>\n",
       "    </tr>\n",
       "    <tr>\n",
       "      <th>41</th>\n",
       "      <td>49590</td>\n",
       "      <td>Captain America: Civil War (2016)</td>\n",
       "      <td>7.9</td>\n",
       "      <td>431555</td>\n",
       "      <td>75</td>\n",
       "      <td>250000000.0</td>\n",
       "      <td>147 min</td>\n",
       "      <td>81893</td>\n",
       "      <td>90156</td>\n",
       "      <td>117188</td>\n",
       "      <td>...</td>\n",
       "      <td>7.9</td>\n",
       "      <td>7.7</td>\n",
       "      <td>7.5</td>\n",
       "      <td>8.1</td>\n",
       "      <td>7.7</td>\n",
       "      <td>49590</td>\n",
       "      <td>408084349</td>\n",
       "      <td>1.153304e+09</td>\n",
       "      <td>49590</td>\n",
       "      <td>Sci-Fi</td>\n",
       "    </tr>\n",
       "    <tr>\n",
       "      <th>44</th>\n",
       "      <td>12560</td>\n",
       "      <td>Captain America: The Winter Soldier (2014)</td>\n",
       "      <td>7.8</td>\n",
       "      <td>552706</td>\n",
       "      <td>70</td>\n",
       "      <td>170000000.0</td>\n",
       "      <td>136 min</td>\n",
       "      <td>84943</td>\n",
       "      <td>103896</td>\n",
       "      <td>169440</td>\n",
       "      <td>...</td>\n",
       "      <td>7.8</td>\n",
       "      <td>7.6</td>\n",
       "      <td>7.5</td>\n",
       "      <td>8.1</td>\n",
       "      <td>7.5</td>\n",
       "      <td>12560</td>\n",
       "      <td>259766572</td>\n",
       "      <td>7.142643e+08</td>\n",
       "      <td>12560</td>\n",
       "      <td>Sci-Fi</td>\n",
       "    </tr>\n",
       "    <tr>\n",
       "      <th>83</th>\n",
       "      <td>33884</td>\n",
       "      <td>Edge of Tomorrow (2014)</td>\n",
       "      <td>7.9</td>\n",
       "      <td>480513</td>\n",
       "      <td>71</td>\n",
       "      <td>178000000.0</td>\n",
       "      <td>113 min</td>\n",
       "      <td>60383</td>\n",
       "      <td>99596</td>\n",
       "      <td>175961</td>\n",
       "      <td>...</td>\n",
       "      <td>7.8</td>\n",
       "      <td>8.1</td>\n",
       "      <td>7.5</td>\n",
       "      <td>8.0</td>\n",
       "      <td>7.8</td>\n",
       "      <td>33884</td>\n",
       "      <td>100206256</td>\n",
       "      <td>3.705413e+08</td>\n",
       "      <td>33884</td>\n",
       "      <td>Sci-Fi</td>\n",
       "    </tr>\n",
       "    <tr>\n",
       "      <th>88</th>\n",
       "      <td>30161</td>\n",
       "      <td>Ex Machina (2014)</td>\n",
       "      <td>7.7</td>\n",
       "      <td>348550</td>\n",
       "      <td>78</td>\n",
       "      <td>15000000.0</td>\n",
       "      <td>108 min</td>\n",
       "      <td>29780</td>\n",
       "      <td>64769</td>\n",
       "      <td>123938</td>\n",
       "      <td>...</td>\n",
       "      <td>7.4</td>\n",
       "      <td>8.2</td>\n",
       "      <td>7.5</td>\n",
       "      <td>7.9</td>\n",
       "      <td>7.7</td>\n",
       "      <td>30161</td>\n",
       "      <td>25442958</td>\n",
       "      <td>3.686941e+07</td>\n",
       "      <td>30161</td>\n",
       "      <td>Mystery</td>\n",
       "    </tr>\n",
       "    <tr>\n",
       "      <th>89</th>\n",
       "      <td>30161</td>\n",
       "      <td>Ex Machina (2014)</td>\n",
       "      <td>7.7</td>\n",
       "      <td>348550</td>\n",
       "      <td>78</td>\n",
       "      <td>15000000.0</td>\n",
       "      <td>108 min</td>\n",
       "      <td>29780</td>\n",
       "      <td>64769</td>\n",
       "      <td>123938</td>\n",
       "      <td>...</td>\n",
       "      <td>7.4</td>\n",
       "      <td>8.2</td>\n",
       "      <td>7.5</td>\n",
       "      <td>7.9</td>\n",
       "      <td>7.7</td>\n",
       "      <td>30161</td>\n",
       "      <td>25442958</td>\n",
       "      <td>3.686941e+07</td>\n",
       "      <td>30161</td>\n",
       "      <td>Sci-Fi</td>\n",
       "    </tr>\n",
       "    <tr>\n",
       "      <th>98</th>\n",
       "      <td>13277</td>\n",
       "      <td>Gone Girl (2014)</td>\n",
       "      <td>8.1</td>\n",
       "      <td>649474</td>\n",
       "      <td>79</td>\n",
       "      <td>61000000.0</td>\n",
       "      <td>149 min</td>\n",
       "      <td>89539</td>\n",
       "      <td>177373</td>\n",
       "      <td>218018</td>\n",
       "      <td>...</td>\n",
       "      <td>7.7</td>\n",
       "      <td>8.2</td>\n",
       "      <td>7.6</td>\n",
       "      <td>8.1</td>\n",
       "      <td>8.1</td>\n",
       "      <td>13277</td>\n",
       "      <td>167767189</td>\n",
       "      <td>3.693304e+08</td>\n",
       "      <td>13277</td>\n",
       "      <td>Mystery</td>\n",
       "    </tr>\n",
       "    <tr>\n",
       "      <th>100</th>\n",
       "      <td>30401</td>\n",
       "      <td>Gravity (2013)</td>\n",
       "      <td>7.8</td>\n",
       "      <td>630890</td>\n",
       "      <td>96</td>\n",
       "      <td>100000000.0</td>\n",
       "      <td>91 min</td>\n",
       "      <td>89986</td>\n",
       "      <td>127616</td>\n",
       "      <td>169693</td>\n",
       "      <td>...</td>\n",
       "      <td>7.5</td>\n",
       "      <td>8.4</td>\n",
       "      <td>7.5</td>\n",
       "      <td>7.9</td>\n",
       "      <td>7.8</td>\n",
       "      <td>30401</td>\n",
       "      <td>274092705</td>\n",
       "      <td>7.231927e+08</td>\n",
       "      <td>30401</td>\n",
       "      <td>Sci-Fi</td>\n",
       "    </tr>\n",
       "    <tr>\n",
       "      <th>104</th>\n",
       "      <td>11289</td>\n",
       "      <td>Guardians of the Galaxy (2014)</td>\n",
       "      <td>8.1</td>\n",
       "      <td>778220</td>\n",
       "      <td>76</td>\n",
       "      <td>170000000.0</td>\n",
       "      <td>121 min</td>\n",
       "      <td>156606</td>\n",
       "      <td>185326</td>\n",
       "      <td>216876</td>\n",
       "      <td>...</td>\n",
       "      <td>8.0</td>\n",
       "      <td>8.3</td>\n",
       "      <td>7.6</td>\n",
       "      <td>8.3</td>\n",
       "      <td>7.9</td>\n",
       "      <td>11289</td>\n",
       "      <td>333176600</td>\n",
       "      <td>7.733286e+08</td>\n",
       "      <td>11289</td>\n",
       "      <td>Sci-Fi</td>\n",
       "    </tr>\n",
       "    <tr>\n",
       "      <th>116</th>\n",
       "      <td>21768</td>\n",
       "      <td>Her (2013)</td>\n",
       "      <td>8.0</td>\n",
       "      <td>398431</td>\n",
       "      <td>90</td>\n",
       "      <td>23000000.0</td>\n",
       "      <td>126 min</td>\n",
       "      <td>61098</td>\n",
       "      <td>95920</td>\n",
       "      <td>117761</td>\n",
       "      <td>...</td>\n",
       "      <td>7.0</td>\n",
       "      <td>7.7</td>\n",
       "      <td>7.3</td>\n",
       "      <td>8.1</td>\n",
       "      <td>7.9</td>\n",
       "      <td>21768</td>\n",
       "      <td>25568251</td>\n",
       "      <td>4.735125e+07</td>\n",
       "      <td>21768</td>\n",
       "      <td>Sci-Fi</td>\n",
       "    </tr>\n",
       "    <tr>\n",
       "      <th>137</th>\n",
       "      <td>46824</td>\n",
       "      <td>Inception (2010)</td>\n",
       "      <td>8.8</td>\n",
       "      <td>1609713</td>\n",
       "      <td>74</td>\n",
       "      <td>160000000.0</td>\n",
       "      <td>148 min</td>\n",
       "      <td>584839</td>\n",
       "      <td>485218</td>\n",
       "      <td>304457</td>\n",
       "      <td>...</td>\n",
       "      <td>8.0</td>\n",
       "      <td>8.6</td>\n",
       "      <td>8.2</td>\n",
       "      <td>8.7</td>\n",
       "      <td>8.8</td>\n",
       "      <td>46824</td>\n",
       "      <td>292576195</td>\n",
       "      <td>8.255328e+08</td>\n",
       "      <td>46824</td>\n",
       "      <td>Sci-Fi</td>\n",
       "    </tr>\n",
       "    <tr>\n",
       "      <th>143</th>\n",
       "      <td>46900</td>\n",
       "      <td>Interstellar (2014)</td>\n",
       "      <td>8.6</td>\n",
       "      <td>1075163</td>\n",
       "      <td>74</td>\n",
       "      <td>165000000.0</td>\n",
       "      <td>169 min</td>\n",
       "      <td>394006</td>\n",
       "      <td>291172</td>\n",
       "      <td>199884</td>\n",
       "      <td>...</td>\n",
       "      <td>7.7</td>\n",
       "      <td>8.2</td>\n",
       "      <td>7.9</td>\n",
       "      <td>8.4</td>\n",
       "      <td>8.5</td>\n",
       "      <td>46900</td>\n",
       "      <td>188020017</td>\n",
       "      <td>6.751200e+08</td>\n",
       "      <td>46900</td>\n",
       "      <td>Sci-Fi</td>\n",
       "    </tr>\n",
       "    <tr>\n",
       "      <th>167</th>\n",
       "      <td>36478</td>\n",
       "      <td>Mad Max: Fury Road (2015)</td>\n",
       "      <td>8.1</td>\n",
       "      <td>649540</td>\n",
       "      <td>90</td>\n",
       "      <td>150000000.0</td>\n",
       "      <td>120 min</td>\n",
       "      <td>136194</td>\n",
       "      <td>158403</td>\n",
       "      <td>163494</td>\n",
       "      <td>...</td>\n",
       "      <td>7.2</td>\n",
       "      <td>8.6</td>\n",
       "      <td>8.0</td>\n",
       "      <td>8.2</td>\n",
       "      <td>8.0</td>\n",
       "      <td>36478</td>\n",
       "      <td>153636354</td>\n",
       "      <td>3.788583e+08</td>\n",
       "      <td>36478</td>\n",
       "      <td>Sci-Fi</td>\n",
       "    </tr>\n",
       "    <tr>\n",
       "      <th>200</th>\n",
       "      <td>37979</td>\n",
       "      <td>Prisoners (2013)</td>\n",
       "      <td>8.1</td>\n",
       "      <td>441037</td>\n",
       "      <td>74</td>\n",
       "      <td>46000000.0</td>\n",
       "      <td>153 min</td>\n",
       "      <td>57400</td>\n",
       "      <td>110853</td>\n",
       "      <td>161533</td>\n",
       "      <td>...</td>\n",
       "      <td>7.8</td>\n",
       "      <td>7.9</td>\n",
       "      <td>7.6</td>\n",
       "      <td>8.1</td>\n",
       "      <td>8.0</td>\n",
       "      <td>37979</td>\n",
       "      <td>61002302</td>\n",
       "      <td>1.221267e+08</td>\n",
       "      <td>37979</td>\n",
       "      <td>Mystery</td>\n",
       "    </tr>\n",
       "    <tr>\n",
       "      <th>203</th>\n",
       "      <td>41592</td>\n",
       "      <td>Rise of the Planet of the Apes (2011)</td>\n",
       "      <td>7.6</td>\n",
       "      <td>434037</td>\n",
       "      <td>68</td>\n",
       "      <td>90000000.0</td>\n",
       "      <td></td>\n",
       "      <td>38666</td>\n",
       "      <td>61881</td>\n",
       "      <td>150351</td>\n",
       "      <td>...</td>\n",
       "      <td>7.5</td>\n",
       "      <td>7.1</td>\n",
       "      <td>7.1</td>\n",
       "      <td>7.6</td>\n",
       "      <td>7.5</td>\n",
       "      <td>41592</td>\n",
       "      <td>176760185</td>\n",
       "      <td>4.818010e+08</td>\n",
       "      <td>41592</td>\n",
       "      <td>Sci-Fi</td>\n",
       "    </tr>\n",
       "    <tr>\n",
       "      <th>206</th>\n",
       "      <td>44253</td>\n",
       "      <td>Rogue One (2016)</td>\n",
       "      <td>7.9</td>\n",
       "      <td>349210</td>\n",
       "      <td>65</td>\n",
       "      <td>200000000.0</td>\n",
       "      <td>133 min</td>\n",
       "      <td>59090</td>\n",
       "      <td>78701</td>\n",
       "      <td>100374</td>\n",
       "      <td>...</td>\n",
       "      <td>7.8</td>\n",
       "      <td>7.9</td>\n",
       "      <td>7.5</td>\n",
       "      <td>8.0</td>\n",
       "      <td>7.7</td>\n",
       "      <td>44253</td>\n",
       "      <td>532177324</td>\n",
       "      <td>1.056057e+09</td>\n",
       "      <td>44253</td>\n",
       "      <td>Sci-Fi</td>\n",
       "    </tr>\n",
       "    <tr>\n",
       "      <th>217</th>\n",
       "      <td>36011</td>\n",
       "      <td>Shutter Island (2010)</td>\n",
       "      <td>8.1</td>\n",
       "      <td>871391</td>\n",
       "      <td>63</td>\n",
       "      <td>80000000.0</td>\n",
       "      <td>138 min</td>\n",
       "      <td>150405</td>\n",
       "      <td>230844</td>\n",
       "      <td>278844</td>\n",
       "      <td>...</td>\n",
       "      <td>7.6</td>\n",
       "      <td>7.3</td>\n",
       "      <td>7.6</td>\n",
       "      <td>7.8</td>\n",
       "      <td>8.1</td>\n",
       "      <td>36011</td>\n",
       "      <td>128012934</td>\n",
       "      <td>2.948042e+08</td>\n",
       "      <td>36011</td>\n",
       "      <td>Mystery</td>\n",
       "    </tr>\n",
       "    <tr>\n",
       "      <th>236</th>\n",
       "      <td>28919</td>\n",
       "      <td>Star Trek Into Darkness (2013)</td>\n",
       "      <td>7.8</td>\n",
       "      <td>421473</td>\n",
       "      <td>72</td>\n",
       "      <td>190000000.0</td>\n",
       "      <td>132 min</td>\n",
       "      <td>59347</td>\n",
       "      <td>81516</td>\n",
       "      <td>136088</td>\n",
       "      <td>...</td>\n",
       "      <td>8.1</td>\n",
       "      <td>7.4</td>\n",
       "      <td>7.1</td>\n",
       "      <td>7.9</td>\n",
       "      <td>7.6</td>\n",
       "      <td>28919</td>\n",
       "      <td>228778661</td>\n",
       "      <td>4.673815e+08</td>\n",
       "      <td>28919</td>\n",
       "      <td>Sci-Fi</td>\n",
       "    </tr>\n",
       "    <tr>\n",
       "      <th>251</th>\n",
       "      <td>10454</td>\n",
       "      <td>The Avengers (2012)</td>\n",
       "      <td>8.1</td>\n",
       "      <td>1056773</td>\n",
       "      <td>69</td>\n",
       "      <td>220000000.0</td>\n",
       "      <td>143 min</td>\n",
       "      <td>260257</td>\n",
       "      <td>234203</td>\n",
       "      <td>264290</td>\n",
       "      <td>...</td>\n",
       "      <td>8.1</td>\n",
       "      <td>7.9</td>\n",
       "      <td>7.4</td>\n",
       "      <td>8.3</td>\n",
       "      <td>7.9</td>\n",
       "      <td>10454</td>\n",
       "      <td>623357910</td>\n",
       "      <td>1.518813e+09</td>\n",
       "      <td>10454</td>\n",
       "      <td>Sci-Fi</td>\n",
       "    </tr>\n",
       "    <tr>\n",
       "      <th>269</th>\n",
       "      <td>28130</td>\n",
       "      <td>The Girl with the Dragon Tattoo (2011)</td>\n",
       "      <td>7.8</td>\n",
       "      <td>352566</td>\n",
       "      <td>71</td>\n",
       "      <td>90000000.0</td>\n",
       "      <td>158 min</td>\n",
       "      <td>42288</td>\n",
       "      <td>71561</td>\n",
       "      <td>124463</td>\n",
       "      <td>...</td>\n",
       "      <td>7.9</td>\n",
       "      <td>7.9</td>\n",
       "      <td>7.4</td>\n",
       "      <td>8.0</td>\n",
       "      <td>7.8</td>\n",
       "      <td>28130</td>\n",
       "      <td>102515793</td>\n",
       "      <td>2.326174e+08</td>\n",
       "      <td>28130</td>\n",
       "      <td>Mystery</td>\n",
       "    </tr>\n",
       "    <tr>\n",
       "      <th>284</th>\n",
       "      <td>41963</td>\n",
       "      <td>The Hunger Games: Catching Fire (2013)</td>\n",
       "      <td>7.6</td>\n",
       "      <td>531466</td>\n",
       "      <td>76</td>\n",
       "      <td>130000000.0</td>\n",
       "      <td>146 min</td>\n",
       "      <td>85219</td>\n",
       "      <td>83874</td>\n",
       "      <td>150153</td>\n",
       "      <td>...</td>\n",
       "      <td>7.9</td>\n",
       "      <td>7.3</td>\n",
       "      <td>6.7</td>\n",
       "      <td>7.7</td>\n",
       "      <td>7.4</td>\n",
       "      <td>41963</td>\n",
       "      <td>424668047</td>\n",
       "      <td>8.650117e+08</td>\n",
       "      <td>41963</td>\n",
       "      <td>Mystery</td>\n",
       "    </tr>\n",
       "    <tr>\n",
       "      <th>299</th>\n",
       "      <td>24887</td>\n",
       "      <td>The Martian (2015)</td>\n",
       "      <td>8.0</td>\n",
       "      <td>569347</td>\n",
       "      <td>80</td>\n",
       "      <td>108000000.0</td>\n",
       "      <td>144 min</td>\n",
       "      <td>75560</td>\n",
       "      <td>139593</td>\n",
       "      <td>200315</td>\n",
       "      <td>...</td>\n",
       "      <td>8.2</td>\n",
       "      <td>8.2</td>\n",
       "      <td>7.8</td>\n",
       "      <td>8.1</td>\n",
       "      <td>7.9</td>\n",
       "      <td>24887</td>\n",
       "      <td>228433663</td>\n",
       "      <td>6.301619e+08</td>\n",
       "      <td>24887</td>\n",
       "      <td>Sci-Fi</td>\n",
       "    </tr>\n",
       "    <tr>\n",
       "      <th>344</th>\n",
       "      <td>27783</td>\n",
       "      <td>X-Men: Days of Future Past (2014)</td>\n",
       "      <td>8.0</td>\n",
       "      <td>560736</td>\n",
       "      <td>74</td>\n",
       "      <td>200000000.0</td>\n",
       "      <td>132 min</td>\n",
       "      <td>91765</td>\n",
       "      <td>127521</td>\n",
       "      <td>183578</td>\n",
       "      <td>...</td>\n",
       "      <td>7.9</td>\n",
       "      <td>7.5</td>\n",
       "      <td>7.4</td>\n",
       "      <td>8.1</td>\n",
       "      <td>7.9</td>\n",
       "      <td>27783</td>\n",
       "      <td>233921534</td>\n",
       "      <td>7.478628e+08</td>\n",
       "      <td>27783</td>\n",
       "      <td>Sci-Fi</td>\n",
       "    </tr>\n",
       "    <tr>\n",
       "      <th>347</th>\n",
       "      <td>42294</td>\n",
       "      <td>X-Men: First Class (2011)</td>\n",
       "      <td>7.8</td>\n",
       "      <td>556713</td>\n",
       "      <td>65</td>\n",
       "      <td>160000000.0</td>\n",
       "      <td>132 min</td>\n",
       "      <td>64428</td>\n",
       "      <td>96219</td>\n",
       "      <td>200144</td>\n",
       "      <td>...</td>\n",
       "      <td>7.7</td>\n",
       "      <td>7.6</td>\n",
       "      <td>7.3</td>\n",
       "      <td>7.8</td>\n",
       "      <td>7.7</td>\n",
       "      <td>42294</td>\n",
       "      <td>146408305</td>\n",
       "      <td>3.536241e+08</td>\n",
       "      <td>42294</td>\n",
       "      <td>Sci-Fi</td>\n",
       "    </tr>\n",
       "  </tbody>\n",
       "</table>\n",
       "<p>25 rows × 57 columns</p>\n",
       "</div>"
      ],
      "text/plain": [
       "    Movie_id                                       Title  Rating  TotalVotes  \\\n",
       "19     31722                              Arrival (2016)     8.0      370842   \n",
       "20     31722                              Arrival (2016)     8.0      370842   \n",
       "41     49590           Captain America: Civil War (2016)     7.9      431555   \n",
       "44     12560  Captain America: The Winter Soldier (2014)     7.8      552706   \n",
       "83     33884                     Edge of Tomorrow (2014)     7.9      480513   \n",
       "88     30161                           Ex Machina (2014)     7.7      348550   \n",
       "89     30161                           Ex Machina (2014)     7.7      348550   \n",
       "98     13277                            Gone Girl (2014)     8.1      649474   \n",
       "100    30401                              Gravity (2013)     7.8      630890   \n",
       "104    11289              Guardians of the Galaxy (2014)     8.1      778220   \n",
       "116    21768                                  Her (2013)     8.0      398431   \n",
       "137    46824                            Inception (2010)     8.8     1609713   \n",
       "143    46900                         Interstellar (2014)     8.6     1075163   \n",
       "167    36478                   Mad Max: Fury Road (2015)     8.1      649540   \n",
       "200    37979                            Prisoners (2013)     8.1      441037   \n",
       "203    41592       Rise of the Planet of the Apes (2011)     7.6      434037   \n",
       "206    44253                            Rogue One (2016)     7.9      349210   \n",
       "217    36011                       Shutter Island (2010)     8.1      871391   \n",
       "236    28919              Star Trek Into Darkness (2013)     7.8      421473   \n",
       "251    10454                         The Avengers (2012)     8.1     1056773   \n",
       "269    28130      The Girl with the Dragon Tattoo (2011)     7.8      352566   \n",
       "284    41963      The Hunger Games: Catching Fire (2013)     7.6      531466   \n",
       "299    24887                          The Martian (2015)     8.0      569347   \n",
       "344    27783           X-Men: Days of Future Past (2014)     8.0      560736   \n",
       "347    42294                   X-Men: First Class (2011)     7.8      556713   \n",
       "\n",
       "    MetaCritic       Budget  Runtime CVotes10 CVotes09 CVotes08  ...  \\\n",
       "19          81   47000000.0  116 min    55533    87850   109536  ...   \n",
       "20          81   47000000.0  116 min    55533    87850   109536  ...   \n",
       "41          75  250000000.0  147 min    81893    90156   117188  ...   \n",
       "44          70  170000000.0  136 min    84943   103896   169440  ...   \n",
       "83          71  178000000.0  113 min    60383    99596   175961  ...   \n",
       "88          78   15000000.0  108 min    29780    64769   123938  ...   \n",
       "89          78   15000000.0  108 min    29780    64769   123938  ...   \n",
       "98          79   61000000.0  149 min    89539   177373   218018  ...   \n",
       "100         96  100000000.0   91 min    89986   127616   169693  ...   \n",
       "104         76  170000000.0  121 min   156606   185326   216876  ...   \n",
       "116         90   23000000.0  126 min    61098    95920   117761  ...   \n",
       "137         74  160000000.0  148 min   584839   485218   304457  ...   \n",
       "143         74  165000000.0  169 min   394006   291172   199884  ...   \n",
       "167         90  150000000.0  120 min   136194   158403   163494  ...   \n",
       "200         74   46000000.0  153 min    57400   110853   161533  ...   \n",
       "203         68   90000000.0             38666    61881   150351  ...   \n",
       "206         65  200000000.0  133 min    59090    78701   100374  ...   \n",
       "217         63   80000000.0  138 min   150405   230844   278844  ...   \n",
       "236         72  190000000.0  132 min    59347    81516   136088  ...   \n",
       "251         69  220000000.0  143 min   260257   234203   264290  ...   \n",
       "269         71   90000000.0  158 min    42288    71561   124463  ...   \n",
       "284         76  130000000.0  146 min    85219    83874   150153  ...   \n",
       "299         80  108000000.0  144 min    75560   139593   200315  ...   \n",
       "344         74  200000000.0  132 min    91765   127521   183578  ...   \n",
       "347         65  160000000.0  132 min    64428    96219   200144  ...   \n",
       "\n",
       "    Votes45AF VotesIMDB Votes1000 VotesUS VotesnUS Movie_id   Domestic  \\\n",
       "19        7.7       8.3       7.3     8.0      7.9    31722  100546139   \n",
       "20        7.7       8.3       7.3     8.0      7.9    31722  100546139   \n",
       "41        7.9       7.7       7.5     8.1      7.7    49590  408084349   \n",
       "44        7.8       7.6       7.5     8.1      7.5    12560  259766572   \n",
       "83        7.8       8.1       7.5     8.0      7.8    33884  100206256   \n",
       "88        7.4       8.2       7.5     7.9      7.7    30161   25442958   \n",
       "89        7.4       8.2       7.5     7.9      7.7    30161   25442958   \n",
       "98        7.7       8.2       7.6     8.1      8.1    13277  167767189   \n",
       "100       7.5       8.4       7.5     7.9      7.8    30401  274092705   \n",
       "104       8.0       8.3       7.6     8.3      7.9    11289  333176600   \n",
       "116       7.0       7.7       7.3     8.1      7.9    21768   25568251   \n",
       "137       8.0       8.6       8.2     8.7      8.8    46824  292576195   \n",
       "143       7.7       8.2       7.9     8.4      8.5    46900  188020017   \n",
       "167       7.2       8.6       8.0     8.2      8.0    36478  153636354   \n",
       "200       7.8       7.9       7.6     8.1      8.0    37979   61002302   \n",
       "203       7.5       7.1       7.1     7.6      7.5    41592  176760185   \n",
       "206       7.8       7.9       7.5     8.0      7.7    44253  532177324   \n",
       "217       7.6       7.3       7.6     7.8      8.1    36011  128012934   \n",
       "236       8.1       7.4       7.1     7.9      7.6    28919  228778661   \n",
       "251       8.1       7.9       7.4     8.3      7.9    10454  623357910   \n",
       "269       7.9       7.9       7.4     8.0      7.8    28130  102515793   \n",
       "284       7.9       7.3       6.7     7.7      7.4    41963  424668047   \n",
       "299       8.2       8.2       7.8     8.1      7.9    24887  228433663   \n",
       "344       7.9       7.5       7.4     8.1      7.9    27783  233921534   \n",
       "347       7.7       7.6       7.3     7.8      7.7    42294  146408305   \n",
       "\n",
       "        Worldwide Movie_id    genre  \n",
       "19   2.033882e+08    31722  Mystery  \n",
       "20   2.033882e+08    31722   Sci-Fi  \n",
       "41   1.153304e+09    49590   Sci-Fi  \n",
       "44   7.142643e+08    12560   Sci-Fi  \n",
       "83   3.705413e+08    33884   Sci-Fi  \n",
       "88   3.686941e+07    30161  Mystery  \n",
       "89   3.686941e+07    30161   Sci-Fi  \n",
       "98   3.693304e+08    13277  Mystery  \n",
       "100  7.231927e+08    30401   Sci-Fi  \n",
       "104  7.733286e+08    11289   Sci-Fi  \n",
       "116  4.735125e+07    21768   Sci-Fi  \n",
       "137  8.255328e+08    46824   Sci-Fi  \n",
       "143  6.751200e+08    46900   Sci-Fi  \n",
       "167  3.788583e+08    36478   Sci-Fi  \n",
       "200  1.221267e+08    37979  Mystery  \n",
       "203  4.818010e+08    41592   Sci-Fi  \n",
       "206  1.056057e+09    44253   Sci-Fi  \n",
       "217  2.948042e+08    36011  Mystery  \n",
       "236  4.673815e+08    28919   Sci-Fi  \n",
       "251  1.518813e+09    10454   Sci-Fi  \n",
       "269  2.326174e+08    28130  Mystery  \n",
       "284  8.650117e+08    41963  Mystery  \n",
       "299  6.301619e+08    24887   Sci-Fi  \n",
       "344  7.478628e+08    27783   Sci-Fi  \n",
       "347  3.536241e+08    42294   Sci-Fi  \n",
       "\n",
       "[25 rows x 57 columns]"
      ]
     },
     "execution_count": 576,
     "metadata": {},
     "output_type": "execute_result"
    }
   ],
   "source": [
    "resultDF"
   ]
  },
  {
   "cell_type": "code",
   "execution_count": null,
   "id": "4fac56d8",
   "metadata": {},
   "outputs": [],
   "source": []
  },
  {
   "cell_type": "code",
   "execution_count": null,
   "id": "156dbab2",
   "metadata": {},
   "outputs": [],
   "source": []
  },
  {
   "cell_type": "code",
   "execution_count": null,
   "id": "9a7924f2",
   "metadata": {},
   "outputs": [],
   "source": []
  },
  {
   "cell_type": "code",
   "execution_count": null,
   "id": "e43662ea",
   "metadata": {},
   "outputs": [],
   "source": []
  },
  {
   "cell_type": "code",
   "execution_count": null,
   "id": "1b36dd87",
   "metadata": {},
   "outputs": [],
   "source": []
  }
 ],
 "metadata": {
  "kernelspec": {
   "display_name": "Python 3",
   "language": "python",
   "name": "python3"
  },
  "language_info": {
   "codemirror_mode": {
    "name": "ipython",
    "version": 3
   },
   "file_extension": ".py",
   "mimetype": "text/x-python",
   "name": "python",
   "nbconvert_exporter": "python",
   "pygments_lexer": "ipython3",
   "version": "3.8.8"
  }
 },
 "nbformat": 4,
 "nbformat_minor": 5
}
